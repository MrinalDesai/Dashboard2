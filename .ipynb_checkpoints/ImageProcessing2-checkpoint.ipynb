{
 "cells": [
  {
   "cell_type": "code",
   "execution_count": null,
   "id": "9c15258f-8b74-4405-a78a-90e343c31c41",
   "metadata": {},
   "outputs": [],
   "source": [
    "# Importing OpenCV\n",
    "import cv2\n",
    "\n",
    "# Importing numpy\n",
    "import numpy as np\n",
    "\n",
    "# Reading image\n",
    "img = cv2.imread(\"p1.jpg\",0)\n",
    "#img = cv2.imread(\"pothole4.jpg\",0)\n",
    "#img = cv2.imread(\"pothole5.jpg\",0)\n",
    "\n",
    "\n",
    "\n",
    "# Converting grayscale image to binary using thresholding\n",
    "ret, img_binary = cv2.threshold(img, 175, 255, cv2.THRESH_BINARY)\n",
    "#img_binary = (255-img_binary)\n",
    "# Displaying the original image and binary image\n",
    "cv2.imshow('Original',img)\n",
    "cv2.imshow('Binary', img_binary)\n",
    "\n",
    "cv2.waitKey(0)\n",
    "cv2.destroyAllWindows()"
   ]
  },
  {
   "cell_type": "code",
   "execution_count": null,
   "id": "120f5803-e920-4a2e-96ed-9aa7ea1e8adc",
   "metadata": {},
   "outputs": [],
   "source": [
    "# # Defining kernel\n",
    "# kernel = np.ones((1,1),dtype=np.uint8)\n",
    "# # Applying dilation operation\n",
    "# img_dilate = cv2.dilate(img_binary, kernel, iterations=1)\n",
    "# # Displaying the dilated image\n",
    "# # cv2.imshow('Dilate', img_dilate)\n",
    "# # cv2.waitKey(0)\n",
    "# # cv2.destroyAllWindows()"
   ]
  },
  {
   "cell_type": "code",
   "execution_count": null,
   "id": "a61b9b41-e121-47a6-a67c-b2a068c07df8",
   "metadata": {},
   "outputs": [],
   "source": [
    "# Defining kernel\n",
    "kernel = np.ones((2,2),dtype=np.uint8)\n",
    "# Applying erosion operation\n",
    "img_erode = cv2.erode(img_binary, kernel, iterations=5)\n",
    "# Displaying the eroded image\n",
    "# cv2.imshow('Erode', img_erode)\n",
    "# cv2.waitKey(0)\n",
    "# cv2.destroyAllWindows()"
   ]
  },
  {
   "cell_type": "code",
   "execution_count": null,
   "id": "2091c379-9ccd-4dcc-8850-6cadc4e77064",
   "metadata": {},
   "outputs": [],
   "source": [
    "# Defining kernel\n",
    "kernel = np.ones((5,5),dtype=np.uint8)\n",
    "# Applying dilation operation\n",
    "img_dilate = cv2.dilate(img_erode, kernel, iterations=20)\n",
    "# Displaying the dilated image\n",
    "# cv2.imshow('Dilate', img_dilate)\n",
    "# cv2.waitKey(0)\n",
    "# cv2.destroyAllWindows()"
   ]
  },
  {
   "cell_type": "code",
   "execution_count": null,
   "id": "5fa27674-d7c0-4eae-b0f0-819ec039c81e",
   "metadata": {},
   "outputs": [],
   "source": [
    "# Generate intermediate image; use morphological closing to keep parts of the brain together\n",
    "inter = img_dilate\n",
    "\n",
    "# Find largest contour in intermediate image\n",
    "cnts, _ = cv2.findContours(inter, cv2.RETR_EXTERNAL, cv2.CHAIN_APPROX_NONE)\n",
    "cnt = max(cnts, key=cv2.contourArea)\n",
    "\n",
    "# Output\n",
    "out = np.zeros(img.shape, np.uint8)\n",
    "cv2.drawContours(out, [cnt], -1, 255, cv2.FILLED)\n",
    "out = cv2.bitwise_and(img, out)\n",
    "\n",
    "cv2.imshow('img', img)\n",
    "cv2.imshow('inter', inter)\n",
    "#cv2.imshow('out', out)\n",
    "cv2.waitKey(0)\n",
    "cv2.destroyAllWindows()"
   ]
  },
  {
   "cell_type": "code",
   "execution_count": null,
   "id": "2c9bb339-3966-4147-8fd6-ed118d82942f",
   "metadata": {},
   "outputs": [],
   "source": []
  },
  {
   "cell_type": "code",
   "execution_count": null,
   "id": "4585c490-da05-4c8b-8326-fd026120be8a",
   "metadata": {},
   "outputs": [],
   "source": [
    "list_of_lists=list(img_dilate)"
   ]
  },
  {
   "cell_type": "code",
   "execution_count": null,
   "id": "d253c8a2-e70f-4de5-851b-a46ea247de5c",
   "metadata": {},
   "outputs": [],
   "source": [
    "flattened = [val for sublist in list_of_lists for val in sublist]"
   ]
  },
  {
   "cell_type": "code",
   "execution_count": null,
   "id": "84c0f840-95d8-49e1-b0a8-49179cc79c19",
   "metadata": {},
   "outputs": [],
   "source": [
    "flattened "
   ]
  },
  {
   "cell_type": "code",
   "execution_count": null,
   "id": "e5b132a9-afc9-46b6-8b25-7240a52c96f8",
   "metadata": {},
   "outputs": [],
   "source": [
    "np.count_nonzero(flattened  == np.uint8(1))"
   ]
  },
  {
   "cell_type": "code",
   "execution_count": 1,
   "id": "da298aba-08de-4f2e-8cc0-2f5fbb2771a7",
   "metadata": {},
   "outputs": [],
   "source": [
    "import cv2\n",
    "image = cv2.imread(\"p1.jpg\")\n",
    "cv2.imshow('image',image)\n",
    "image_edges = cv2.Canny(image,100,200)\n",
    "cv2.imshow('image_edges',image_edges)\n"
   ]
  },
  {
   "cell_type": "code",
   "execution_count": 18,
   "id": "8056d254-9209-4a2e-92f6-e2f162c96e4a",
   "metadata": {},
   "outputs": [],
   "source": [
    "# Importing OpenCV\n",
    "import cv2\n",
    "\n",
    "# Importing numpy\n",
    "import numpy as np\n",
    "\n",
    "# Reading image\n",
    "img = cv2.imread(\"p1.jpg\")\n",
    "img = cv2.imread(\"pothole5.jpg\")\n",
    "# img = cv2.imread(\"pothole4.jpg\")\n",
    "\n",
    "#img = cv2.imread(\"pothole1.jpeg\")\n",
    "\n",
    "\n",
    "img = cv2.cvtColor(img, cv2.COLOR_BGR2GRAY )\n",
    "# # # cv2.imshow(img)\n",
    "# # # #Finding edges of the image\n",
    "edge_image = cv2.Canny(img,250,200)\n",
    "cv2.imshow(\"edge_image\",edge_image)\n",
    "\n",
    "\n",
    "cv2.waitKey(0)\n",
    "cv2.destroyAllWindows()"
   ]
  },
  {
   "cell_type": "code",
   "execution_count": null,
   "id": "8da07493-99ac-4f59-8186-aea24f5191bd",
   "metadata": {},
   "outputs": [],
   "source": [
    "#Finding edges of the image\n",
    "edge_image = cv2.Canny(img,250,200)\n",
    "#showing Edged image\n",
    "cv2_imshow(edge_image)"
   ]
  }
 ],
 "metadata": {
  "kernelspec": {
   "display_name": "Python 3 (ipykernel)",
   "language": "python",
   "name": "python3"
  },
  "language_info": {
   "codemirror_mode": {
    "name": "ipython",
    "version": 3
   },
   "file_extension": ".py",
   "mimetype": "text/x-python",
   "name": "python",
   "nbconvert_exporter": "python",
   "pygments_lexer": "ipython3",
   "version": "3.12.0"
  }
 },
 "nbformat": 4,
 "nbformat_minor": 5
}
