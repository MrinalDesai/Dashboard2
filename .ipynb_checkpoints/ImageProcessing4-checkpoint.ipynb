{
 "cells": [
  {
   "cell_type": "code",
   "execution_count": 42,
   "id": "00e7702e-17f3-4b4b-94ef-cc2d309fe6ee",
   "metadata": {},
   "outputs": [],
   "source": [
    "# Importing OpenCV\n",
    "import cv2\n",
    "\n",
    "# Importing numpy\n",
    "import numpy as np\n",
    "\n",
    "\n",
    "# Reading image\n",
    "# img = cv2.imread(\"p1.jpg\")\n",
    "# img = cv2.imread(\"pothole5.jpg\")\n",
    "# img = cv2.imread(\"pothole4.jpg\")\n",
    "# img = cv2.imread(\"pothole6.jpg\")\n",
    "# img = cv2.imread(\"pothole7.jpg\")\n",
    "# img = cv2.imread(\"pothole8.jpg\")\n",
    "# img = cv2.imread(\"pothole9.jpg\")\n",
    "# #img = cv2.imread(\"pothole10.jpg\")\n",
    "# #img = cv2.imread(\"pothole11.jpg\")\n",
    "\n",
    "\n",
    "#img = cv2.imread(\"px1.jpg\")#98  372*228  121\n",
    "#img = cv2.imread(\"px2.jpg\")#559 737*506  530\n",
    "#img = cv2.imread(\"px3.jpg\")#3819 300*201 2476\n",
    "#img = cv2.imread(\"px4.jpg\")#3819 300*201 2476\n",
    "#img = cv2.imread(\"px5.jpg\")#211  392*178 202\n",
    "#img = cv2.imread(\"px6.jpg\")#211  432*280 148\n",
    "#img = cv2.imread(\"px7.jpg\")#247  395*288  173\n",
    "#img = cv2.imread(\"px8.jpg\")#115 302*211 106\n",
    "#img = cv2.imread(\"px9.jpg\")#88 357*182   216\n",
    "#img = cv2.imread(\"px10.jpg\")#290 488*335   120\n",
    "#img = cv2.imread(\"px11.jpg\")#95 325*435    49 \n",
    "#img = cv2.imread(\"px12.jpg\")#73 325*435   64 \n",
    "\n",
    "\n",
    "# image=img\n",
    "# b = image.copy()\n",
    "# # set green and red channels to 0\n",
    "# b[:, :, 1] = 0\n",
    "# b[:, :, 2] = 0\n",
    "\n",
    "\n",
    "# g = image.copy()\n",
    "# # set blue and red channels to 0\n",
    "# g[:, :, 0] = 0\n",
    "# g[:, :, 2] = 0\n",
    "\n",
    "# r = image.copy()\n",
    "# # set blue and green channels to 0\n",
    "# r[:, :, 0] = 0\n",
    "# r[:, :, 1] = 0\n",
    "# img=b\n",
    "\n",
    "\n",
    "# # # cv2.imshow(img)\n",
    "# # # #Finding edges of the image\n",
    "edge_image = cv2.Canny(img,250,200)\n",
    "# cv2.imshow(\"edge_image\",edge_image)\n",
    "\n",
    "\n",
    "# cv2.waitKey(0)\n",
    "# cv2.destroyAllWindows()"
   ]
  },
  {
   "cell_type": "code",
   "execution_count": 43,
   "id": "9cfa5163-3df1-4acb-9ee9-87894b9b5413",
   "metadata": {},
   "outputs": [],
   "source": [
    "# Defining kernel\n",
    "kernel = np.ones((2,2),dtype=np.uint8)\n",
    "# Applying dilation operation\n",
    "img_dilate = cv2.dilate(edge_image, kernel, iterations=10)\n",
    "#Displaying the dilated image\n",
    "\n",
    "img_dilate = (255-img_dilate)\n",
    "\n",
    "# cv2.imshow('Dilate', img_dilate)\n",
    "# cv2.waitKey(0)\n",
    "# cv2.destroyAllWindows()"
   ]
  },
  {
   "cell_type": "code",
   "execution_count": 44,
   "id": "f28cada5-93b6-4e8d-b6b1-2467440153fc",
   "metadata": {},
   "outputs": [],
   "source": [
    "# Defining kernel\n",
    "kernel = np.ones((2,2),dtype=np.uint8)\n",
    "# Applying erosion operation\n",
    "img_erode = cv2.erode(img_dilate, kernel, iterations=2)\n",
    "#Displaying the eroded image\n",
    "\n",
    "cv2.imshow('Erode', img_erode)\n",
    "cv2.waitKey(0)\n",
    "cv2.destroyAllWindows()"
   ]
  },
  {
   "cell_type": "code",
   "execution_count": 45,
   "id": "6641bad3-d54c-46ea-8d25-a00cce80c170",
   "metadata": {},
   "outputs": [
    {
     "data": {
      "text/plain": [
       "array([[255, 255, 255, ...,   0,   0,   0],\n",
       "       [255, 255, 255, ...,   0,   0,   0],\n",
       "       [255, 255,   0, ...,   0,   0,   0],\n",
       "       ...,\n",
       "       [  0,   0,   0, ...,   0,   0,   0],\n",
       "       [  0,   0,   0, ...,   0,   0,   0],\n",
       "       [  0,   0,   0, ...,   0,   0,   0]], dtype=uint8)"
      ]
     },
     "execution_count": 45,
     "metadata": {},
     "output_type": "execute_result"
    }
   ],
   "source": [
    "img_erode"
   ]
  },
  {
   "cell_type": "code",
   "execution_count": 46,
   "id": "2698de7a-72cc-4413-973f-7147b8f78780",
   "metadata": {},
   "outputs": [],
   "source": [
    "idi=list(img_erode)"
   ]
  },
  {
   "cell_type": "code",
   "execution_count": 47,
   "id": "30fc4a56-16d5-4da9-9cfb-5a80dbbcb528",
   "metadata": {},
   "outputs": [
    {
     "data": {
      "text/plain": [
       "numpy.ndarray"
      ]
     },
     "execution_count": 47,
     "metadata": {},
     "output_type": "execute_result"
    }
   ],
   "source": [
    "type((idi[0]))"
   ]
  },
  {
   "cell_type": "code",
   "execution_count": 48,
   "id": "c47caf5b-fb98-4fd2-a5b3-32dbcb517fa3",
   "metadata": {},
   "outputs": [],
   "source": [
    "list1 = [[i] for i in idi]"
   ]
  },
  {
   "cell_type": "code",
   "execution_count": 49,
   "id": "3d2b9027-9398-445f-afcc-daf126b21857",
   "metadata": {},
   "outputs": [],
   "source": [
    "list1=[]\n",
    "for k in idi:\n",
    "    list1.append(list(k))"
   ]
  },
  {
   "cell_type": "code",
   "execution_count": 50,
   "id": "ccfcdd4d-cc54-4fa6-a6b6-3601d22333e9",
   "metadata": {},
   "outputs": [],
   "source": [
    "list_f=[]\n",
    "list_x=[]\n",
    "for j in list1:\n",
    "  for i in j:\n",
    "          if i==np.uint8(255):\n",
    "                list_f.append(1)\n",
    "          else:\n",
    "                list_f.append(0)\n",
    "  list_x.append(list_f)"
   ]
  },
  {
   "cell_type": "code",
   "execution_count": 51,
   "id": "06c9f698-19be-44a6-976c-f19a4fde6907",
   "metadata": {},
   "outputs": [
    {
     "name": "stdout",
     "output_type": "stream",
     "text": [
      "49\n"
     ]
    }
   ],
   "source": [
    "# Python Program to find area of the largest region of 1s\n",
    "\n",
    "from collections import deque\n",
    "\n",
    "# A function to check if cell(r, c) can be included in BFS\n",
    "def isSafe(M, r, c, rows, cols):\n",
    "      \n",
    "    # row number is in range, column number is in range and\n",
    "    # value is 1\n",
    "    return (r >= 0 and r < rows) and (c >= 0 and c < cols) and (M[r][c] == 1)\n",
    "\n",
    "# Breadth-First-Search to visit all cells in the current island\n",
    "def BFS(M, r, c, rows, cols):\n",
    "      \n",
    "    # These arrays are used to get row and column\n",
    "    # numbers of 8 neighbours of a given cell\n",
    "    dirR = [-1, -1, -1, 0, 0, 1, 1, 1]\n",
    "    dirC = [-1, 0, 1, -1, 1, -1, 0, 1]\n",
    "\n",
    "    area = 0\n",
    "\n",
    "    # create a queue for bfs traversal\n",
    "    q = deque()\n",
    "\n",
    "    # Push the cell(r, c) into queue and mark it as visited\n",
    "    q.append((r, c))\n",
    "    M[r][c] = 0\n",
    "    while q:\n",
    "        curr = q.popleft()\n",
    "        \n",
    "        # Increment the area of region\n",
    "        area += 1\n",
    "\n",
    "        # Recur for all 8 connected neighbours\n",
    "        for i in range(8):\n",
    "            newR = curr[0] + dirR[i]\n",
    "            newC = curr[1] + dirC[i]\n",
    "\n",
    "            if isSafe(M, newR, newC, rows, cols):\n",
    "                M[newR][newC] = 0\n",
    "                q.append((newR, newC))\n",
    "    \n",
    "    return area\n",
    "\n",
    "# Function to find area of the largest region of 1s\n",
    "def largestRegion(M):\n",
    "    rows = len(M)\n",
    "    cols = len(M[0])\n",
    "  \n",
    "    # Initialize result as 0 and traverse through the\n",
    "    # all cells of given matrix\n",
    "    maxArea = 0\n",
    "    for i in range(rows):\n",
    "        for j in range(cols):\n",
    "            \n",
    "            # If a cell with value 1 is found\n",
    "            if M[i][j] == 1:\n",
    "                area = BFS(M, i, j, rows, cols)\n",
    "\n",
    "                # Maximize the area \n",
    "                maxArea = max(maxArea, area)\n",
    "    \n",
    "    return maxArea\n",
    "\n",
    "if __name__ == \"__main__\":\n",
    "    # M = [\n",
    "    #     [1, 0, 0, 0, 1, 0, 0],\n",
    "    #     [0, 1, 0, 0, 1, 1, 1],\n",
    "    #     [1, 1, 0, 0, 0, 0, 0],\n",
    "    #     [1, 0, 0, 1, 1, 0, 0],\n",
    "    #     [1, 0, 0, 1, 0, 1, 1]\n",
    "    # ]\n",
    "    M=list_x\n",
    "\n",
    "    print(largestRegion(M))"
   ]
  },
  {
   "cell_type": "code",
   "execution_count": null,
   "id": "354152a0-a8c0-42fa-90ed-fe7c9b69f953",
   "metadata": {},
   "outputs": [],
   "source": []
  }
 ],
 "metadata": {
  "kernelspec": {
   "display_name": "Python 3 (ipykernel)",
   "language": "python",
   "name": "python3"
  },
  "language_info": {
   "codemirror_mode": {
    "name": "ipython",
    "version": 3
   },
   "file_extension": ".py",
   "mimetype": "text/x-python",
   "name": "python",
   "nbconvert_exporter": "python",
   "pygments_lexer": "ipython3",
   "version": "3.12.0"
  }
 },
 "nbformat": 4,
 "nbformat_minor": 5
}
