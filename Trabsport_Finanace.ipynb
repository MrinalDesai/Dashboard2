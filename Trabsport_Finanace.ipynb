{
 "cells": [
  {
   "cell_type": "code",
   "execution_count": 1,
   "id": "59accac2-f8c6-4f11-99b7-41a9ef120e72",
   "metadata": {},
   "outputs": [],
   "source": [
    "import plotly.express as px \n",
    "import pandas as pd \n",
    "import numpy as np \n",
    "\n",
    "# Get some data\n",
    "df = pd.read_csv(f'datasets/finan/Year-wise Revenue Realised from Road Transport (States) from 1950-51 to 2020-21.csv')"
   ]
  },
  {
   "cell_type": "code",
   "execution_count": 6,
   "id": "6de1984d-d703-4be6-b8d7-98746a843786",
   "metadata": {},
   "outputs": [
    {
     "data": {
      "text/html": [
       "<div>\n",
       "<style scoped>\n",
       "    .dataframe tbody tr th:only-of-type {\n",
       "        vertical-align: middle;\n",
       "    }\n",
       "\n",
       "    .dataframe tbody tr th {\n",
       "        vertical-align: top;\n",
       "    }\n",
       "\n",
       "    .dataframe thead th {\n",
       "        text-align: right;\n",
       "    }\n",
       "</style>\n",
       "<table border=\"1\" class=\"dataframe\">\n",
       "  <thead>\n",
       "    <tr style=\"text-align: right;\">\n",
       "      <th></th>\n",
       "      <th>Year</th>\n",
       "      <th>Motor Vehicles Taxes and Fees</th>\n",
       "      <th>SalesTax/VAT on Motor Spirit and Lubricants</th>\n",
       "      <th>Tax on Passengers and Goods</th>\n",
       "      <th>Total</th>\n",
       "    </tr>\n",
       "  </thead>\n",
       "  <tbody>\n",
       "    <tr>\n",
       "      <th>0</th>\n",
       "      <td>1950-51</td>\n",
       "      <td>0.0</td>\n",
       "      <td>12.5</td>\n",
       "      <td>0.1</td>\n",
       "      <td>12.6</td>\n",
       "    </tr>\n",
       "    <tr>\n",
       "      <th>1</th>\n",
       "      <td>1955-56</td>\n",
       "      <td>13.9</td>\n",
       "      <td>8.9</td>\n",
       "      <td>3.0</td>\n",
       "      <td>25.8</td>\n",
       "    </tr>\n",
       "    <tr>\n",
       "      <th>2</th>\n",
       "      <td>1960-61</td>\n",
       "      <td>29.9</td>\n",
       "      <td>16.9</td>\n",
       "      <td>8.4</td>\n",
       "      <td>55.2</td>\n",
       "    </tr>\n",
       "    <tr>\n",
       "      <th>3</th>\n",
       "      <td>1965-66</td>\n",
       "      <td>61.8</td>\n",
       "      <td>31.5</td>\n",
       "      <td>33.4</td>\n",
       "      <td>126.7</td>\n",
       "    </tr>\n",
       "    <tr>\n",
       "      <th>4</th>\n",
       "      <td>1970-71</td>\n",
       "      <td>107.7</td>\n",
       "      <td>63.2</td>\n",
       "      <td>60.5</td>\n",
       "      <td>231.4</td>\n",
       "    </tr>\n",
       "  </tbody>\n",
       "</table>\n",
       "</div>"
      ],
      "text/plain": [
       "      Year  Motor Vehicles Taxes and Fees  \\\n",
       "0  1950-51                            0.0   \n",
       "1  1955-56                           13.9   \n",
       "2  1960-61                           29.9   \n",
       "3  1965-66                           61.8   \n",
       "4  1970-71                          107.7   \n",
       "\n",
       "   SalesTax/VAT on Motor Spirit and Lubricants  Tax on Passengers and Goods  \\\n",
       "0                                         12.5                          0.1   \n",
       "1                                          8.9                          3.0   \n",
       "2                                         16.9                          8.4   \n",
       "3                                         31.5                         33.4   \n",
       "4                                         63.2                         60.5   \n",
       "\n",
       "   Total  \n",
       "0   12.6  \n",
       "1   25.8  \n",
       "2   55.2  \n",
       "3  126.7  \n",
       "4  231.4  "
      ]
     },
     "execution_count": 6,
     "metadata": {},
     "output_type": "execute_result"
    }
   ],
   "source": [
    "df.head()"
   ]
  },
  {
   "cell_type": "code",
   "execution_count": 7,
   "id": "f6b939f9-a851-4717-8cf6-86307bf33f71",
   "metadata": {},
   "outputs": [
    {
     "data": {
      "text/plain": [
       "Index(['Year', 'Motor Vehicles Taxes and Fees',\n",
       "       'SalesTax/VAT on Motor Spirit and Lubricants',\n",
       "       'Tax on Passengers and Goods', 'Total'],\n",
       "      dtype='object')"
      ]
     },
     "execution_count": 7,
     "metadata": {},
     "output_type": "execute_result"
    }
   ],
   "source": [
    "df.columns\n"
   ]
  },
  {
   "cell_type": "code",
   "execution_count": 16,
   "id": "6effc916-681a-45b2-93ba-0934f843794b",
   "metadata": {},
   "outputs": [
    {
     "data": {
      "application/vnd.plotly.v1+json": {
       "config": {
        "plotlyServerURL": "https://plot.ly"
       },
       "data": [
        {
         "mode": "lines",
         "name": "Motor Vehicles Taxes and Fees",
         "type": "scatter",
         "x": [
          "1950-51",
          "1955-56",
          "1960-61",
          "1965-66",
          "1970-71",
          "1975-76",
          "1980-81",
          "1985-86",
          "1990-91",
          "1995-96",
          "1996-97",
          "1997-98",
          "1998-99",
          "1999-00",
          "2000-01",
          "2001-02",
          "2002-03",
          "2003-04",
          "2004-05",
          "2005-06",
          "2006-07",
          "2007-08",
          "2008-09",
          "2009-10 ",
          "2010-11",
          "2011-12 ",
          "2012-13",
          "2013-14 ",
          "2014-15 ",
          "2015-16",
          "2016-17",
          "2017-18",
          "2018-19 ",
          "2019-20",
          "2020-21(Revised Estimates)"
         ],
         "y": [
          0,
          13.9,
          29.9,
          61.8,
          107.7,
          209.7,
          356.3,
          835.5,
          1566.3,
          3726.3,
          4117.3,
          4853.9,
          5024,
          6153.1,
          6665.6,
          7644.4,
          8441,
          10138.2,
          10811,
          11964,
          13630.1,
          15594.9,
          17340.3,
          19637.8,
          23497.7,
          28679.7,
          35296.3,
          37304.9,
          43024.3,
          46642.7,
          53388.1,
          64914.8,
          68658.8,
          71499,
          60681.5
         ]
        },
        {
         "mode": "lines",
         "name": "SalesTax/VAT on Motor Spirit and Lubricants",
         "type": "scatter",
         "x": [
          "1950-51",
          "1955-56",
          "1960-61",
          "1965-66",
          "1970-71",
          "1975-76",
          "1980-81",
          "1985-86",
          "1990-91",
          "1995-96",
          "1996-97",
          "1997-98",
          "1998-99",
          "1999-00",
          "2000-01",
          "2001-02",
          "2002-03",
          "2003-04",
          "2004-05",
          "2005-06",
          "2006-07",
          "2007-08",
          "2008-09",
          "2009-10 ",
          "2010-11",
          "2011-12 ",
          "2012-13",
          "2013-14 ",
          "2014-15 ",
          "2015-16",
          "2016-17",
          "2017-18",
          "2018-19 ",
          "2019-20",
          "2020-21(Revised Estimates)"
         ],
         "y": [
          12.5,
          8.9,
          16.9,
          31.5,
          63.2,
          92,
          154.5,
          322,
          631.5,
          1703.8,
          2755.9,
          3502.4,
          3862.2,
          4728.8,
          4161.4,
          5645,
          5106,
          4967.5,
          6657,
          2951,
          1331.6,
          1623.2,
          8438.1,
          10017.8,
          11198.3,
          13815.7,
          null,
          null,
          null,
          null,
          null,
          null,
          null,
          null,
          null
         ]
        },
        {
         "mode": "lines",
         "name": "Tax on Passengers and Goods",
         "type": "scatter",
         "x": [
          "1950-51",
          "1955-56",
          "1960-61",
          "1965-66",
          "1970-71",
          "1975-76",
          "1980-81",
          "1985-86",
          "1990-91",
          "1995-96",
          "1996-97",
          "1997-98",
          "1998-99",
          "1999-00",
          "2000-01",
          "2001-02",
          "2002-03",
          "2003-04",
          "2004-05",
          "2005-06",
          "2006-07",
          "2007-08",
          "2008-09",
          "2009-10 ",
          "2010-11",
          "2011-12 ",
          "2012-13",
          "2013-14 ",
          "2014-15 ",
          "2015-16",
          "2016-17",
          "2017-18",
          "2018-19 ",
          "2019-20",
          "2020-21(Revised Estimates)"
         ],
         "y": [
          0.1,
          3,
          8.4,
          33.4,
          60.5,
          160.5,
          239.6,
          395.7,
          1061.8,
          1507.7,
          1662.6,
          2003.9,
          1979.2,
          2098.7,
          2074.7,
          3671.4,
          3569.3,
          4189.9,
          5206,
          6450,
          6808.3,
          6807.7,
          8462.6,
          9857,
          11296.4,
          12665.7,
          15306.4,
          19444.9,
          19606.4,
          23360.6,
          26574.1,
          13719.2,
          3540.3,
          2380.9,
          2324.8
         ]
        },
        {
         "mode": "lines",
         "name": "Total",
         "type": "scatter",
         "x": [
          "1950-51",
          "1955-56",
          "1960-61",
          "1965-66",
          "1970-71",
          "1975-76",
          "1980-81",
          "1985-86",
          "1990-91",
          "1995-96",
          "1996-97",
          "1997-98",
          "1998-99",
          "1999-00",
          "2000-01",
          "2001-02",
          "2002-03",
          "2003-04",
          "2004-05",
          "2005-06",
          "2006-07",
          "2007-08",
          "2008-09",
          "2009-10 ",
          "2010-11",
          "2011-12 ",
          "2012-13",
          "2013-14 ",
          "2014-15 ",
          "2015-16",
          "2016-17",
          "2017-18",
          "2018-19 ",
          "2019-20",
          "2020-21(Revised Estimates)"
         ],
         "y": [
          12.6,
          25.8,
          55.2,
          126.7,
          231.4,
          462.2,
          750.4,
          1553.2,
          3259.6,
          6937.8,
          8535.8,
          10360.2,
          10865.4,
          12980.6,
          12901.7,
          16960.8,
          17116.3,
          19295.6,
          22674,
          21365,
          21770,
          24025.8,
          34241,
          39512.6,
          45992.4,
          55161.1,
          50602.7,
          56749.8,
          62630.7,
          70003.3,
          79962.2,
          78634,
          72199.1,
          73879.9,
          63006.3
         ]
        }
       ],
       "layout": {
        "height": 360,
        "template": {
         "data": {
          "bar": [
           {
            "error_x": {
             "color": "#2a3f5f"
            },
            "error_y": {
             "color": "#2a3f5f"
            },
            "marker": {
             "line": {
              "color": "#E5ECF6",
              "width": 0.5
             },
             "pattern": {
              "fillmode": "overlay",
              "size": 10,
              "solidity": 0.2
             }
            },
            "type": "bar"
           }
          ],
          "barpolar": [
           {
            "marker": {
             "line": {
              "color": "#E5ECF6",
              "width": 0.5
             },
             "pattern": {
              "fillmode": "overlay",
              "size": 10,
              "solidity": 0.2
             }
            },
            "type": "barpolar"
           }
          ],
          "carpet": [
           {
            "aaxis": {
             "endlinecolor": "#2a3f5f",
             "gridcolor": "white",
             "linecolor": "white",
             "minorgridcolor": "white",
             "startlinecolor": "#2a3f5f"
            },
            "baxis": {
             "endlinecolor": "#2a3f5f",
             "gridcolor": "white",
             "linecolor": "white",
             "minorgridcolor": "white",
             "startlinecolor": "#2a3f5f"
            },
            "type": "carpet"
           }
          ],
          "choropleth": [
           {
            "colorbar": {
             "outlinewidth": 0,
             "ticks": ""
            },
            "type": "choropleth"
           }
          ],
          "contour": [
           {
            "colorbar": {
             "outlinewidth": 0,
             "ticks": ""
            },
            "colorscale": [
             [
              0,
              "#0d0887"
             ],
             [
              0.1111111111111111,
              "#46039f"
             ],
             [
              0.2222222222222222,
              "#7201a8"
             ],
             [
              0.3333333333333333,
              "#9c179e"
             ],
             [
              0.4444444444444444,
              "#bd3786"
             ],
             [
              0.5555555555555556,
              "#d8576b"
             ],
             [
              0.6666666666666666,
              "#ed7953"
             ],
             [
              0.7777777777777778,
              "#fb9f3a"
             ],
             [
              0.8888888888888888,
              "#fdca26"
             ],
             [
              1,
              "#f0f921"
             ]
            ],
            "type": "contour"
           }
          ],
          "contourcarpet": [
           {
            "colorbar": {
             "outlinewidth": 0,
             "ticks": ""
            },
            "type": "contourcarpet"
           }
          ],
          "heatmap": [
           {
            "colorbar": {
             "outlinewidth": 0,
             "ticks": ""
            },
            "colorscale": [
             [
              0,
              "#0d0887"
             ],
             [
              0.1111111111111111,
              "#46039f"
             ],
             [
              0.2222222222222222,
              "#7201a8"
             ],
             [
              0.3333333333333333,
              "#9c179e"
             ],
             [
              0.4444444444444444,
              "#bd3786"
             ],
             [
              0.5555555555555556,
              "#d8576b"
             ],
             [
              0.6666666666666666,
              "#ed7953"
             ],
             [
              0.7777777777777778,
              "#fb9f3a"
             ],
             [
              0.8888888888888888,
              "#fdca26"
             ],
             [
              1,
              "#f0f921"
             ]
            ],
            "type": "heatmap"
           }
          ],
          "heatmapgl": [
           {
            "colorbar": {
             "outlinewidth": 0,
             "ticks": ""
            },
            "colorscale": [
             [
              0,
              "#0d0887"
             ],
             [
              0.1111111111111111,
              "#46039f"
             ],
             [
              0.2222222222222222,
              "#7201a8"
             ],
             [
              0.3333333333333333,
              "#9c179e"
             ],
             [
              0.4444444444444444,
              "#bd3786"
             ],
             [
              0.5555555555555556,
              "#d8576b"
             ],
             [
              0.6666666666666666,
              "#ed7953"
             ],
             [
              0.7777777777777778,
              "#fb9f3a"
             ],
             [
              0.8888888888888888,
              "#fdca26"
             ],
             [
              1,
              "#f0f921"
             ]
            ],
            "type": "heatmapgl"
           }
          ],
          "histogram": [
           {
            "marker": {
             "pattern": {
              "fillmode": "overlay",
              "size": 10,
              "solidity": 0.2
             }
            },
            "type": "histogram"
           }
          ],
          "histogram2d": [
           {
            "colorbar": {
             "outlinewidth": 0,
             "ticks": ""
            },
            "colorscale": [
             [
              0,
              "#0d0887"
             ],
             [
              0.1111111111111111,
              "#46039f"
             ],
             [
              0.2222222222222222,
              "#7201a8"
             ],
             [
              0.3333333333333333,
              "#9c179e"
             ],
             [
              0.4444444444444444,
              "#bd3786"
             ],
             [
              0.5555555555555556,
              "#d8576b"
             ],
             [
              0.6666666666666666,
              "#ed7953"
             ],
             [
              0.7777777777777778,
              "#fb9f3a"
             ],
             [
              0.8888888888888888,
              "#fdca26"
             ],
             [
              1,
              "#f0f921"
             ]
            ],
            "type": "histogram2d"
           }
          ],
          "histogram2dcontour": [
           {
            "colorbar": {
             "outlinewidth": 0,
             "ticks": ""
            },
            "colorscale": [
             [
              0,
              "#0d0887"
             ],
             [
              0.1111111111111111,
              "#46039f"
             ],
             [
              0.2222222222222222,
              "#7201a8"
             ],
             [
              0.3333333333333333,
              "#9c179e"
             ],
             [
              0.4444444444444444,
              "#bd3786"
             ],
             [
              0.5555555555555556,
              "#d8576b"
             ],
             [
              0.6666666666666666,
              "#ed7953"
             ],
             [
              0.7777777777777778,
              "#fb9f3a"
             ],
             [
              0.8888888888888888,
              "#fdca26"
             ],
             [
              1,
              "#f0f921"
             ]
            ],
            "type": "histogram2dcontour"
           }
          ],
          "mesh3d": [
           {
            "colorbar": {
             "outlinewidth": 0,
             "ticks": ""
            },
            "type": "mesh3d"
           }
          ],
          "parcoords": [
           {
            "line": {
             "colorbar": {
              "outlinewidth": 0,
              "ticks": ""
             }
            },
            "type": "parcoords"
           }
          ],
          "pie": [
           {
            "automargin": true,
            "type": "pie"
           }
          ],
          "scatter": [
           {
            "fillpattern": {
             "fillmode": "overlay",
             "size": 10,
             "solidity": 0.2
            },
            "type": "scatter"
           }
          ],
          "scatter3d": [
           {
            "line": {
             "colorbar": {
              "outlinewidth": 0,
              "ticks": ""
             }
            },
            "marker": {
             "colorbar": {
              "outlinewidth": 0,
              "ticks": ""
             }
            },
            "type": "scatter3d"
           }
          ],
          "scattercarpet": [
           {
            "marker": {
             "colorbar": {
              "outlinewidth": 0,
              "ticks": ""
             }
            },
            "type": "scattercarpet"
           }
          ],
          "scattergeo": [
           {
            "marker": {
             "colorbar": {
              "outlinewidth": 0,
              "ticks": ""
             }
            },
            "type": "scattergeo"
           }
          ],
          "scattergl": [
           {
            "marker": {
             "colorbar": {
              "outlinewidth": 0,
              "ticks": ""
             }
            },
            "type": "scattergl"
           }
          ],
          "scattermapbox": [
           {
            "marker": {
             "colorbar": {
              "outlinewidth": 0,
              "ticks": ""
             }
            },
            "type": "scattermapbox"
           }
          ],
          "scatterpolar": [
           {
            "marker": {
             "colorbar": {
              "outlinewidth": 0,
              "ticks": ""
             }
            },
            "type": "scatterpolar"
           }
          ],
          "scatterpolargl": [
           {
            "marker": {
             "colorbar": {
              "outlinewidth": 0,
              "ticks": ""
             }
            },
            "type": "scatterpolargl"
           }
          ],
          "scatterternary": [
           {
            "marker": {
             "colorbar": {
              "outlinewidth": 0,
              "ticks": ""
             }
            },
            "type": "scatterternary"
           }
          ],
          "surface": [
           {
            "colorbar": {
             "outlinewidth": 0,
             "ticks": ""
            },
            "colorscale": [
             [
              0,
              "#0d0887"
             ],
             [
              0.1111111111111111,
              "#46039f"
             ],
             [
              0.2222222222222222,
              "#7201a8"
             ],
             [
              0.3333333333333333,
              "#9c179e"
             ],
             [
              0.4444444444444444,
              "#bd3786"
             ],
             [
              0.5555555555555556,
              "#d8576b"
             ],
             [
              0.6666666666666666,
              "#ed7953"
             ],
             [
              0.7777777777777778,
              "#fb9f3a"
             ],
             [
              0.8888888888888888,
              "#fdca26"
             ],
             [
              1,
              "#f0f921"
             ]
            ],
            "type": "surface"
           }
          ],
          "table": [
           {
            "cells": {
             "fill": {
              "color": "#EBF0F8"
             },
             "line": {
              "color": "white"
             }
            },
            "header": {
             "fill": {
              "color": "#C8D4E3"
             },
             "line": {
              "color": "white"
             }
            },
            "type": "table"
           }
          ]
         },
         "layout": {
          "annotationdefaults": {
           "arrowcolor": "#2a3f5f",
           "arrowhead": 0,
           "arrowwidth": 1
          },
          "autotypenumbers": "strict",
          "coloraxis": {
           "colorbar": {
            "outlinewidth": 0,
            "ticks": ""
           }
          },
          "colorscale": {
           "diverging": [
            [
             0,
             "#8e0152"
            ],
            [
             0.1,
             "#c51b7d"
            ],
            [
             0.2,
             "#de77ae"
            ],
            [
             0.3,
             "#f1b6da"
            ],
            [
             0.4,
             "#fde0ef"
            ],
            [
             0.5,
             "#f7f7f7"
            ],
            [
             0.6,
             "#e6f5d0"
            ],
            [
             0.7,
             "#b8e186"
            ],
            [
             0.8,
             "#7fbc41"
            ],
            [
             0.9,
             "#4d9221"
            ],
            [
             1,
             "#276419"
            ]
           ],
           "sequential": [
            [
             0,
             "#0d0887"
            ],
            [
             0.1111111111111111,
             "#46039f"
            ],
            [
             0.2222222222222222,
             "#7201a8"
            ],
            [
             0.3333333333333333,
             "#9c179e"
            ],
            [
             0.4444444444444444,
             "#bd3786"
            ],
            [
             0.5555555555555556,
             "#d8576b"
            ],
            [
             0.6666666666666666,
             "#ed7953"
            ],
            [
             0.7777777777777778,
             "#fb9f3a"
            ],
            [
             0.8888888888888888,
             "#fdca26"
            ],
            [
             1,
             "#f0f921"
            ]
           ],
           "sequentialminus": [
            [
             0,
             "#0d0887"
            ],
            [
             0.1111111111111111,
             "#46039f"
            ],
            [
             0.2222222222222222,
             "#7201a8"
            ],
            [
             0.3333333333333333,
             "#9c179e"
            ],
            [
             0.4444444444444444,
             "#bd3786"
            ],
            [
             0.5555555555555556,
             "#d8576b"
            ],
            [
             0.6666666666666666,
             "#ed7953"
            ],
            [
             0.7777777777777778,
             "#fb9f3a"
            ],
            [
             0.8888888888888888,
             "#fdca26"
            ],
            [
             1,
             "#f0f921"
            ]
           ]
          },
          "colorway": [
           "#636efa",
           "#EF553B",
           "#00cc96",
           "#ab63fa",
           "#FFA15A",
           "#19d3f3",
           "#FF6692",
           "#B6E880",
           "#FF97FF",
           "#FECB52"
          ],
          "font": {
           "color": "#2a3f5f"
          },
          "geo": {
           "bgcolor": "white",
           "lakecolor": "white",
           "landcolor": "#E5ECF6",
           "showlakes": true,
           "showland": true,
           "subunitcolor": "white"
          },
          "hoverlabel": {
           "align": "left"
          },
          "hovermode": "closest",
          "mapbox": {
           "style": "light"
          },
          "paper_bgcolor": "white",
          "plot_bgcolor": "#E5ECF6",
          "polar": {
           "angularaxis": {
            "gridcolor": "white",
            "linecolor": "white",
            "ticks": ""
           },
           "bgcolor": "#E5ECF6",
           "radialaxis": {
            "gridcolor": "white",
            "linecolor": "white",
            "ticks": ""
           }
          },
          "scene": {
           "xaxis": {
            "backgroundcolor": "#E5ECF6",
            "gridcolor": "white",
            "gridwidth": 2,
            "linecolor": "white",
            "showbackground": true,
            "ticks": "",
            "zerolinecolor": "white"
           },
           "yaxis": {
            "backgroundcolor": "#E5ECF6",
            "gridcolor": "white",
            "gridwidth": 2,
            "linecolor": "white",
            "showbackground": true,
            "ticks": "",
            "zerolinecolor": "white"
           },
           "zaxis": {
            "backgroundcolor": "#E5ECF6",
            "gridcolor": "white",
            "gridwidth": 2,
            "linecolor": "white",
            "showbackground": true,
            "ticks": "",
            "zerolinecolor": "white"
           }
          },
          "shapedefaults": {
           "line": {
            "color": "#2a3f5f"
           }
          },
          "ternary": {
           "aaxis": {
            "gridcolor": "white",
            "linecolor": "white",
            "ticks": ""
           },
           "baxis": {
            "gridcolor": "white",
            "linecolor": "white",
            "ticks": ""
           },
           "bgcolor": "#E5ECF6",
           "caxis": {
            "gridcolor": "white",
            "linecolor": "white",
            "ticks": ""
           }
          },
          "title": {
           "x": 0.05
          },
          "xaxis": {
           "automargin": true,
           "gridcolor": "white",
           "linecolor": "white",
           "ticks": "",
           "title": {
            "standoff": 15
           },
           "zerolinecolor": "white",
           "zerolinewidth": 2
          },
          "yaxis": {
           "automargin": true,
           "gridcolor": "white",
           "linecolor": "white",
           "ticks": "",
           "title": {
            "standoff": 15
           },
           "zerolinecolor": "white",
           "zerolinewidth": 2
          }
         }
        },
        "title": {
         "text": "Lines charts using Plotly Graph"
        },
        "width": 1100,
        "xaxis": {
         "autorange": true,
         "range": [
          "2000-01-01",
          "2011-12-01"
         ],
         "title": {
          "text": "X"
         },
         "type": "date"
        },
        "yaxis": {
         "autorange": true,
         "range": [
          -4442.344444444444,
          84404.54444444444
         ],
         "title": {
          "text": "Y"
         },
         "type": "linear"
        }
       }
      },
      "image/png": "[encoded data removed]",
      "text/html": [
       "<div>                            <div id=\"e3f98691-e764-474a-a8b5-cfc881b021d3\" class=\"plotly-graph-div\" style=\"height:525px; width:1100px;\"></div>            <script type=\"text/javascript\">                require([\"plotly\"], function(Plotly) {                    window.PLOTLYENV=window.PLOTLYENV || {};                                    if (document.getElementById(\"e3f98691-e764-474a-a8b5-cfc881b021d3\")) {                    Plotly.newPlot(                        \"e3f98691-e764-474a-a8b5-cfc881b021d3\",                        [{\"mode\":\"lines\",\"name\":\"Motor Vehicles Taxes and Fees\",\"x\":[\"1950-51\",\"1955-56\",\"1960-61\",\"1965-66\",\"1970-71\",\"1975-76\",\"1980-81\",\"1985-86\",\"1990-91\",\"1995-96\",\"1996-97\",\"1997-98\",\"1998-99\",\"1999-00\",\"2000-01\",\"2001-02\",\"2002-03\",\"2003-04\",\"2004-05\",\"2005-06\",\"2006-07\",\"2007-08\",\"2008-09\",\"2009-10 \",\"2010-11\",\"2011-12 \",\"2012-13\",\"2013-14 \",\"2014-15 \",\"2015-16\",\"2016-17\",\"2017-18\",\"2018-19 \",\"2019-20\",\"2020-21(Revised Estimates)\"],\"y\":[0.0,13.9,29.9,61.8,107.7,209.7,356.3,835.5,1566.3,3726.3,4117.3,4853.9,5024.0,6153.1,6665.6,7644.4,8441.0,10138.2,10811.0,11964.0,13630.1,15594.9,17340.3,19637.8,23497.7,28679.7,35296.3,37304.9,43024.3,46642.7,53388.1,64914.8,68658.8,71499.0,60681.5],\"type\":\"scatter\"},{\"mode\":\"lines\",\"name\":\"SalesTax\\u002fVAT on Motor Spirit and Lubricants\",\"x\":[\"1950-51\",\"1955-56\",\"1960-61\",\"1965-66\",\"1970-71\",\"1975-76\",\"1980-81\",\"1985-86\",\"1990-91\",\"1995-96\",\"1996-97\",\"1997-98\",\"1998-99\",\"1999-00\",\"2000-01\",\"2001-02\",\"2002-03\",\"2003-04\",\"2004-05\",\"2005-06\",\"2006-07\",\"2007-08\",\"2008-09\",\"2009-10 \",\"2010-11\",\"2011-12 \",\"2012-13\",\"2013-14 \",\"2014-15 \",\"2015-16\",\"2016-17\",\"2017-18\",\"2018-19 \",\"2019-20\",\"2020-21(Revised Estimates)\"],\"y\":[12.5,8.9,16.9,31.5,63.2,92.0,154.5,322.0,631.5,1703.8,2755.9,3502.4,3862.2,4728.8,4161.4,5645.0,5106.0,4967.5,6657.0,2951.0,1331.6,1623.2,8438.1,10017.8,11198.3,13815.7,null,null,null,null,null,null,null,null,null],\"type\":\"scatter\"},{\"mode\":\"lines\",\"name\":\"Tax on Passengers and Goods\",\"x\":[\"1950-51\",\"1955-56\",\"1960-61\",\"1965-66\",\"1970-71\",\"1975-76\",\"1980-81\",\"1985-86\",\"1990-91\",\"1995-96\",\"1996-97\",\"1997-98\",\"1998-99\",\"1999-00\",\"2000-01\",\"2001-02\",\"2002-03\",\"2003-04\",\"2004-05\",\"2005-06\",\"2006-07\",\"2007-08\",\"2008-09\",\"2009-10 \",\"2010-11\",\"2011-12 \",\"2012-13\",\"2013-14 \",\"2014-15 \",\"2015-16\",\"2016-17\",\"2017-18\",\"2018-19 \",\"2019-20\",\"2020-21(Revised Estimates)\"],\"y\":[0.1,3.0,8.4,33.4,60.5,160.5,239.6,395.7,1061.8,1507.7,1662.6,2003.9,1979.2,2098.7,2074.7,3671.4,3569.3,4189.9,5206.0,6450.0,6808.3,6807.7,8462.6,9857.0,11296.4,12665.7,15306.4,19444.9,19606.4,23360.6,26574.1,13719.2,3540.3,2380.9,2324.8],\"type\":\"scatter\"},{\"mode\":\"lines\",\"name\":\"Total\",\"x\":[\"1950-51\",\"1955-56\",\"1960-61\",\"1965-66\",\"1970-71\",\"1975-76\",\"1980-81\",\"1985-86\",\"1990-91\",\"1995-96\",\"1996-97\",\"1997-98\",\"1998-99\",\"1999-00\",\"2000-01\",\"2001-02\",\"2002-03\",\"2003-04\",\"2004-05\",\"2005-06\",\"2006-07\",\"2007-08\",\"2008-09\",\"2009-10 \",\"2010-11\",\"2011-12 \",\"2012-13\",\"2013-14 \",\"2014-15 \",\"2015-16\",\"2016-17\",\"2017-18\",\"2018-19 \",\"2019-20\",\"2020-21(Revised Estimates)\"],\"y\":[12.6,25.8,55.2,126.7,231.4,462.2,750.4,1553.2,3259.6,6937.8,8535.8,10360.2,10865.4,12980.6,12901.7,16960.8,17116.3,19295.6,22674.0,21365.0,21770.0,24025.8,34241.0,39512.6,45992.4,55161.1,50602.7,56749.8,62630.7,70003.3,79962.2,78634.0,72199.1,73879.9,63006.3],\"type\":\"scatter\"}],                        {\"template\":{\"data\":{\"histogram2dcontour\":[{\"type\":\"histogram2dcontour\",\"colorbar\":{\"outlinewidth\":0,\"ticks\":\"\"},\"colorscale\":[[0.0,\"#0d0887\"],[0.1111111111111111,\"#46039f\"],[0.2222222222222222,\"#7201a8\"],[0.3333333333333333,\"#9c179e\"],[0.4444444444444444,\"#bd3786\"],[0.5555555555555556,\"#d8576b\"],[0.6666666666666666,\"#ed7953\"],[0.7777777777777778,\"#fb9f3a\"],[0.8888888888888888,\"#fdca26\"],[1.0,\"#f0f921\"]]}],\"choropleth\":[{\"type\":\"choropleth\",\"colorbar\":{\"outlinewidth\":0,\"ticks\":\"\"}}],\"histogram2d\":[{\"type\":\"histogram2d\",\"colorbar\":{\"outlinewidth\":0,\"ticks\":\"\"},\"colorscale\":[[0.0,\"#0d0887\"],[0.1111111111111111,\"#46039f\"],[0.2222222222222222,\"#7201a8\"],[0.3333333333333333,\"#9c179e\"],[0.4444444444444444,\"#bd3786\"],[0.5555555555555556,\"#d8576b\"],[0.6666666666666666,\"#ed7953\"],[0.7777777777777778,\"#fb9f3a\"],[0.8888888888888888,\"#fdca26\"],[1.0,\"#f0f921\"]]}],\"heatmap\":[{\"type\":\"heatmap\",\"colorbar\":{\"outlinewidth\":0,\"ticks\":\"\"},\"colorscale\":[[0.0,\"#0d0887\"],[0.1111111111111111,\"#46039f\"],[0.2222222222222222,\"#7201a8\"],[0.3333333333333333,\"#9c179e\"],[0.4444444444444444,\"#bd3786\"],[0.5555555555555556,\"#d8576b\"],[0.6666666666666666,\"#ed7953\"],[0.7777777777777778,\"#fb9f3a\"],[0.8888888888888888,\"#fdca26\"],[1.0,\"#f0f921\"]]}],\"heatmapgl\":[{\"type\":\"heatmapgl\",\"colorbar\":{\"outlinewidth\":0,\"ticks\":\"\"},\"colorscale\":[[0.0,\"#0d0887\"],[0.1111111111111111,\"#46039f\"],[0.2222222222222222,\"#7201a8\"],[0.3333333333333333,\"#9c179e\"],[0.4444444444444444,\"#bd3786\"],[0.5555555555555556,\"#d8576b\"],[0.6666666666666666,\"#ed7953\"],[0.7777777777777778,\"#fb9f3a\"],[0.8888888888888888,\"#fdca26\"],[1.0,\"#f0f921\"]]}],\"contourcarpet\":[{\"type\":\"contourcarpet\",\"colorbar\":{\"outlinewidth\":0,\"ticks\":\"\"}}],\"contour\":[{\"type\":\"contour\",\"colorbar\":{\"outlinewidth\":0,\"ticks\":\"\"},\"colorscale\":[[0.0,\"#0d0887\"],[0.1111111111111111,\"#46039f\"],[0.2222222222222222,\"#7201a8\"],[0.3333333333333333,\"#9c179e\"],[0.4444444444444444,\"#bd3786\"],[0.5555555555555556,\"#d8576b\"],[0.6666666666666666,\"#ed7953\"],[0.7777777777777778,\"#fb9f3a\"],[0.8888888888888888,\"#fdca26\"],[1.0,\"#f0f921\"]]}],\"surface\":[{\"type\":\"surface\",\"colorbar\":{\"outlinewidth\":0,\"ticks\":\"\"},\"colorscale\":[[0.0,\"#0d0887\"],[0.1111111111111111,\"#46039f\"],[0.2222222222222222,\"#7201a8\"],[0.3333333333333333,\"#9c179e\"],[0.4444444444444444,\"#bd3786\"],[0.5555555555555556,\"#d8576b\"],[0.6666666666666666,\"#ed7953\"],[0.7777777777777778,\"#fb9f3a\"],[0.8888888888888888,\"#fdca26\"],[1.0,\"#f0f921\"]]}],\"mesh3d\":[{\"type\":\"mesh3d\",\"colorbar\":{\"outlinewidth\":0,\"ticks\":\"\"}}],\"scatter\":[{\"fillpattern\":{\"fillmode\":\"overlay\",\"size\":10,\"solidity\":0.2},\"type\":\"scatter\"}],\"parcoords\":[{\"type\":\"parcoords\",\"line\":{\"colorbar\":{\"outlinewidth\":0,\"ticks\":\"\"}}}],\"scatterpolargl\":[{\"type\":\"scatterpolargl\",\"marker\":{\"colorbar\":{\"outlinewidth\":0,\"ticks\":\"\"}}}],\"bar\":[{\"error_x\":{\"color\":\"#2a3f5f\"},\"error_y\":{\"color\":\"#2a3f5f\"},\"marker\":{\"line\":{\"color\":\"#E5ECF6\",\"width\":0.5},\"pattern\":{\"fillmode\":\"overlay\",\"size\":10,\"solidity\":0.2}},\"type\":\"bar\"}],\"scattergeo\":[{\"type\":\"scattergeo\",\"marker\":{\"colorbar\":{\"outlinewidth\":0,\"ticks\":\"\"}}}],\"scatterpolar\":[{\"type\":\"scatterpolar\",\"marker\":{\"colorbar\":{\"outlinewidth\":0,\"ticks\":\"\"}}}],\"histogram\":[{\"marker\":{\"pattern\":{\"fillmode\":\"overlay\",\"size\":10,\"solidity\":0.2}},\"type\":\"histogram\"}],\"scattergl\":[{\"type\":\"scattergl\",\"marker\":{\"colorbar\":{\"outlinewidth\":0,\"ticks\":\"\"}}}],\"scatter3d\":[{\"type\":\"scatter3d\",\"line\":{\"colorbar\":{\"outlinewidth\":0,\"ticks\":\"\"}},\"marker\":{\"colorbar\":{\"outlinewidth\":0,\"ticks\":\"\"}}}],\"scattermapbox\":[{\"type\":\"scattermapbox\",\"marker\":{\"colorbar\":{\"outlinewidth\":0,\"ticks\":\"\"}}}],\"scatterternary\":[{\"type\":\"scatterternary\",\"marker\":{\"colorbar\":{\"outlinewidth\":0,\"ticks\":\"\"}}}],\"scattercarpet\":[{\"type\":\"scattercarpet\",\"marker\":{\"colorbar\":{\"outlinewidth\":0,\"ticks\":\"\"}}}],\"carpet\":[{\"aaxis\":{\"endlinecolor\":\"#2a3f5f\",\"gridcolor\":\"white\",\"linecolor\":\"white\",\"minorgridcolor\":\"white\",\"startlinecolor\":\"#2a3f5f\"},\"baxis\":{\"endlinecolor\":\"#2a3f5f\",\"gridcolor\":\"white\",\"linecolor\":\"white\",\"minorgridcolor\":\"white\",\"startlinecolor\":\"#2a3f5f\"},\"type\":\"carpet\"}],\"table\":[{\"cells\":{\"fill\":{\"color\":\"#EBF0F8\"},\"line\":{\"color\":\"white\"}},\"header\":{\"fill\":{\"color\":\"#C8D4E3\"},\"line\":{\"color\":\"white\"}},\"type\":\"table\"}],\"barpolar\":[{\"marker\":{\"line\":{\"color\":\"#E5ECF6\",\"width\":0.5},\"pattern\":{\"fillmode\":\"overlay\",\"size\":10,\"solidity\":0.2}},\"type\":\"barpolar\"}],\"pie\":[{\"automargin\":true,\"type\":\"pie\"}]},\"layout\":{\"autotypenumbers\":\"strict\",\"colorway\":[\"#636efa\",\"#EF553B\",\"#00cc96\",\"#ab63fa\",\"#FFA15A\",\"#19d3f3\",\"#FF6692\",\"#B6E880\",\"#FF97FF\",\"#FECB52\"],\"font\":{\"color\":\"#2a3f5f\"},\"hovermode\":\"closest\",\"hoverlabel\":{\"align\":\"left\"},\"paper_bgcolor\":\"white\",\"plot_bgcolor\":\"#E5ECF6\",\"polar\":{\"bgcolor\":\"#E5ECF6\",\"angularaxis\":{\"gridcolor\":\"white\",\"linecolor\":\"white\",\"ticks\":\"\"},\"radialaxis\":{\"gridcolor\":\"white\",\"linecolor\":\"white\",\"ticks\":\"\"}},\"ternary\":{\"bgcolor\":\"#E5ECF6\",\"aaxis\":{\"gridcolor\":\"white\",\"linecolor\":\"white\",\"ticks\":\"\"},\"baxis\":{\"gridcolor\":\"white\",\"linecolor\":\"white\",\"ticks\":\"\"},\"caxis\":{\"gridcolor\":\"white\",\"linecolor\":\"white\",\"ticks\":\"\"}},\"coloraxis\":{\"colorbar\":{\"outlinewidth\":0,\"ticks\":\"\"}},\"colorscale\":{\"sequential\":[[0.0,\"#0d0887\"],[0.1111111111111111,\"#46039f\"],[0.2222222222222222,\"#7201a8\"],[0.3333333333333333,\"#9c179e\"],[0.4444444444444444,\"#bd3786\"],[0.5555555555555556,\"#d8576b\"],[0.6666666666666666,\"#ed7953\"],[0.7777777777777778,\"#fb9f3a\"],[0.8888888888888888,\"#fdca26\"],[1.0,\"#f0f921\"]],\"sequentialminus\":[[0.0,\"#0d0887\"],[0.1111111111111111,\"#46039f\"],[0.2222222222222222,\"#7201a8\"],[0.3333333333333333,\"#9c179e\"],[0.4444444444444444,\"#bd3786\"],[0.5555555555555556,\"#d8576b\"],[0.6666666666666666,\"#ed7953\"],[0.7777777777777778,\"#fb9f3a\"],[0.8888888888888888,\"#fdca26\"],[1.0,\"#f0f921\"]],\"diverging\":[[0,\"#8e0152\"],[0.1,\"#c51b7d\"],[0.2,\"#de77ae\"],[0.3,\"#f1b6da\"],[0.4,\"#fde0ef\"],[0.5,\"#f7f7f7\"],[0.6,\"#e6f5d0\"],[0.7,\"#b8e186\"],[0.8,\"#7fbc41\"],[0.9,\"#4d9221\"],[1,\"#276419\"]]},\"xaxis\":{\"gridcolor\":\"white\",\"linecolor\":\"white\",\"ticks\":\"\",\"title\":{\"standoff\":15},\"zerolinecolor\":\"white\",\"automargin\":true,\"zerolinewidth\":2},\"yaxis\":{\"gridcolor\":\"white\",\"linecolor\":\"white\",\"ticks\":\"\",\"title\":{\"standoff\":15},\"zerolinecolor\":\"white\",\"automargin\":true,\"zerolinewidth\":2},\"scene\":{\"xaxis\":{\"backgroundcolor\":\"#E5ECF6\",\"gridcolor\":\"white\",\"linecolor\":\"white\",\"showbackground\":true,\"ticks\":\"\",\"zerolinecolor\":\"white\",\"gridwidth\":2},\"yaxis\":{\"backgroundcolor\":\"#E5ECF6\",\"gridcolor\":\"white\",\"linecolor\":\"white\",\"showbackground\":true,\"ticks\":\"\",\"zerolinecolor\":\"white\",\"gridwidth\":2},\"zaxis\":{\"backgroundcolor\":\"#E5ECF6\",\"gridcolor\":\"white\",\"linecolor\":\"white\",\"showbackground\":true,\"ticks\":\"\",\"zerolinecolor\":\"white\",\"gridwidth\":2}},\"shapedefaults\":{\"line\":{\"color\":\"#2a3f5f\"}},\"annotationdefaults\":{\"arrowcolor\":\"#2a3f5f\",\"arrowhead\":0,\"arrowwidth\":1},\"geo\":{\"bgcolor\":\"white\",\"landcolor\":\"#E5ECF6\",\"subunitcolor\":\"white\",\"showland\":true,\"showlakes\":true,\"lakecolor\":\"white\"},\"title\":{\"x\":0.05},\"mapbox\":{\"style\":\"light\"}}},\"title\":{\"text\":\"Lines charts using Plotly Graph\"},\"width\":1100,\"xaxis\":{\"title\":{\"text\":\"X\"}},\"yaxis\":{\"title\":{\"text\":\"Y\"}}},                        {\"responsive\": true}                    ).then(function(){\n",
       "                            \n",
       "var gd = document.getElementById('e3f98691-e764-474a-a8b5-cfc881b021d3');\n",
       "var x = new MutationObserver(function (mutations, observer) {{\n",
       "        var display = window.getComputedStyle(gd).display;\n",
       "        if (!display || display === 'none') {{\n",
       "            console.log([gd, 'removed!']);\n",
       "            Plotly.purge(gd);\n",
       "            observer.disconnect();\n",
       "        }}\n",
       "}});\n",
       "\n",
       "// Listen for the removal of the full notebook cells\n",
       "var notebookContainer = gd.closest('#notebook-container');\n",
       "if (notebookContainer) {{\n",
       "    x.observe(notebookContainer, {childList: true});\n",
       "}}\n",
       "\n",
       "// Listen for the clearing of the current output cell\n",
       "var outputEl = gd.closest('.output');\n",
       "if (outputEl) {{\n",
       "    x.observe(outputEl, {childList: true});\n",
       "}}\n",
       "\n",
       "                        })                };                });            </script>        </div>"
      ]
     },
     "metadata": {},
     "output_type": "display_data"
    }
   ],
   "source": [
    "import plotly.graph_objs as go\n",
    "\n",
    "x_data = df['Year']\n",
    "y_data_1 = df['Motor Vehicles Taxes and Fees']\n",
    "y_data_2 = df['SalesTax/VAT on Motor Spirit and Lubricants']\n",
    "y_data_3 = df['Tax on Passengers and Goods']\n",
    "y_data_4 = df['Total']\n",
    "\n",
    "\n",
    "trace_1 = go.Scatter(x=x_data, y=y_data_1, mode='lines', name='Motor Vehicles Taxes and Fees')\n",
    "trace_2 = go.Scatter(x=x_data, y=y_data_2, mode='lines', name='SalesTax/VAT on Motor Spirit and Lubricants')\n",
    "trace_3 = go.Scatter(x=x_data, y=y_data_3, mode='lines', name='Tax on Passengers and Goods')\n",
    "trace_4 = go.Scatter(x=x_data, y=y_data_4, mode='lines', name='Total')\n",
    "\n",
    "fig = go.Figure([\n",
    "    trace_1, trace_2,trace_3,trace_4\n",
    "])\n",
    "fig.update_layout(\n",
    "    title = 'Lines charts using Plotly Graph',\n",
    "    width = 1100,\n",
    "    xaxis_title = 'Duration',\n",
    "    yaxis_title = 'Tax'\n",
    ")\n",
    "\n",
    "fig.show()"
   ]
  },
  {
   "cell_type": "code",
   "execution_count": 17,
   "id": "c3764d58-236e-40f1-a831-b7e3c7ba9be4",
   "metadata": {},
   "outputs": [],
   "source": [
    "import plotly.graph_objs as go\n",
    "df_road_tax_c = pd.read_csv(f'datasets/finan/Year-wise Revenue Realised from Road Transport (Centre) from 2009-10 to 2018-19.csv')"
   ]
  },
  {
   "cell_type": "code",
   "execution_count": 18,
   "id": "d53d6069-a865-4fc0-adeb-2ce7e29d188c",
   "metadata": {},
   "outputs": [
    {
     "data": {
      "text/plain": [
       "Index(['Year', 'Motor Vehicles & Accessories - Import Duty',\n",
       "       'Motor Vehicles & Accessories - Excise Duty',\n",
       "       'Motor Vehicles & Accessories - Total', 'Tyres & Tubes - Import Duty',\n",
       "       'Tyres & Tubes - Excise Duty', 'Tyres & Tubes - Total',\n",
       "       'High Speed Diesel Oil - Import Duty',\n",
       "       'High Speed Diesel Oil - Excise Duty', 'High Speed Diesel Oil - Total',\n",
       "       'Motor Spirit - Import Duty', 'Motor Spirit - Excise Duty',\n",
       "       'Motor Spirit - Total', 'Total'],\n",
       "      dtype='object')"
      ]
     },
     "execution_count": 18,
     "metadata": {},
     "output_type": "execute_result"
    }
   ],
   "source": [
    "df_road_tax_c.columns"
   ]
  },
  {
   "cell_type": "code",
   "execution_count": 19,
   "id": "c3f544b1-b91f-45d4-9c2f-845863efc2bd",
   "metadata": {},
   "outputs": [],
   "source": [
    "import plotly.graph_objs as go\n",
    "df_road_tax_c = pd.read_csv(f'datasets/finan/Year-wise Revenue Realised from Road Transport (Centre) from 2009-10 to 2018-19.csv')\n",
    "x_data_c = df_road_tax_c['Year']\n",
    "\n",
    "y_data_1_c = df_road_tax_c['Motor Vehicles & Accessories - Import Duty']\n",
    "y_data_2_c = df_road_tax_c['Motor Vehicles & Accessories - Excise Duty']\n",
    "y_data_3_c = df_road_tax_c['Motor Vehicles & Accessories - Total']\n",
    "y_data_4_c = df_road_tax_c['Tyres & Tubes - Import Duty']\n",
    "y_data_5_c = df_road_tax_c['Tyres & Tubes - Excise Duty']\n",
    "y_data_6_c = df_road_tax_c['Tyres & Tubes - Total']\n",
    "y_data_7_c = df_road_tax_c['High Speed Diesel Oil - Import Duty']\n",
    "y_data_8_c = df_road_tax_c['High Speed Diesel Oil - Excise Duty']\n",
    "y_data_9_c = df_road_tax_c['High Speed Diesel Oil - Total']\n",
    "y_data_10_c = df_road_tax_c['Motor Spirit - Import Duty']\n",
    "y_data_11_c = df_road_tax_c['Motor Spirit - Excise Duty']\n",
    "y_data_12_c = df_road_tax_c['Motor Spirit - Total']\n",
    "y_data_13_c = df_road_tax_c['Total']"
   ]
  },
  {
   "cell_type": "code",
   "execution_count": 21,
   "id": "c56ec50b-d3a2-491e-822c-ff627cbf6383",
   "metadata": {},
   "outputs": [],
   "source": [
    "trace_1_c = go.Scatter(x=x_data, y=y_data_1_c, mode='lines', name='Motor Vehicles & Accessories - Import Duty')\n",
    "trace_2_c = go.Scatter(x=x_data, y=y_data_2_c, mode='lines', name='Motor Vehicles & Accessories - Excise Duty')\n",
    "trace_3_c = go.Scatter(x=x_data, y=y_data_3_c, mode='lines', name='Motor Vehicles & Accessories - Total')\n",
    "trace_4_c = go.Scatter(x=x_data, y=y_data_4_c, mode='lines', name='Tyres & Tubes - Import Duty')\n",
    "trace_5_c = go.Scatter(x=x_data, y=y_data_5_c, mode='lines', name='Tyres & Tubes - Excise Duty')\n",
    "trace_6_c = go.Scatter(x=x_data, y=y_data_6_c, mode='lines', name='Tyres & Tubes - Total')\n",
    "trace_7_c = go.Scatter(x=x_data, y=y_data_7_c, mode='lines', name='High Speed Diesel Oil - Import Duty')\n",
    "trace_8_c = go.Scatter(x=x_data, y=y_data_8_c, mode='lines', name='High Speed Diesel Oil - Excise Duty')\n",
    "trace_9_c = go.Scatter(x=x_data, y=y_data_9_c, mode='lines', name='High Speed Diesel Oil - Total')\n",
    "trace_10_c = go.Scatter(x=x_data, y=y_data_10_c, mode='lines', name='Motor Spirit - Import Duty')\n",
    "trace_11_c = go.Scatter(x=x_data, y=y_data_11_c, mode='lines', name='Motor Spirit - Excise Duty')\n",
    "trace_12_c = go.Scatter(x=x_data, y=y_data_12_c, mode='lines', name='Motor Spirit - Total')\n",
    "trace_13_c = go.Scatter(x=x_data, y=y_data_13_c, mode='lines', name='Total')"
   ]
  },
  {
   "cell_type": "code",
   "execution_count": 24,
   "id": "d3e3bb71-81d7-4578-b87d-b1c5729ad3b2",
   "metadata": {},
   "outputs": [
    {
     "data": {
      "application/vnd.plotly.v1+json": {
       "config": {
        "plotlyServerURL": "https://plot.ly"
       },
       "data": [
        {
         "mode": "lines",
         "name": "Motor Vehicles & Accessories - Import Duty",
         "type": "scatter",
         "x": [
          "1950-51",
          "1955-56",
          "1960-61",
          "1965-66",
          "1970-71",
          "1975-76",
          "1980-81",
          "1985-86",
          "1990-91",
          "1995-96",
          "1996-97",
          "1997-98",
          "1998-99",
          "1999-00",
          "2000-01",
          "2001-02",
          "2002-03",
          "2003-04",
          "2004-05",
          "2005-06",
          "2006-07",
          "2007-08",
          "2008-09",
          "2009-10 ",
          "2010-11",
          "2011-12 ",
          "2012-13",
          "2013-14 ",
          "2014-15 ",
          "2015-16",
          "2016-17",
          "2017-18",
          "2018-19 ",
          "2019-20",
          "2020-21(Revised Estimates)"
         ],
         "y": [
          4121.7,
          6508.7,
          8126.7,
          9096.4,
          11762.8,
          12412.5,
          13945,
          14421.2,
          15060.2,
          19211.9,
          15.8
         ]
        }
       ],
       "layout": {
        "height": 360,
        "template": {
         "data": {
          "bar": [
           {
            "error_x": {
             "color": "#2a3f5f"
            },
            "error_y": {
             "color": "#2a3f5f"
            },
            "marker": {
             "line": {
              "color": "#E5ECF6",
              "width": 0.5
             },
             "pattern": {
              "fillmode": "overlay",
              "size": 10,
              "solidity": 0.2
             }
            },
            "type": "bar"
           }
          ],
          "barpolar": [
           {
            "marker": {
             "line": {
              "color": "#E5ECF6",
              "width": 0.5
             },
             "pattern": {
              "fillmode": "overlay",
              "size": 10,
              "solidity": 0.2
             }
            },
            "type": "barpolar"
           }
          ],
          "carpet": [
           {
            "aaxis": {
             "endlinecolor": "#2a3f5f",
             "gridcolor": "white",
             "linecolor": "white",
             "minorgridcolor": "white",
             "startlinecolor": "#2a3f5f"
            },
            "baxis": {
             "endlinecolor": "#2a3f5f",
             "gridcolor": "white",
             "linecolor": "white",
             "minorgridcolor": "white",
             "startlinecolor": "#2a3f5f"
            },
            "type": "carpet"
           }
          ],
          "choropleth": [
           {
            "colorbar": {
             "outlinewidth": 0,
             "ticks": ""
            },
            "type": "choropleth"
           }
          ],
          "contour": [
           {
            "colorbar": {
             "outlinewidth": 0,
             "ticks": ""
            },
            "colorscale": [
             [
              0,
              "#0d0887"
             ],
             [
              0.1111111111111111,
              "#46039f"
             ],
             [
              0.2222222222222222,
              "#7201a8"
             ],
             [
              0.3333333333333333,
              "#9c179e"
             ],
             [
              0.4444444444444444,
              "#bd3786"
             ],
             [
              0.5555555555555556,
              "#d8576b"
             ],
             [
              0.6666666666666666,
              "#ed7953"
             ],
             [
              0.7777777777777778,
              "#fb9f3a"
             ],
             [
              0.8888888888888888,
              "#fdca26"
             ],
             [
              1,
              "#f0f921"
             ]
            ],
            "type": "contour"
           }
          ],
          "contourcarpet": [
           {
            "colorbar": {
             "outlinewidth": 0,
             "ticks": ""
            },
            "type": "contourcarpet"
           }
          ],
          "heatmap": [
           {
            "colorbar": {
             "outlinewidth": 0,
             "ticks": ""
            },
            "colorscale": [
             [
              0,
              "#0d0887"
             ],
             [
              0.1111111111111111,
              "#46039f"
             ],
             [
              0.2222222222222222,
              "#7201a8"
             ],
             [
              0.3333333333333333,
              "#9c179e"
             ],
             [
              0.4444444444444444,
              "#bd3786"
             ],
             [
              0.5555555555555556,
              "#d8576b"
             ],
             [
              0.6666666666666666,
              "#ed7953"
             ],
             [
              0.7777777777777778,
              "#fb9f3a"
             ],
             [
              0.8888888888888888,
              "#fdca26"
             ],
             [
              1,
              "#f0f921"
             ]
            ],
            "type": "heatmap"
           }
          ],
          "heatmapgl": [
           {
            "colorbar": {
             "outlinewidth": 0,
             "ticks": ""
            },
            "colorscale": [
             [
              0,
              "#0d0887"
             ],
             [
              0.1111111111111111,
              "#46039f"
             ],
             [
              0.2222222222222222,
              "#7201a8"
             ],
             [
              0.3333333333333333,
              "#9c179e"
             ],
             [
              0.4444444444444444,
              "#bd3786"
             ],
             [
              0.5555555555555556,
              "#d8576b"
             ],
             [
              0.6666666666666666,
              "#ed7953"
             ],
             [
              0.7777777777777778,
              "#fb9f3a"
             ],
             [
              0.8888888888888888,
              "#fdca26"
             ],
             [
              1,
              "#f0f921"
             ]
            ],
            "type": "heatmapgl"
           }
          ],
          "histogram": [
           {
            "marker": {
             "pattern": {
              "fillmode": "overlay",
              "size": 10,
              "solidity": 0.2
             }
            },
            "type": "histogram"
           }
          ],
          "histogram2d": [
           {
            "colorbar": {
             "outlinewidth": 0,
             "ticks": ""
            },
            "colorscale": [
             [
              0,
              "#0d0887"
             ],
             [
              0.1111111111111111,
              "#46039f"
             ],
             [
              0.2222222222222222,
              "#7201a8"
             ],
             [
              0.3333333333333333,
              "#9c179e"
             ],
             [
              0.4444444444444444,
              "#bd3786"
             ],
             [
              0.5555555555555556,
              "#d8576b"
             ],
             [
              0.6666666666666666,
              "#ed7953"
             ],
             [
              0.7777777777777778,
              "#fb9f3a"
             ],
             [
              0.8888888888888888,
              "#fdca26"
             ],
             [
              1,
              "#f0f921"
             ]
            ],
            "type": "histogram2d"
           }
          ],
          "histogram2dcontour": [
           {
            "colorbar": {
             "outlinewidth": 0,
             "ticks": ""
            },
            "colorscale": [
             [
              0,
              "#0d0887"
             ],
             [
              0.1111111111111111,
              "#46039f"
             ],
             [
              0.2222222222222222,
              "#7201a8"
             ],
             [
              0.3333333333333333,
              "#9c179e"
             ],
             [
              0.4444444444444444,
              "#bd3786"
             ],
             [
              0.5555555555555556,
              "#d8576b"
             ],
             [
              0.6666666666666666,
              "#ed7953"
             ],
             [
              0.7777777777777778,
              "#fb9f3a"
             ],
             [
              0.8888888888888888,
              "#fdca26"
             ],
             [
              1,
              "#f0f921"
             ]
            ],
            "type": "histogram2dcontour"
           }
          ],
          "mesh3d": [
           {
            "colorbar": {
             "outlinewidth": 0,
             "ticks": ""
            },
            "type": "mesh3d"
           }
          ],
          "parcoords": [
           {
            "line": {
             "colorbar": {
              "outlinewidth": 0,
              "ticks": ""
             }
            },
            "type": "parcoords"
           }
          ],
          "pie": [
           {
            "automargin": true,
            "type": "pie"
           }
          ],
          "scatter": [
           {
            "fillpattern": {
             "fillmode": "overlay",
             "size": 10,
             "solidity": 0.2
            },
            "type": "scatter"
           }
          ],
          "scatter3d": [
           {
            "line": {
             "colorbar": {
              "outlinewidth": 0,
              "ticks": ""
             }
            },
            "marker": {
             "colorbar": {
              "outlinewidth": 0,
              "ticks": ""
             }
            },
            "type": "scatter3d"
           }
          ],
          "scattercarpet": [
           {
            "marker": {
             "colorbar": {
              "outlinewidth": 0,
              "ticks": ""
             }
            },
            "type": "scattercarpet"
           }
          ],
          "scattergeo": [
           {
            "marker": {
             "colorbar": {
              "outlinewidth": 0,
              "ticks": ""
             }
            },
            "type": "scattergeo"
           }
          ],
          "scattergl": [
           {
            "marker": {
             "colorbar": {
              "outlinewidth": 0,
              "ticks": ""
             }
            },
            "type": "scattergl"
           }
          ],
          "scattermapbox": [
           {
            "marker": {
             "colorbar": {
              "outlinewidth": 0,
              "ticks": ""
             }
            },
            "type": "scattermapbox"
           }
          ],
          "scatterpolar": [
           {
            "marker": {
             "colorbar": {
              "outlinewidth": 0,
              "ticks": ""
             }
            },
            "type": "scatterpolar"
           }
          ],
          "scatterpolargl": [
           {
            "marker": {
             "colorbar": {
              "outlinewidth": 0,
              "ticks": ""
             }
            },
            "type": "scatterpolargl"
           }
          ],
          "scatterternary": [
           {
            "marker": {
             "colorbar": {
              "outlinewidth": 0,
              "ticks": ""
             }
            },
            "type": "scatterternary"
           }
          ],
          "surface": [
           {
            "colorbar": {
             "outlinewidth": 0,
             "ticks": ""
            },
            "colorscale": [
             [
              0,
              "#0d0887"
             ],
             [
              0.1111111111111111,
              "#46039f"
             ],
             [
              0.2222222222222222,
              "#7201a8"
             ],
             [
              0.3333333333333333,
              "#9c179e"
             ],
             [
              0.4444444444444444,
              "#bd3786"
             ],
             [
              0.5555555555555556,
              "#d8576b"
             ],
             [
              0.6666666666666666,
              "#ed7953"
             ],
             [
              0.7777777777777778,
              "#fb9f3a"
             ],
             [
              0.8888888888888888,
              "#fdca26"
             ],
             [
              1,
              "#f0f921"
             ]
            ],
            "type": "surface"
           }
          ],
          "table": [
           {
            "cells": {
             "fill": {
              "color": "#EBF0F8"
             },
             "line": {
              "color": "white"
             }
            },
            "header": {
             "fill": {
              "color": "#C8D4E3"
             },
             "line": {
              "color": "white"
             }
            },
            "type": "table"
           }
          ]
         },
         "layout": {
          "annotationdefaults": {
           "arrowcolor": "#2a3f5f",
           "arrowhead": 0,
           "arrowwidth": 1
          },
          "autotypenumbers": "strict",
          "coloraxis": {
           "colorbar": {
            "outlinewidth": 0,
            "ticks": ""
           }
          },
          "colorscale": {
           "diverging": [
            [
             0,
             "#8e0152"
            ],
            [
             0.1,
             "#c51b7d"
            ],
            [
             0.2,
             "#de77ae"
            ],
            [
             0.3,
             "#f1b6da"
            ],
            [
             0.4,
             "#fde0ef"
            ],
            [
             0.5,
             "#f7f7f7"
            ],
            [
             0.6,
             "#e6f5d0"
            ],
            [
             0.7,
             "#b8e186"
            ],
            [
             0.8,
             "#7fbc41"
            ],
            [
             0.9,
             "#4d9221"
            ],
            [
             1,
             "#276419"
            ]
           ],
           "sequential": [
            [
             0,
             "#0d0887"
            ],
            [
             0.1111111111111111,
             "#46039f"
            ],
            [
             0.2222222222222222,
             "#7201a8"
            ],
            [
             0.3333333333333333,
             "#9c179e"
            ],
            [
             0.4444444444444444,
             "#bd3786"
            ],
            [
             0.5555555555555556,
             "#d8576b"
            ],
            [
             0.6666666666666666,
             "#ed7953"
            ],
            [
             0.7777777777777778,
             "#fb9f3a"
            ],
            [
             0.8888888888888888,
             "#fdca26"
            ],
            [
             1,
             "#f0f921"
            ]
           ],
           "sequentialminus": [
            [
             0,
             "#0d0887"
            ],
            [
             0.1111111111111111,
             "#46039f"
            ],
            [
             0.2222222222222222,
             "#7201a8"
            ],
            [
             0.3333333333333333,
             "#9c179e"
            ],
            [
             0.4444444444444444,
             "#bd3786"
            ],
            [
             0.5555555555555556,
             "#d8576b"
            ],
            [
             0.6666666666666666,
             "#ed7953"
            ],
            [
             0.7777777777777778,
             "#fb9f3a"
            ],
            [
             0.8888888888888888,
             "#fdca26"
            ],
            [
             1,
             "#f0f921"
            ]
           ]
          },
          "colorway": [
           "#636efa",
           "#EF553B",
           "#00cc96",
           "#ab63fa",
           "#FFA15A",
           "#19d3f3",
           "#FF6692",
           "#B6E880",
           "#FF97FF",
           "#FECB52"
          ],
          "font": {
           "color": "#2a3f5f"
          },
          "geo": {
           "bgcolor": "white",
           "lakecolor": "white",
           "landcolor": "#E5ECF6",
           "showlakes": true,
           "showland": true,
           "subunitcolor": "white"
          },
          "hoverlabel": {
           "align": "left"
          },
          "hovermode": "closest",
          "mapbox": {
           "style": "light"
          },
          "paper_bgcolor": "white",
          "plot_bgcolor": "#E5ECF6",
          "polar": {
           "angularaxis": {
            "gridcolor": "white",
            "linecolor": "white",
            "ticks": ""
           },
           "bgcolor": "#E5ECF6",
           "radialaxis": {
            "gridcolor": "white",
            "linecolor": "white",
            "ticks": ""
           }
          },
          "scene": {
           "xaxis": {
            "backgroundcolor": "#E5ECF6",
            "gridcolor": "white",
            "gridwidth": 2,
            "linecolor": "white",
            "showbackground": true,
            "ticks": "",
            "zerolinecolor": "white"
           },
           "yaxis": {
            "backgroundcolor": "#E5ECF6",
            "gridcolor": "white",
            "gridwidth": 2,
            "linecolor": "white",
            "showbackground": true,
            "ticks": "",
            "zerolinecolor": "white"
           },
           "zaxis": {
            "backgroundcolor": "#E5ECF6",
            "gridcolor": "white",
            "gridwidth": 2,
            "linecolor": "white",
            "showbackground": true,
            "ticks": "",
            "zerolinecolor": "white"
           }
          },
          "shapedefaults": {
           "line": {
            "color": "#2a3f5f"
           }
          },
          "ternary": {
           "aaxis": {
            "gridcolor": "white",
            "linecolor": "white",
            "ticks": ""
           },
           "baxis": {
            "gridcolor": "white",
            "linecolor": "white",
            "ticks": ""
           },
           "bgcolor": "#E5ECF6",
           "caxis": {
            "gridcolor": "white",
            "linecolor": "white",
            "ticks": ""
           }
          },
          "title": {
           "x": 0.05
          },
          "xaxis": {
           "automargin": true,
           "gridcolor": "white",
           "linecolor": "white",
           "ticks": "",
           "title": {
            "standoff": 15
           },
           "zerolinecolor": "white",
           "zerolinewidth": 2
          },
          "yaxis": {
           "automargin": true,
           "gridcolor": "white",
           "linecolor": "white",
           "ticks": "",
           "title": {
            "standoff": 15
           },
           "zerolinecolor": "white",
           "zerolinewidth": 2
          }
         }
        },
        "title": {
         "text": "Revenue Realised from Road Transport (States) from 1950-21"
        },
        "width": 1100,
        "xaxis": {
         "autorange": true,
         "range": [
          946684800000,
          978307200000
         ],
         "title": {
          "text": "Duration"
         },
         "type": "date"
        },
        "yaxis": {
         "autorange": true,
         "range": [
          -1050.65,
          20278.350000000002
         ],
         "title": {
          "text": "Tax"
         },
         "type": "linear"
        }
       }
      },
      "image/png": "[encoded data removed]",
      "text/html": [
       "<div>                            <div id=\"b9d6ecb9-2bde-4f79-a73d-3ff651c7103c\" class=\"plotly-graph-div\" style=\"height:525px; width:1100px;\"></div>            <script type=\"text/javascript\">                require([\"plotly\"], function(Plotly) {                    window.PLOTLYENV=window.PLOTLYENV || {};                                    if (document.getElementById(\"b9d6ecb9-2bde-4f79-a73d-3ff651c7103c\")) {                    Plotly.newPlot(                        \"b9d6ecb9-2bde-4f79-a73d-3ff651c7103c\",                        [{\"mode\":\"lines\",\"name\":\"Motor Vehicles & Accessories - Import Duty\",\"x\":[\"1950-51\",\"1955-56\",\"1960-61\",\"1965-66\",\"1970-71\",\"1975-76\",\"1980-81\",\"1985-86\",\"1990-91\",\"1995-96\",\"1996-97\",\"1997-98\",\"1998-99\",\"1999-00\",\"2000-01\",\"2001-02\",\"2002-03\",\"2003-04\",\"2004-05\",\"2005-06\",\"2006-07\",\"2007-08\",\"2008-09\",\"2009-10 \",\"2010-11\",\"2011-12 \",\"2012-13\",\"2013-14 \",\"2014-15 \",\"2015-16\",\"2016-17\",\"2017-18\",\"2018-19 \",\"2019-20\",\"2020-21(Revised Estimates)\"],\"y\":[4121.7,6508.7,8126.7,9096.4,11762.8,12412.5,13945.0,14421.2,15060.2,19211.9,15.8],\"type\":\"scatter\"}],                        {\"template\":{\"data\":{\"histogram2dcontour\":[{\"type\":\"histogram2dcontour\",\"colorbar\":{\"outlinewidth\":0,\"ticks\":\"\"},\"colorscale\":[[0.0,\"#0d0887\"],[0.1111111111111111,\"#46039f\"],[0.2222222222222222,\"#7201a8\"],[0.3333333333333333,\"#9c179e\"],[0.4444444444444444,\"#bd3786\"],[0.5555555555555556,\"#d8576b\"],[0.6666666666666666,\"#ed7953\"],[0.7777777777777778,\"#fb9f3a\"],[0.8888888888888888,\"#fdca26\"],[1.0,\"#f0f921\"]]}],\"choropleth\":[{\"type\":\"choropleth\",\"colorbar\":{\"outlinewidth\":0,\"ticks\":\"\"}}],\"histogram2d\":[{\"type\":\"histogram2d\",\"colorbar\":{\"outlinewidth\":0,\"ticks\":\"\"},\"colorscale\":[[0.0,\"#0d0887\"],[0.1111111111111111,\"#46039f\"],[0.2222222222222222,\"#7201a8\"],[0.3333333333333333,\"#9c179e\"],[0.4444444444444444,\"#bd3786\"],[0.5555555555555556,\"#d8576b\"],[0.6666666666666666,\"#ed7953\"],[0.7777777777777778,\"#fb9f3a\"],[0.8888888888888888,\"#fdca26\"],[1.0,\"#f0f921\"]]}],\"heatmap\":[{\"type\":\"heatmap\",\"colorbar\":{\"outlinewidth\":0,\"ticks\":\"\"},\"colorscale\":[[0.0,\"#0d0887\"],[0.1111111111111111,\"#46039f\"],[0.2222222222222222,\"#7201a8\"],[0.3333333333333333,\"#9c179e\"],[0.4444444444444444,\"#bd3786\"],[0.5555555555555556,\"#d8576b\"],[0.6666666666666666,\"#ed7953\"],[0.7777777777777778,\"#fb9f3a\"],[0.8888888888888888,\"#fdca26\"],[1.0,\"#f0f921\"]]}],\"heatmapgl\":[{\"type\":\"heatmapgl\",\"colorbar\":{\"outlinewidth\":0,\"ticks\":\"\"},\"colorscale\":[[0.0,\"#0d0887\"],[0.1111111111111111,\"#46039f\"],[0.2222222222222222,\"#7201a8\"],[0.3333333333333333,\"#9c179e\"],[0.4444444444444444,\"#bd3786\"],[0.5555555555555556,\"#d8576b\"],[0.6666666666666666,\"#ed7953\"],[0.7777777777777778,\"#fb9f3a\"],[0.8888888888888888,\"#fdca26\"],[1.0,\"#f0f921\"]]}],\"contourcarpet\":[{\"type\":\"contourcarpet\",\"colorbar\":{\"outlinewidth\":0,\"ticks\":\"\"}}],\"contour\":[{\"type\":\"contour\",\"colorbar\":{\"outlinewidth\":0,\"ticks\":\"\"},\"colorscale\":[[0.0,\"#0d0887\"],[0.1111111111111111,\"#46039f\"],[0.2222222222222222,\"#7201a8\"],[0.3333333333333333,\"#9c179e\"],[0.4444444444444444,\"#bd3786\"],[0.5555555555555556,\"#d8576b\"],[0.6666666666666666,\"#ed7953\"],[0.7777777777777778,\"#fb9f3a\"],[0.8888888888888888,\"#fdca26\"],[1.0,\"#f0f921\"]]}],\"surface\":[{\"type\":\"surface\",\"colorbar\":{\"outlinewidth\":0,\"ticks\":\"\"},\"colorscale\":[[0.0,\"#0d0887\"],[0.1111111111111111,\"#46039f\"],[0.2222222222222222,\"#7201a8\"],[0.3333333333333333,\"#9c179e\"],[0.4444444444444444,\"#bd3786\"],[0.5555555555555556,\"#d8576b\"],[0.6666666666666666,\"#ed7953\"],[0.7777777777777778,\"#fb9f3a\"],[0.8888888888888888,\"#fdca26\"],[1.0,\"#f0f921\"]]}],\"mesh3d\":[{\"type\":\"mesh3d\",\"colorbar\":{\"outlinewidth\":0,\"ticks\":\"\"}}],\"scatter\":[{\"fillpattern\":{\"fillmode\":\"overlay\",\"size\":10,\"solidity\":0.2},\"type\":\"scatter\"}],\"parcoords\":[{\"type\":\"parcoords\",\"line\":{\"colorbar\":{\"outlinewidth\":0,\"ticks\":\"\"}}}],\"scatterpolargl\":[{\"type\":\"scatterpolargl\",\"marker\":{\"colorbar\":{\"outlinewidth\":0,\"ticks\":\"\"}}}],\"bar\":[{\"error_x\":{\"color\":\"#2a3f5f\"},\"error_y\":{\"color\":\"#2a3f5f\"},\"marker\":{\"line\":{\"color\":\"#E5ECF6\",\"width\":0.5},\"pattern\":{\"fillmode\":\"overlay\",\"size\":10,\"solidity\":0.2}},\"type\":\"bar\"}],\"scattergeo\":[{\"type\":\"scattergeo\",\"marker\":{\"colorbar\":{\"outlinewidth\":0,\"ticks\":\"\"}}}],\"scatterpolar\":[{\"type\":\"scatterpolar\",\"marker\":{\"colorbar\":{\"outlinewidth\":0,\"ticks\":\"\"}}}],\"histogram\":[{\"marker\":{\"pattern\":{\"fillmode\":\"overlay\",\"size\":10,\"solidity\":0.2}},\"type\":\"histogram\"}],\"scattergl\":[{\"type\":\"scattergl\",\"marker\":{\"colorbar\":{\"outlinewidth\":0,\"ticks\":\"\"}}}],\"scatter3d\":[{\"type\":\"scatter3d\",\"line\":{\"colorbar\":{\"outlinewidth\":0,\"ticks\":\"\"}},\"marker\":{\"colorbar\":{\"outlinewidth\":0,\"ticks\":\"\"}}}],\"scattermapbox\":[{\"type\":\"scattermapbox\",\"marker\":{\"colorbar\":{\"outlinewidth\":0,\"ticks\":\"\"}}}],\"scatterternary\":[{\"type\":\"scatterternary\",\"marker\":{\"colorbar\":{\"outlinewidth\":0,\"ticks\":\"\"}}}],\"scattercarpet\":[{\"type\":\"scattercarpet\",\"marker\":{\"colorbar\":{\"outlinewidth\":0,\"ticks\":\"\"}}}],\"carpet\":[{\"aaxis\":{\"endlinecolor\":\"#2a3f5f\",\"gridcolor\":\"white\",\"linecolor\":\"white\",\"minorgridcolor\":\"white\",\"startlinecolor\":\"#2a3f5f\"},\"baxis\":{\"endlinecolor\":\"#2a3f5f\",\"gridcolor\":\"white\",\"linecolor\":\"white\",\"minorgridcolor\":\"white\",\"startlinecolor\":\"#2a3f5f\"},\"type\":\"carpet\"}],\"table\":[{\"cells\":{\"fill\":{\"color\":\"#EBF0F8\"},\"line\":{\"color\":\"white\"}},\"header\":{\"fill\":{\"color\":\"#C8D4E3\"},\"line\":{\"color\":\"white\"}},\"type\":\"table\"}],\"barpolar\":[{\"marker\":{\"line\":{\"color\":\"#E5ECF6\",\"width\":0.5},\"pattern\":{\"fillmode\":\"overlay\",\"size\":10,\"solidity\":0.2}},\"type\":\"barpolar\"}],\"pie\":[{\"automargin\":true,\"type\":\"pie\"}]},\"layout\":{\"autotypenumbers\":\"strict\",\"colorway\":[\"#636efa\",\"#EF553B\",\"#00cc96\",\"#ab63fa\",\"#FFA15A\",\"#19d3f3\",\"#FF6692\",\"#B6E880\",\"#FF97FF\",\"#FECB52\"],\"font\":{\"color\":\"#2a3f5f\"},\"hovermode\":\"closest\",\"hoverlabel\":{\"align\":\"left\"},\"paper_bgcolor\":\"white\",\"plot_bgcolor\":\"#E5ECF6\",\"polar\":{\"bgcolor\":\"#E5ECF6\",\"angularaxis\":{\"gridcolor\":\"white\",\"linecolor\":\"white\",\"ticks\":\"\"},\"radialaxis\":{\"gridcolor\":\"white\",\"linecolor\":\"white\",\"ticks\":\"\"}},\"ternary\":{\"bgcolor\":\"#E5ECF6\",\"aaxis\":{\"gridcolor\":\"white\",\"linecolor\":\"white\",\"ticks\":\"\"},\"baxis\":{\"gridcolor\":\"white\",\"linecolor\":\"white\",\"ticks\":\"\"},\"caxis\":{\"gridcolor\":\"white\",\"linecolor\":\"white\",\"ticks\":\"\"}},\"coloraxis\":{\"colorbar\":{\"outlinewidth\":0,\"ticks\":\"\"}},\"colorscale\":{\"sequential\":[[0.0,\"#0d0887\"],[0.1111111111111111,\"#46039f\"],[0.2222222222222222,\"#7201a8\"],[0.3333333333333333,\"#9c179e\"],[0.4444444444444444,\"#bd3786\"],[0.5555555555555556,\"#d8576b\"],[0.6666666666666666,\"#ed7953\"],[0.7777777777777778,\"#fb9f3a\"],[0.8888888888888888,\"#fdca26\"],[1.0,\"#f0f921\"]],\"sequentialminus\":[[0.0,\"#0d0887\"],[0.1111111111111111,\"#46039f\"],[0.2222222222222222,\"#7201a8\"],[0.3333333333333333,\"#9c179e\"],[0.4444444444444444,\"#bd3786\"],[0.5555555555555556,\"#d8576b\"],[0.6666666666666666,\"#ed7953\"],[0.7777777777777778,\"#fb9f3a\"],[0.8888888888888888,\"#fdca26\"],[1.0,\"#f0f921\"]],\"diverging\":[[0,\"#8e0152\"],[0.1,\"#c51b7d\"],[0.2,\"#de77ae\"],[0.3,\"#f1b6da\"],[0.4,\"#fde0ef\"],[0.5,\"#f7f7f7\"],[0.6,\"#e6f5d0\"],[0.7,\"#b8e186\"],[0.8,\"#7fbc41\"],[0.9,\"#4d9221\"],[1,\"#276419\"]]},\"xaxis\":{\"gridcolor\":\"white\",\"linecolor\":\"white\",\"ticks\":\"\",\"title\":{\"standoff\":15},\"zerolinecolor\":\"white\",\"automargin\":true,\"zerolinewidth\":2},\"yaxis\":{\"gridcolor\":\"white\",\"linecolor\":\"white\",\"ticks\":\"\",\"title\":{\"standoff\":15},\"zerolinecolor\":\"white\",\"automargin\":true,\"zerolinewidth\":2},\"scene\":{\"xaxis\":{\"backgroundcolor\":\"#E5ECF6\",\"gridcolor\":\"white\",\"linecolor\":\"white\",\"showbackground\":true,\"ticks\":\"\",\"zerolinecolor\":\"white\",\"gridwidth\":2},\"yaxis\":{\"backgroundcolor\":\"#E5ECF6\",\"gridcolor\":\"white\",\"linecolor\":\"white\",\"showbackground\":true,\"ticks\":\"\",\"zerolinecolor\":\"white\",\"gridwidth\":2},\"zaxis\":{\"backgroundcolor\":\"#E5ECF6\",\"gridcolor\":\"white\",\"linecolor\":\"white\",\"showbackground\":true,\"ticks\":\"\",\"zerolinecolor\":\"white\",\"gridwidth\":2}},\"shapedefaults\":{\"line\":{\"color\":\"#2a3f5f\"}},\"annotationdefaults\":{\"arrowcolor\":\"#2a3f5f\",\"arrowhead\":0,\"arrowwidth\":1},\"geo\":{\"bgcolor\":\"white\",\"landcolor\":\"#E5ECF6\",\"subunitcolor\":\"white\",\"showland\":true,\"showlakes\":true,\"lakecolor\":\"white\"},\"title\":{\"x\":0.05},\"mapbox\":{\"style\":\"light\"}}},\"title\":{\"text\":\"Revenue Realised from Road Transport (States) from 1950-21\"},\"width\":1100,\"xaxis\":{\"title\":{\"text\":\"Duration\"}},\"yaxis\":{\"title\":{\"text\":\"Tax\"}}},                        {\"responsive\": true}                    ).then(function(){\n",
       "                            \n",
       "var gd = document.getElementById('b9d6ecb9-2bde-4f79-a73d-3ff651c7103c');\n",
       "var x = new MutationObserver(function (mutations, observer) {{\n",
       "        var display = window.getComputedStyle(gd).display;\n",
       "        if (!display || display === 'none') {{\n",
       "            console.log([gd, 'removed!']);\n",
       "            Plotly.purge(gd);\n",
       "            observer.disconnect();\n",
       "        }}\n",
       "}});\n",
       "\n",
       "// Listen for the removal of the full notebook cells\n",
       "var notebookContainer = gd.closest('#notebook-container');\n",
       "if (notebookContainer) {{\n",
       "    x.observe(notebookContainer, {childList: true});\n",
       "}}\n",
       "\n",
       "// Listen for the clearing of the current output cell\n",
       "var outputEl = gd.closest('.output');\n",
       "if (outputEl) {{\n",
       "    x.observe(outputEl, {childList: true});\n",
       "}}\n",
       "\n",
       "                        })                };                });            </script>        </div>"
      ]
     },
     "metadata": {},
     "output_type": "display_data"
    }
   ],
   "source": [
    "fig_road_tax_c = go.Figure([\n",
    "    trace_1_c#, trace_2_c,trace_3_c,trace_4_c,trace_5_c,trace_6_c,trace_7_c,trace_8_c,trace_9_c,trace_10_c,trace_11_c,trace_12_c,trace_13_c\n",
    "])\n",
    "fig_road_tax_c.update_layout(\n",
    "    title = 'Revenue Realised from Road Transport (States) from 1950-21',\n",
    "    width = 1100,\n",
    "    xaxis_title = 'Duration',\n",
    "    yaxis_title = 'Tax'\n",
    ")\n",
    "\n",
    "fig_road_tax_c.show()"
   ]
  },
  {
   "cell_type": "code",
   "execution_count": 52,
   "id": "b5c98caf-8575-4c0f-98f9-febbbf5a712e",
   "metadata": {},
   "outputs": [
    {
     "data": {
      "text/html": [
       "<div>\n",
       "<style scoped>\n",
       "    .dataframe tbody tr th:only-of-type {\n",
       "        vertical-align: middle;\n",
       "    }\n",
       "\n",
       "    .dataframe tbody tr th {\n",
       "        vertical-align: top;\n",
       "    }\n",
       "\n",
       "    .dataframe thead th {\n",
       "        text-align: right;\n",
       "    }\n",
       "</style>\n",
       "<table border=\"1\" class=\"dataframe\">\n",
       "  <thead>\n",
       "    <tr style=\"text-align: right;\">\n",
       "      <th></th>\n",
       "      <th>1. Coaching Earnings:</th>\n",
       "      <th>(A) Passenger earnings</th>\n",
       "      <th>(B) Other coaching earnings</th>\n",
       "      <th>2. Goods earnings (1)</th>\n",
       "      <th>3. Other miscellaneous earnings(Excluding Rent&amp; Toll)</th>\n",
       "      <th>Total gross earnings(Icluding rent &amp; toll)</th>\n",
       "      <th>Year</th>\n",
       "    </tr>\n",
       "  </thead>\n",
       "  <tbody>\n",
       "    <tr>\n",
       "      <th>0</th>\n",
       "      <td>12068.69</td>\n",
       "      <td>11196.45</td>\n",
       "      <td>8722.43</td>\n",
       "      <td>24845.4</td>\n",
       "      <td>9444.51</td>\n",
       "      <td>37858.54</td>\n",
       "      <td>2001-02</td>\n",
       "    </tr>\n",
       "    <tr>\n",
       "      <th>1</th>\n",
       "      <td>13563.39</td>\n",
       "      <td>12575.44</td>\n",
       "      <td>9879.49</td>\n",
       "      <td>26504.83</td>\n",
       "      <td>1179.52</td>\n",
       "      <td>41147.73</td>\n",
       "      <td>2002-03</td>\n",
       "    </tr>\n",
       "    <tr>\n",
       "      <th>2</th>\n",
       "      <td>14220.61</td>\n",
       "      <td>13298.33</td>\n",
       "      <td>9222.83</td>\n",
       "      <td>27617.96</td>\n",
       "      <td>1003.59</td>\n",
       "      <td>42842.16</td>\n",
       "      <td>2003-04</td>\n",
       "    </tr>\n",
       "    <tr>\n",
       "      <th>3</th>\n",
       "      <td>15102.83</td>\n",
       "      <td>14113.67</td>\n",
       "      <td>9891.59</td>\n",
       "      <td>30778.42</td>\n",
       "      <td>1157.03</td>\n",
       "      <td>47038.28</td>\n",
       "      <td>2004-05</td>\n",
       "    </tr>\n",
       "    <tr>\n",
       "      <th>4</th>\n",
       "      <td>16233.26</td>\n",
       "      <td>15080.77</td>\n",
       "      <td>1152.49</td>\n",
       "      <td>36286.98</td>\n",
       "      <td>1772.6</td>\n",
       "      <td>54352.0</td>\n",
       "      <td>2005-06</td>\n",
       "    </tr>\n",
       "    <tr>\n",
       "      <th>5</th>\n",
       "      <td>18942.28</td>\n",
       "      <td>17224.55</td>\n",
       "      <td>1717.72</td>\n",
       "      <td>41716.52</td>\n",
       "      <td>1711.7</td>\n",
       "      <td>62370.49</td>\n",
       "      <td>2006-07</td>\n",
       "    </tr>\n",
       "    <tr>\n",
       "      <th>6</th>\n",
       "      <td>21644.47</td>\n",
       "      <td>19844.17</td>\n",
       "      <td>1800.01</td>\n",
       "      <td>47434.9</td>\n",
       "      <td>2565.29</td>\n",
       "      <td>71644.66</td>\n",
       "      <td>2007-08</td>\n",
       "    </tr>\n",
       "    <tr>\n",
       "      <th>7</th>\n",
       "      <td>23902.98</td>\n",
       "      <td>21931.32</td>\n",
       "      <td>1971.66</td>\n",
       "      <td>53433.42</td>\n",
       "      <td>2500.66</td>\n",
       "      <td>79837.06</td>\n",
       "      <td>2008-09</td>\n",
       "    </tr>\n",
       "    <tr>\n",
       "      <th>8</th>\n",
       "      <td>25723.29</td>\n",
       "      <td>23488.17</td>\n",
       "      <td>2235.01</td>\n",
       "      <td>58501.68</td>\n",
       "      <td>2879.68</td>\n",
       "      <td>87104.65</td>\n",
       "      <td>2009-10</td>\n",
       "    </tr>\n",
       "    <tr>\n",
       "      <th>9</th>\n",
       "      <td>28175.49</td>\n",
       "      <td>25705.64</td>\n",
       "      <td>2469.84</td>\n",
       "      <td>62844.72</td>\n",
       "      <td>3215.8</td>\n",
       "      <td>94422.3</td>\n",
       "      <td>2010-11</td>\n",
       "    </tr>\n",
       "    <tr>\n",
       "      <th>10</th>\n",
       "      <td>30962.96</td>\n",
       "      <td>28246.43</td>\n",
       "      <td>2716.53</td>\n",
       "      <td>69547.59</td>\n",
       "      <td>3401.47</td>\n",
       "      <td>104153.55</td>\n",
       "      <td>2011-12</td>\n",
       "    </tr>\n",
       "    <tr>\n",
       "      <th>11</th>\n",
       "      <td>34377.07</td>\n",
       "      <td>31322.84</td>\n",
       "      <td>3054.23</td>\n",
       "      <td>85262.58</td>\n",
       "      <td>4094.61</td>\n",
       "      <td>123901.01</td>\n",
       "      <td>2012-13</td>\n",
       "    </tr>\n",
       "    <tr>\n",
       "      <th>12</th>\n",
       "      <td>40210.78</td>\n",
       "      <td>36532.25</td>\n",
       "      <td>3678.52</td>\n",
       "      <td>93905.63</td>\n",
       "      <td>5526.08</td>\n",
       "      <td>139837.7</td>\n",
       "      <td>2013-14</td>\n",
       "    </tr>\n",
       "    <tr>\n",
       "      <th>13</th>\n",
       "      <td>46187.5</td>\n",
       "      <td>42189.61</td>\n",
       "      <td>3997.9</td>\n",
       "      <td>105791.34</td>\n",
       "      <td>4876.67</td>\n",
       "      <td>157071.57</td>\n",
       "      <td>2014-15</td>\n",
       "    </tr>\n",
       "  </tbody>\n",
       "</table>\n",
       "</div>"
      ],
      "text/plain": [
       "   1. Coaching Earnings: (A) Passenger earnings (B) Other coaching earnings  \\\n",
       "0               12068.69               11196.45                     8722.43   \n",
       "1               13563.39               12575.44                     9879.49   \n",
       "2               14220.61               13298.33                     9222.83   \n",
       "3               15102.83               14113.67                     9891.59   \n",
       "4               16233.26               15080.77                     1152.49   \n",
       "5               18942.28               17224.55                     1717.72   \n",
       "6               21644.47               19844.17                     1800.01   \n",
       "7               23902.98               21931.32                     1971.66   \n",
       "8               25723.29               23488.17                     2235.01   \n",
       "9               28175.49               25705.64                     2469.84   \n",
       "10              30962.96               28246.43                     2716.53   \n",
       "11              34377.07               31322.84                     3054.23   \n",
       "12              40210.78               36532.25                     3678.52   \n",
       "13               46187.5               42189.61                      3997.9   \n",
       "\n",
       "   2. Goods earnings (1)  \\\n",
       "0                24845.4   \n",
       "1               26504.83   \n",
       "2               27617.96   \n",
       "3               30778.42   \n",
       "4               36286.98   \n",
       "5               41716.52   \n",
       "6                47434.9   \n",
       "7               53433.42   \n",
       "8               58501.68   \n",
       "9               62844.72   \n",
       "10              69547.59   \n",
       "11              85262.58   \n",
       "12              93905.63   \n",
       "13             105791.34   \n",
       "\n",
       "   3. Other miscellaneous earnings(Excluding Rent& Toll)  \\\n",
       "0                                             9444.51      \n",
       "1                                             1179.52      \n",
       "2                                             1003.59      \n",
       "3                                             1157.03      \n",
       "4                                              1772.6      \n",
       "5                                              1711.7      \n",
       "6                                             2565.29      \n",
       "7                                             2500.66      \n",
       "8                                             2879.68      \n",
       "9                                              3215.8      \n",
       "10                                            3401.47      \n",
       "11                                            4094.61      \n",
       "12                                            5526.08      \n",
       "13                                            4876.67      \n",
       "\n",
       "   Total gross earnings(Icluding rent & toll)     Year  \n",
       "0                                    37858.54  2001-02  \n",
       "1                                    41147.73  2002-03  \n",
       "2                                    42842.16  2003-04  \n",
       "3                                    47038.28  2004-05  \n",
       "4                                     54352.0  2005-06  \n",
       "5                                    62370.49  2006-07  \n",
       "6                                    71644.66  2007-08  \n",
       "7                                    79837.06  2008-09  \n",
       "8                                    87104.65  2009-10  \n",
       "9                                     94422.3  2010-11  \n",
       "10                                  104153.55  2011-12  \n",
       "11                                  123901.01  2012-13  \n",
       "12                                   139837.7  2013-14  \n",
       "13                                  157071.57  2014-15  "
      ]
     },
     "execution_count": 52,
     "metadata": {},
     "output_type": "execute_result"
    }
   ],
   "source": [
    "df_gross_tra_ear=pd.read_csv(f'datasets/finan/All India level Details of Gross Traffic Earnings of Railways from 2001-02 to 2014-15.csv')\n",
    "\n",
    "df_gross_tra_ear.drop(['Category'], axis=1,inplace=True)\n",
    "df_gross_tra_ear = df_gross_tra_ear.T\n",
    "df_gross_tra_ear=df_gross_tra_ear.rename(columns=df_gross_tra_ear.iloc[0]).drop(df_gross_tra_ear.index[0])\n",
    "df_gross_tra_ear['Year'] = df_gross_tra_ear.index\n",
    "df_gross_tra_ear=df_gross_tra_ear.reset_index(drop=True)\n",
    "df_gross_tra_ear"
   ]
  },
  {
   "cell_type": "code",
   "execution_count": 58,
   "id": "b739e641-8abd-4cf7-bd24-0814e7c91aee",
   "metadata": {},
   "outputs": [],
   "source": [
    "x_data = df_road_tax_c['Year']"
   ]
  },
  {
   "cell_type": "code",
   "execution_count": 59,
   "id": "d5dc72d9-ca2b-4ac9-9dbd-77edf2e9a25e",
   "metadata": {},
   "outputs": [
    {
     "data": {
      "text/plain": [
       "Index(['1. Coaching Earnings:', '(A) Passenger earnings',\n",
       "       '(B) Other coaching earnings', '2. Goods earnings (1)',\n",
       "       '3. Other miscellaneous earnings(Excluding Rent& Toll)',\n",
       "       'Total gross earnings(Icluding rent & toll)', 'Year'],\n",
       "      dtype='object')"
      ]
     },
     "execution_count": 59,
     "metadata": {},
     "output_type": "execute_result"
    }
   ],
   "source": [
    "df_gross_tra_ear.columns"
   ]
  },
  {
   "cell_type": "code",
   "execution_count": 60,
   "id": "a9cb4b6a-c544-4f33-bca9-319f2fd511b2",
   "metadata": {},
   "outputs": [],
   "source": [
    "y_data_1_c = df_gross_tra_ear['1. Coaching Earnings:']\n",
    "y_data_2_c = df_gross_tra_ear['(A) Passenger earnings']\n",
    "y_data_3_c = df_gross_tra_ear['(B) Other coaching earnings']\n",
    "y_data_4_c = df_gross_tra_ear['2. Goods earnings (1)']\n",
    "y_data_5_c = df_gross_tra_ear['3. Other miscellaneous earnings(Excluding Rent& Toll)']\n",
    "y_data_6_c = df_gross_tra_ear['Total gross earnings(Icluding rent & toll)']"
   ]
  },
  {
   "cell_type": "code",
   "execution_count": 61,
   "id": "23ce6479-9964-4f10-aa4a-75e856eb2878",
   "metadata": {},
   "outputs": [],
   "source": [
    "trace_1_c = go.Scatter(x=x_data, y=y_data_1_c, mode='lines', name='Motor Vehicles & Accessories - Import Duty')\n",
    "trace_2_c = go.Scatter(x=x_data, y=y_data_2_c, mode='lines', name='Motor Vehicles & Accessories - Excise Duty')\n",
    "trace_3_c = go.Scatter(x=x_data, y=y_data_3_c, mode='lines', name='Motor Vehicles & Accessories - Total')\n",
    "trace_4_c = go.Scatter(x=x_data, y=y_data_4_c, mode='lines', name='Tyres & Tubes - Import Duty')\n",
    "trace_5_c = go.Scatter(x=x_data, y=y_data_5_c, mode='lines', name='Tyres & Tubes - Excise Duty')\n",
    "trace_6_c = go.Scatter(x=x_data, y=y_data_6_c, mode='lines', name='Tyres & Tubes - Total')"
   ]
  },
  {
   "cell_type": "code",
   "execution_count": 62,
   "id": "5924b34a-b77f-4b34-b92b-57da7c18dd17",
   "metadata": {},
   "outputs": [
    {
     "data": {
      "application/vnd.plotly.v1+json": {
       "config": {
        "plotlyServerURL": "https://plot.ly"
       },
       "data": [
        {
         "mode": "lines",
         "name": "Motor Vehicles & Accessories - Import Duty",
         "type": "scatter",
         "x": [
          "2009-10",
          "2010-11",
          "2011-12",
          "2012-13",
          "2013-14",
          "2014-15",
          "2015-16",
          "2016-17",
          "2017-18",
          "2018-19",
          "Percentage share"
         ],
         "y": [
          12068.69,
          13563.39,
          14220.61,
          15102.83,
          16233.26,
          18942.28,
          21644.47,
          23902.98,
          25723.29,
          28175.49,
          30962.96,
          34377.07,
          40210.78,
          46187.5
         ]
        },
        {
         "mode": "lines",
         "name": "Motor Vehicles & Accessories - Excise Duty",
         "type": "scatter",
         "x": [
          "2009-10",
          "2010-11",
          "2011-12",
          "2012-13",
          "2013-14",
          "2014-15",
          "2015-16",
          "2016-17",
          "2017-18",
          "2018-19",
          "Percentage share"
         ],
         "y": [
          11196.45,
          12575.44,
          13298.33,
          14113.67,
          15080.77,
          17224.55,
          19844.17,
          21931.32,
          23488.17,
          25705.64,
          28246.43,
          31322.84,
          36532.25,
          42189.61
         ]
        },
        {
         "mode": "lines",
         "name": "Motor Vehicles & Accessories - Total",
         "type": "scatter",
         "x": [
          "2009-10",
          "2010-11",
          "2011-12",
          "2012-13",
          "2013-14",
          "2014-15",
          "2015-16",
          "2016-17",
          "2017-18",
          "2018-19",
          "Percentage share"
         ],
         "y": [
          8722.43,
          9879.49,
          9222.83,
          9891.59,
          1152.49,
          1717.72,
          1800.01,
          1971.66,
          2235.01,
          2469.84,
          2716.53,
          3054.23,
          3678.52,
          3997.9
         ]
        },
        {
         "mode": "lines",
         "name": "Tyres & Tubes - Import Duty",
         "type": "scatter",
         "x": [
          "2009-10",
          "2010-11",
          "2011-12",
          "2012-13",
          "2013-14",
          "2014-15",
          "2015-16",
          "2016-17",
          "2017-18",
          "2018-19",
          "Percentage share"
         ],
         "y": [
          24845.4,
          26504.83,
          27617.96,
          30778.42,
          36286.98,
          41716.52,
          47434.9,
          53433.42,
          58501.68,
          62844.72,
          69547.59,
          85262.58,
          93905.63,
          105791.34
         ]
        },
        {
         "mode": "lines",
         "name": "Tyres & Tubes - Excise Duty",
         "type": "scatter",
         "x": [
          "2009-10",
          "2010-11",
          "2011-12",
          "2012-13",
          "2013-14",
          "2014-15",
          "2015-16",
          "2016-17",
          "2017-18",
          "2018-19",
          "Percentage share"
         ],
         "y": [
          9444.51,
          1179.52,
          1003.59,
          1157.03,
          1772.6,
          1711.7,
          2565.29,
          2500.66,
          2879.68,
          3215.8,
          3401.47,
          4094.61,
          5526.08,
          4876.67
         ]
        },
        {
         "mode": "lines",
         "name": "Tyres & Tubes - Total",
         "type": "scatter",
         "x": [
          "2009-10",
          "2010-11",
          "2011-12",
          "2012-13",
          "2013-14",
          "2014-15",
          "2015-16",
          "2016-17",
          "2017-18",
          "2018-19",
          "Percentage share"
         ],
         "y": [
          37858.54,
          41147.73,
          42842.16,
          47038.28,
          54352,
          62370.49,
          71644.66,
          79837.06,
          87104.65,
          94422.3,
          104153.55,
          123901.01,
          139837.7,
          157071.57
         ]
        }
       ],
       "layout": {
        "height": 360,
        "template": {
         "data": {
          "bar": [
           {
            "error_x": {
             "color": "#2a3f5f"
            },
            "error_y": {
             "color": "#2a3f5f"
            },
            "marker": {
             "line": {
              "color": "#E5ECF6",
              "width": 0.5
             },
             "pattern": {
              "fillmode": "overlay",
              "size": 10,
              "solidity": 0.2
             }
            },
            "type": "bar"
           }
          ],
          "barpolar": [
           {
            "marker": {
             "line": {
              "color": "#E5ECF6",
              "width": 0.5
             },
             "pattern": {
              "fillmode": "overlay",
              "size": 10,
              "solidity": 0.2
             }
            },
            "type": "barpolar"
           }
          ],
          "carpet": [
           {
            "aaxis": {
             "endlinecolor": "#2a3f5f",
             "gridcolor": "white",
             "linecolor": "white",
             "minorgridcolor": "white",
             "startlinecolor": "#2a3f5f"
            },
            "baxis": {
             "endlinecolor": "#2a3f5f",
             "gridcolor": "white",
             "linecolor": "white",
             "minorgridcolor": "white",
             "startlinecolor": "#2a3f5f"
            },
            "type": "carpet"
           }
          ],
          "choropleth": [
           {
            "colorbar": {
             "outlinewidth": 0,
             "ticks": ""
            },
            "type": "choropleth"
           }
          ],
          "contour": [
           {
            "colorbar": {
             "outlinewidth": 0,
             "ticks": ""
            },
            "colorscale": [
             [
              0,
              "#0d0887"
             ],
             [
              0.1111111111111111,
              "#46039f"
             ],
             [
              0.2222222222222222,
              "#7201a8"
             ],
             [
              0.3333333333333333,
              "#9c179e"
             ],
             [
              0.4444444444444444,
              "#bd3786"
             ],
             [
              0.5555555555555556,
              "#d8576b"
             ],
             [
              0.6666666666666666,
              "#ed7953"
             ],
             [
              0.7777777777777778,
              "#fb9f3a"
             ],
             [
              0.8888888888888888,
              "#fdca26"
             ],
             [
              1,
              "#f0f921"
             ]
            ],
            "type": "contour"
           }
          ],
          "contourcarpet": [
           {
            "colorbar": {
             "outlinewidth": 0,
             "ticks": ""
            },
            "type": "contourcarpet"
           }
          ],
          "heatmap": [
           {
            "colorbar": {
             "outlinewidth": 0,
             "ticks": ""
            },
            "colorscale": [
             [
              0,
              "#0d0887"
             ],
             [
              0.1111111111111111,
              "#46039f"
             ],
             [
              0.2222222222222222,
              "#7201a8"
             ],
             [
              0.3333333333333333,
              "#9c179e"
             ],
             [
              0.4444444444444444,
              "#bd3786"
             ],
             [
              0.5555555555555556,
              "#d8576b"
             ],
             [
              0.6666666666666666,
              "#ed7953"
             ],
             [
              0.7777777777777778,
              "#fb9f3a"
             ],
             [
              0.8888888888888888,
              "#fdca26"
             ],
             [
              1,
              "#f0f921"
             ]
            ],
            "type": "heatmap"
           }
          ],
          "heatmapgl": [
           {
            "colorbar": {
             "outlinewidth": 0,
             "ticks": ""
            },
            "colorscale": [
             [
              0,
              "#0d0887"
             ],
             [
              0.1111111111111111,
              "#46039f"
             ],
             [
              0.2222222222222222,
              "#7201a8"
             ],
             [
              0.3333333333333333,
              "#9c179e"
             ],
             [
              0.4444444444444444,
              "#bd3786"
             ],
             [
              0.5555555555555556,
              "#d8576b"
             ],
             [
              0.6666666666666666,
              "#ed7953"
             ],
             [
              0.7777777777777778,
              "#fb9f3a"
             ],
             [
              0.8888888888888888,
              "#fdca26"
             ],
             [
              1,
              "#f0f921"
             ]
            ],
            "type": "heatmapgl"
           }
          ],
          "histogram": [
           {
            "marker": {
             "pattern": {
              "fillmode": "overlay",
              "size": 10,
              "solidity": 0.2
             }
            },
            "type": "histogram"
           }
          ],
          "histogram2d": [
           {
            "colorbar": {
             "outlinewidth": 0,
             "ticks": ""
            },
            "colorscale": [
             [
              0,
              "#0d0887"
             ],
             [
              0.1111111111111111,
              "#46039f"
             ],
             [
              0.2222222222222222,
              "#7201a8"
             ],
             [
              0.3333333333333333,
              "#9c179e"
             ],
             [
              0.4444444444444444,
              "#bd3786"
             ],
             [
              0.5555555555555556,
              "#d8576b"
             ],
             [
              0.6666666666666666,
              "#ed7953"
             ],
             [
              0.7777777777777778,
              "#fb9f3a"
             ],
             [
              0.8888888888888888,
              "#fdca26"
             ],
             [
              1,
              "#f0f921"
             ]
            ],
            "type": "histogram2d"
           }
          ],
          "histogram2dcontour": [
           {
            "colorbar": {
             "outlinewidth": 0,
             "ticks": ""
            },
            "colorscale": [
             [
              0,
              "#0d0887"
             ],
             [
              0.1111111111111111,
              "#46039f"
             ],
             [
              0.2222222222222222,
              "#7201a8"
             ],
             [
              0.3333333333333333,
              "#9c179e"
             ],
             [
              0.4444444444444444,
              "#bd3786"
             ],
             [
              0.5555555555555556,
              "#d8576b"
             ],
             [
              0.6666666666666666,
              "#ed7953"
             ],
             [
              0.7777777777777778,
              "#fb9f3a"
             ],
             [
              0.8888888888888888,
              "#fdca26"
             ],
             [
              1,
              "#f0f921"
             ]
            ],
            "type": "histogram2dcontour"
           }
          ],
          "mesh3d": [
           {
            "colorbar": {
             "outlinewidth": 0,
             "ticks": ""
            },
            "type": "mesh3d"
           }
          ],
          "parcoords": [
           {
            "line": {
             "colorbar": {
              "outlinewidth": 0,
              "ticks": ""
             }
            },
            "type": "parcoords"
           }
          ],
          "pie": [
           {
            "automargin": true,
            "type": "pie"
           }
          ],
          "scatter": [
           {
            "fillpattern": {
             "fillmode": "overlay",
             "size": 10,
             "solidity": 0.2
            },
            "type": "scatter"
           }
          ],
          "scatter3d": [
           {
            "line": {
             "colorbar": {
              "outlinewidth": 0,
              "ticks": ""
             }
            },
            "marker": {
             "colorbar": {
              "outlinewidth": 0,
              "ticks": ""
             }
            },
            "type": "scatter3d"
           }
          ],
          "scattercarpet": [
           {
            "marker": {
             "colorbar": {
              "outlinewidth": 0,
              "ticks": ""
             }
            },
            "type": "scattercarpet"
           }
          ],
          "scattergeo": [
           {
            "marker": {
             "colorbar": {
              "outlinewidth": 0,
              "ticks": ""
             }
            },
            "type": "scattergeo"
           }
          ],
          "scattergl": [
           {
            "marker": {
             "colorbar": {
              "outlinewidth": 0,
              "ticks": ""
             }
            },
            "type": "scattergl"
           }
          ],
          "scattermapbox": [
           {
            "marker": {
             "colorbar": {
              "outlinewidth": 0,
              "ticks": ""
             }
            },
            "type": "scattermapbox"
           }
          ],
          "scatterpolar": [
           {
            "marker": {
             "colorbar": {
              "outlinewidth": 0,
              "ticks": ""
             }
            },
            "type": "scatterpolar"
           }
          ],
          "scatterpolargl": [
           {
            "marker": {
             "colorbar": {
              "outlinewidth": 0,
              "ticks": ""
             }
            },
            "type": "scatterpolargl"
           }
          ],
          "scatterternary": [
           {
            "marker": {
             "colorbar": {
              "outlinewidth": 0,
              "ticks": ""
             }
            },
            "type": "scatterternary"
           }
          ],
          "surface": [
           {
            "colorbar": {
             "outlinewidth": 0,
             "ticks": ""
            },
            "colorscale": [
             [
              0,
              "#0d0887"
             ],
             [
              0.1111111111111111,
              "#46039f"
             ],
             [
              0.2222222222222222,
              "#7201a8"
             ],
             [
              0.3333333333333333,
              "#9c179e"
             ],
             [
              0.4444444444444444,
              "#bd3786"
             ],
             [
              0.5555555555555556,
              "#d8576b"
             ],
             [
              0.6666666666666666,
              "#ed7953"
             ],
             [
              0.7777777777777778,
              "#fb9f3a"
             ],
             [
              0.8888888888888888,
              "#fdca26"
             ],
             [
              1,
              "#f0f921"
             ]
            ],
            "type": "surface"
           }
          ],
          "table": [
           {
            "cells": {
             "fill": {
              "color": "#EBF0F8"
             },
             "line": {
              "color": "white"
             }
            },
            "header": {
             "fill": {
              "color": "#C8D4E3"
             },
             "line": {
              "color": "white"
             }
            },
            "type": "table"
           }
          ]
         },
         "layout": {
          "annotationdefaults": {
           "arrowcolor": "#2a3f5f",
           "arrowhead": 0,
           "arrowwidth": 1
          },
          "autotypenumbers": "strict",
          "coloraxis": {
           "colorbar": {
            "outlinewidth": 0,
            "ticks": ""
           }
          },
          "colorscale": {
           "diverging": [
            [
             0,
             "#8e0152"
            ],
            [
             0.1,
             "#c51b7d"
            ],
            [
             0.2,
             "#de77ae"
            ],
            [
             0.3,
             "#f1b6da"
            ],
            [
             0.4,
             "#fde0ef"
            ],
            [
             0.5,
             "#f7f7f7"
            ],
            [
             0.6,
             "#e6f5d0"
            ],
            [
             0.7,
             "#b8e186"
            ],
            [
             0.8,
             "#7fbc41"
            ],
            [
             0.9,
             "#4d9221"
            ],
            [
             1,
             "#276419"
            ]
           ],
           "sequential": [
            [
             0,
             "#0d0887"
            ],
            [
             0.1111111111111111,
             "#46039f"
            ],
            [
             0.2222222222222222,
             "#7201a8"
            ],
            [
             0.3333333333333333,
             "#9c179e"
            ],
            [
             0.4444444444444444,
             "#bd3786"
            ],
            [
             0.5555555555555556,
             "#d8576b"
            ],
            [
             0.6666666666666666,
             "#ed7953"
            ],
            [
             0.7777777777777778,
             "#fb9f3a"
            ],
            [
             0.8888888888888888,
             "#fdca26"
            ],
            [
             1,
             "#f0f921"
            ]
           ],
           "sequentialminus": [
            [
             0,
             "#0d0887"
            ],
            [
             0.1111111111111111,
             "#46039f"
            ],
            [
             0.2222222222222222,
             "#7201a8"
            ],
            [
             0.3333333333333333,
             "#9c179e"
            ],
            [
             0.4444444444444444,
             "#bd3786"
            ],
            [
             0.5555555555555556,
             "#d8576b"
            ],
            [
             0.6666666666666666,
             "#ed7953"
            ],
            [
             0.7777777777777778,
             "#fb9f3a"
            ],
            [
             0.8888888888888888,
             "#fdca26"
            ],
            [
             1,
             "#f0f921"
            ]
           ]
          },
          "colorway": [
           "#636efa",
           "#EF553B",
           "#00cc96",
           "#ab63fa",
           "#FFA15A",
           "#19d3f3",
           "#FF6692",
           "#B6E880",
           "#FF97FF",
           "#FECB52"
          ],
          "font": {
           "color": "#2a3f5f"
          },
          "geo": {
           "bgcolor": "white",
           "lakecolor": "white",
           "landcolor": "#E5ECF6",
           "showlakes": true,
           "showland": true,
           "subunitcolor": "white"
          },
          "hoverlabel": {
           "align": "left"
          },
          "hovermode": "closest",
          "mapbox": {
           "style": "light"
          },
          "paper_bgcolor": "white",
          "plot_bgcolor": "#E5ECF6",
          "polar": {
           "angularaxis": {
            "gridcolor": "white",
            "linecolor": "white",
            "ticks": ""
           },
           "bgcolor": "#E5ECF6",
           "radialaxis": {
            "gridcolor": "white",
            "linecolor": "white",
            "ticks": ""
           }
          },
          "scene": {
           "xaxis": {
            "backgroundcolor": "#E5ECF6",
            "gridcolor": "white",
            "gridwidth": 2,
            "linecolor": "white",
            "showbackground": true,
            "ticks": "",
            "zerolinecolor": "white"
           },
           "yaxis": {
            "backgroundcolor": "#E5ECF6",
            "gridcolor": "white",
            "gridwidth": 2,
            "linecolor": "white",
            "showbackground": true,
            "ticks": "",
            "zerolinecolor": "white"
           },
           "zaxis": {
            "backgroundcolor": "#E5ECF6",
            "gridcolor": "white",
            "gridwidth": 2,
            "linecolor": "white",
            "showbackground": true,
            "ticks": "",
            "zerolinecolor": "white"
           }
          },
          "shapedefaults": {
           "line": {
            "color": "#2a3f5f"
           }
          },
          "ternary": {
           "aaxis": {
            "gridcolor": "white",
            "linecolor": "white",
            "ticks": ""
           },
           "baxis": {
            "gridcolor": "white",
            "linecolor": "white",
            "ticks": ""
           },
           "bgcolor": "#E5ECF6",
           "caxis": {
            "gridcolor": "white",
            "linecolor": "white",
            "ticks": ""
           }
          },
          "title": {
           "x": 0.05
          },
          "xaxis": {
           "automargin": true,
           "gridcolor": "white",
           "linecolor": "white",
           "ticks": "",
           "title": {
            "standoff": 15
           },
           "zerolinecolor": "white",
           "zerolinewidth": 2
          },
          "yaxis": {
           "automargin": true,
           "gridcolor": "white",
           "linecolor": "white",
           "ticks": "",
           "title": {
            "standoff": 15
           },
           "zerolinecolor": "white",
           "zerolinewidth": 2
          }
         }
        },
        "title": {
         "text": "Revenue Realised from Road Transport (States) from 1950-21"
        },
        "width": 1100,
        "xaxis": {
         "autorange": true,
         "range": [
          "2009-10-01",
          "2011-12-01"
         ],
         "title": {
          "text": "Duration"
         },
         "type": "date"
        },
        "yaxis": {
         "autorange": true,
         "range": [
          -4726.963333333333,
          109884.10333333333
         ],
         "title": {
          "text": "Tax"
         },
         "type": "linear"
        }
       }
      },
      "image/png": "[encoded data removed]",
      "text/html": [
       "<div>                            <div id=\"5e5a8fc8-ca62-48e7-a8ff-fcb00ecc561a\" class=\"plotly-graph-div\" style=\"height:525px; width:1100px;\"></div>            <script type=\"text/javascript\">                require([\"plotly\"], function(Plotly) {                    window.PLOTLYENV=window.PLOTLYENV || {};                                    if (document.getElementById(\"5e5a8fc8-ca62-48e7-a8ff-fcb00ecc561a\")) {                    Plotly.newPlot(                        \"5e5a8fc8-ca62-48e7-a8ff-fcb00ecc561a\",                        [{\"mode\":\"lines\",\"name\":\"Motor Vehicles & Accessories - Import Duty\",\"x\":[\"2009-10\",\"2010-11\",\"2011-12\",\"2012-13\",\"2013-14\",\"2014-15\",\"2015-16\",\"2016-17\",\"2017-18\",\"2018-19\",\"Percentage share\"],\"y\":[12068.69,13563.39,14220.61,15102.83,16233.26,18942.28,21644.47,23902.98,25723.29,28175.49,30962.96,34377.07,40210.78,46187.5],\"type\":\"scatter\"},{\"mode\":\"lines\",\"name\":\"Motor Vehicles & Accessories - Excise Duty\",\"x\":[\"2009-10\",\"2010-11\",\"2011-12\",\"2012-13\",\"2013-14\",\"2014-15\",\"2015-16\",\"2016-17\",\"2017-18\",\"2018-19\",\"Percentage share\"],\"y\":[11196.45,12575.44,13298.33,14113.67,15080.77,17224.55,19844.17,21931.32,23488.17,25705.64,28246.43,31322.84,36532.25,42189.61],\"type\":\"scatter\"},{\"mode\":\"lines\",\"name\":\"Motor Vehicles & Accessories - Total\",\"x\":[\"2009-10\",\"2010-11\",\"2011-12\",\"2012-13\",\"2013-14\",\"2014-15\",\"2015-16\",\"2016-17\",\"2017-18\",\"2018-19\",\"Percentage share\"],\"y\":[8722.43,9879.49,9222.83,9891.59,1152.49,1717.72,1800.01,1971.66,2235.01,2469.84,2716.53,3054.23,3678.52,3997.9],\"type\":\"scatter\"},{\"mode\":\"lines\",\"name\":\"Tyres & Tubes - Import Duty\",\"x\":[\"2009-10\",\"2010-11\",\"2011-12\",\"2012-13\",\"2013-14\",\"2014-15\",\"2015-16\",\"2016-17\",\"2017-18\",\"2018-19\",\"Percentage share\"],\"y\":[24845.4,26504.83,27617.96,30778.42,36286.98,41716.52,47434.9,53433.42,58501.68,62844.72,69547.59,85262.58,93905.63,105791.34],\"type\":\"scatter\"},{\"mode\":\"lines\",\"name\":\"Tyres & Tubes - Excise Duty\",\"x\":[\"2009-10\",\"2010-11\",\"2011-12\",\"2012-13\",\"2013-14\",\"2014-15\",\"2015-16\",\"2016-17\",\"2017-18\",\"2018-19\",\"Percentage share\"],\"y\":[9444.51,1179.52,1003.59,1157.03,1772.6,1711.7,2565.29,2500.66,2879.68,3215.8,3401.47,4094.61,5526.08,4876.67],\"type\":\"scatter\"},{\"mode\":\"lines\",\"name\":\"Tyres & Tubes - Total\",\"x\":[\"2009-10\",\"2010-11\",\"2011-12\",\"2012-13\",\"2013-14\",\"2014-15\",\"2015-16\",\"2016-17\",\"2017-18\",\"2018-19\",\"Percentage share\"],\"y\":[37858.54,41147.73,42842.16,47038.28,54352.0,62370.49,71644.66,79837.06,87104.65,94422.3,104153.55,123901.01,139837.7,157071.57],\"type\":\"scatter\"}],                        {\"template\":{\"data\":{\"histogram2dcontour\":[{\"type\":\"histogram2dcontour\",\"colorbar\":{\"outlinewidth\":0,\"ticks\":\"\"},\"colorscale\":[[0.0,\"#0d0887\"],[0.1111111111111111,\"#46039f\"],[0.2222222222222222,\"#7201a8\"],[0.3333333333333333,\"#9c179e\"],[0.4444444444444444,\"#bd3786\"],[0.5555555555555556,\"#d8576b\"],[0.6666666666666666,\"#ed7953\"],[0.7777777777777778,\"#fb9f3a\"],[0.8888888888888888,\"#fdca26\"],[1.0,\"#f0f921\"]]}],\"choropleth\":[{\"type\":\"choropleth\",\"colorbar\":{\"outlinewidth\":0,\"ticks\":\"\"}}],\"histogram2d\":[{\"type\":\"histogram2d\",\"colorbar\":{\"outlinewidth\":0,\"ticks\":\"\"},\"colorscale\":[[0.0,\"#0d0887\"],[0.1111111111111111,\"#46039f\"],[0.2222222222222222,\"#7201a8\"],[0.3333333333333333,\"#9c179e\"],[0.4444444444444444,\"#bd3786\"],[0.5555555555555556,\"#d8576b\"],[0.6666666666666666,\"#ed7953\"],[0.7777777777777778,\"#fb9f3a\"],[0.8888888888888888,\"#fdca26\"],[1.0,\"#f0f921\"]]}],\"heatmap\":[{\"type\":\"heatmap\",\"colorbar\":{\"outlinewidth\":0,\"ticks\":\"\"},\"colorscale\":[[0.0,\"#0d0887\"],[0.1111111111111111,\"#46039f\"],[0.2222222222222222,\"#7201a8\"],[0.3333333333333333,\"#9c179e\"],[0.4444444444444444,\"#bd3786\"],[0.5555555555555556,\"#d8576b\"],[0.6666666666666666,\"#ed7953\"],[0.7777777777777778,\"#fb9f3a\"],[0.8888888888888888,\"#fdca26\"],[1.0,\"#f0f921\"]]}],\"heatmapgl\":[{\"type\":\"heatmapgl\",\"colorbar\":{\"outlinewidth\":0,\"ticks\":\"\"},\"colorscale\":[[0.0,\"#0d0887\"],[0.1111111111111111,\"#46039f\"],[0.2222222222222222,\"#7201a8\"],[0.3333333333333333,\"#9c179e\"],[0.4444444444444444,\"#bd3786\"],[0.5555555555555556,\"#d8576b\"],[0.6666666666666666,\"#ed7953\"],[0.7777777777777778,\"#fb9f3a\"],[0.8888888888888888,\"#fdca26\"],[1.0,\"#f0f921\"]]}],\"contourcarpet\":[{\"type\":\"contourcarpet\",\"colorbar\":{\"outlinewidth\":0,\"ticks\":\"\"}}],\"contour\":[{\"type\":\"contour\",\"colorbar\":{\"outlinewidth\":0,\"ticks\":\"\"},\"colorscale\":[[0.0,\"#0d0887\"],[0.1111111111111111,\"#46039f\"],[0.2222222222222222,\"#7201a8\"],[0.3333333333333333,\"#9c179e\"],[0.4444444444444444,\"#bd3786\"],[0.5555555555555556,\"#d8576b\"],[0.6666666666666666,\"#ed7953\"],[0.7777777777777778,\"#fb9f3a\"],[0.8888888888888888,\"#fdca26\"],[1.0,\"#f0f921\"]]}],\"surface\":[{\"type\":\"surface\",\"colorbar\":{\"outlinewidth\":0,\"ticks\":\"\"},\"colorscale\":[[0.0,\"#0d0887\"],[0.1111111111111111,\"#46039f\"],[0.2222222222222222,\"#7201a8\"],[0.3333333333333333,\"#9c179e\"],[0.4444444444444444,\"#bd3786\"],[0.5555555555555556,\"#d8576b\"],[0.6666666666666666,\"#ed7953\"],[0.7777777777777778,\"#fb9f3a\"],[0.8888888888888888,\"#fdca26\"],[1.0,\"#f0f921\"]]}],\"mesh3d\":[{\"type\":\"mesh3d\",\"colorbar\":{\"outlinewidth\":0,\"ticks\":\"\"}}],\"scatter\":[{\"fillpattern\":{\"fillmode\":\"overlay\",\"size\":10,\"solidity\":0.2},\"type\":\"scatter\"}],\"parcoords\":[{\"type\":\"parcoords\",\"line\":{\"colorbar\":{\"outlinewidth\":0,\"ticks\":\"\"}}}],\"scatterpolargl\":[{\"type\":\"scatterpolargl\",\"marker\":{\"colorbar\":{\"outlinewidth\":0,\"ticks\":\"\"}}}],\"bar\":[{\"error_x\":{\"color\":\"#2a3f5f\"},\"error_y\":{\"color\":\"#2a3f5f\"},\"marker\":{\"line\":{\"color\":\"#E5ECF6\",\"width\":0.5},\"pattern\":{\"fillmode\":\"overlay\",\"size\":10,\"solidity\":0.2}},\"type\":\"bar\"}],\"scattergeo\":[{\"type\":\"scattergeo\",\"marker\":{\"colorbar\":{\"outlinewidth\":0,\"ticks\":\"\"}}}],\"scatterpolar\":[{\"type\":\"scatterpolar\",\"marker\":{\"colorbar\":{\"outlinewidth\":0,\"ticks\":\"\"}}}],\"histogram\":[{\"marker\":{\"pattern\":{\"fillmode\":\"overlay\",\"size\":10,\"solidity\":0.2}},\"type\":\"histogram\"}],\"scattergl\":[{\"type\":\"scattergl\",\"marker\":{\"colorbar\":{\"outlinewidth\":0,\"ticks\":\"\"}}}],\"scatter3d\":[{\"type\":\"scatter3d\",\"line\":{\"colorbar\":{\"outlinewidth\":0,\"ticks\":\"\"}},\"marker\":{\"colorbar\":{\"outlinewidth\":0,\"ticks\":\"\"}}}],\"scattermapbox\":[{\"type\":\"scattermapbox\",\"marker\":{\"colorbar\":{\"outlinewidth\":0,\"ticks\":\"\"}}}],\"scatterternary\":[{\"type\":\"scatterternary\",\"marker\":{\"colorbar\":{\"outlinewidth\":0,\"ticks\":\"\"}}}],\"scattercarpet\":[{\"type\":\"scattercarpet\",\"marker\":{\"colorbar\":{\"outlinewidth\":0,\"ticks\":\"\"}}}],\"carpet\":[{\"aaxis\":{\"endlinecolor\":\"#2a3f5f\",\"gridcolor\":\"white\",\"linecolor\":\"white\",\"minorgridcolor\":\"white\",\"startlinecolor\":\"#2a3f5f\"},\"baxis\":{\"endlinecolor\":\"#2a3f5f\",\"gridcolor\":\"white\",\"linecolor\":\"white\",\"minorgridcolor\":\"white\",\"startlinecolor\":\"#2a3f5f\"},\"type\":\"carpet\"}],\"table\":[{\"cells\":{\"fill\":{\"color\":\"#EBF0F8\"},\"line\":{\"color\":\"white\"}},\"header\":{\"fill\":{\"color\":\"#C8D4E3\"},\"line\":{\"color\":\"white\"}},\"type\":\"table\"}],\"barpolar\":[{\"marker\":{\"line\":{\"color\":\"#E5ECF6\",\"width\":0.5},\"pattern\":{\"fillmode\":\"overlay\",\"size\":10,\"solidity\":0.2}},\"type\":\"barpolar\"}],\"pie\":[{\"automargin\":true,\"type\":\"pie\"}]},\"layout\":{\"autotypenumbers\":\"strict\",\"colorway\":[\"#636efa\",\"#EF553B\",\"#00cc96\",\"#ab63fa\",\"#FFA15A\",\"#19d3f3\",\"#FF6692\",\"#B6E880\",\"#FF97FF\",\"#FECB52\"],\"font\":{\"color\":\"#2a3f5f\"},\"hovermode\":\"closest\",\"hoverlabel\":{\"align\":\"left\"},\"paper_bgcolor\":\"white\",\"plot_bgcolor\":\"#E5ECF6\",\"polar\":{\"bgcolor\":\"#E5ECF6\",\"angularaxis\":{\"gridcolor\":\"white\",\"linecolor\":\"white\",\"ticks\":\"\"},\"radialaxis\":{\"gridcolor\":\"white\",\"linecolor\":\"white\",\"ticks\":\"\"}},\"ternary\":{\"bgcolor\":\"#E5ECF6\",\"aaxis\":{\"gridcolor\":\"white\",\"linecolor\":\"white\",\"ticks\":\"\"},\"baxis\":{\"gridcolor\":\"white\",\"linecolor\":\"white\",\"ticks\":\"\"},\"caxis\":{\"gridcolor\":\"white\",\"linecolor\":\"white\",\"ticks\":\"\"}},\"coloraxis\":{\"colorbar\":{\"outlinewidth\":0,\"ticks\":\"\"}},\"colorscale\":{\"sequential\":[[0.0,\"#0d0887\"],[0.1111111111111111,\"#46039f\"],[0.2222222222222222,\"#7201a8\"],[0.3333333333333333,\"#9c179e\"],[0.4444444444444444,\"#bd3786\"],[0.5555555555555556,\"#d8576b\"],[0.6666666666666666,\"#ed7953\"],[0.7777777777777778,\"#fb9f3a\"],[0.8888888888888888,\"#fdca26\"],[1.0,\"#f0f921\"]],\"sequentialminus\":[[0.0,\"#0d0887\"],[0.1111111111111111,\"#46039f\"],[0.2222222222222222,\"#7201a8\"],[0.3333333333333333,\"#9c179e\"],[0.4444444444444444,\"#bd3786\"],[0.5555555555555556,\"#d8576b\"],[0.6666666666666666,\"#ed7953\"],[0.7777777777777778,\"#fb9f3a\"],[0.8888888888888888,\"#fdca26\"],[1.0,\"#f0f921\"]],\"diverging\":[[0,\"#8e0152\"],[0.1,\"#c51b7d\"],[0.2,\"#de77ae\"],[0.3,\"#f1b6da\"],[0.4,\"#fde0ef\"],[0.5,\"#f7f7f7\"],[0.6,\"#e6f5d0\"],[0.7,\"#b8e186\"],[0.8,\"#7fbc41\"],[0.9,\"#4d9221\"],[1,\"#276419\"]]},\"xaxis\":{\"gridcolor\":\"white\",\"linecolor\":\"white\",\"ticks\":\"\",\"title\":{\"standoff\":15},\"zerolinecolor\":\"white\",\"automargin\":true,\"zerolinewidth\":2},\"yaxis\":{\"gridcolor\":\"white\",\"linecolor\":\"white\",\"ticks\":\"\",\"title\":{\"standoff\":15},\"zerolinecolor\":\"white\",\"automargin\":true,\"zerolinewidth\":2},\"scene\":{\"xaxis\":{\"backgroundcolor\":\"#E5ECF6\",\"gridcolor\":\"white\",\"linecolor\":\"white\",\"showbackground\":true,\"ticks\":\"\",\"zerolinecolor\":\"white\",\"gridwidth\":2},\"yaxis\":{\"backgroundcolor\":\"#E5ECF6\",\"gridcolor\":\"white\",\"linecolor\":\"white\",\"showbackground\":true,\"ticks\":\"\",\"zerolinecolor\":\"white\",\"gridwidth\":2},\"zaxis\":{\"backgroundcolor\":\"#E5ECF6\",\"gridcolor\":\"white\",\"linecolor\":\"white\",\"showbackground\":true,\"ticks\":\"\",\"zerolinecolor\":\"white\",\"gridwidth\":2}},\"shapedefaults\":{\"line\":{\"color\":\"#2a3f5f\"}},\"annotationdefaults\":{\"arrowcolor\":\"#2a3f5f\",\"arrowhead\":0,\"arrowwidth\":1},\"geo\":{\"bgcolor\":\"white\",\"landcolor\":\"#E5ECF6\",\"subunitcolor\":\"white\",\"showland\":true,\"showlakes\":true,\"lakecolor\":\"white\"},\"title\":{\"x\":0.05},\"mapbox\":{\"style\":\"light\"}}},\"title\":{\"text\":\"Revenue Realised from Road Transport (States) from 1950-21\"},\"width\":1100,\"xaxis\":{\"title\":{\"text\":\"Duration\"}},\"yaxis\":{\"title\":{\"text\":\"Tax\"}}},                        {\"responsive\": true}                    ).then(function(){\n",
       "                            \n",
       "var gd = document.getElementById('5e5a8fc8-ca62-48e7-a8ff-fcb00ecc561a');\n",
       "var x = new MutationObserver(function (mutations, observer) {{\n",
       "        var display = window.getComputedStyle(gd).display;\n",
       "        if (!display || display === 'none') {{\n",
       "            console.log([gd, 'removed!']);\n",
       "            Plotly.purge(gd);\n",
       "            observer.disconnect();\n",
       "        }}\n",
       "}});\n",
       "\n",
       "// Listen for the removal of the full notebook cells\n",
       "var notebookContainer = gd.closest('#notebook-container');\n",
       "if (notebookContainer) {{\n",
       "    x.observe(notebookContainer, {childList: true});\n",
       "}}\n",
       "\n",
       "// Listen for the clearing of the current output cell\n",
       "var outputEl = gd.closest('.output');\n",
       "if (outputEl) {{\n",
       "    x.observe(outputEl, {childList: true});\n",
       "}}\n",
       "\n",
       "                        })                };                });            </script>        </div>"
      ]
     },
     "metadata": {},
     "output_type": "display_data"
    }
   ],
   "source": [
    "fig_road_tax_c = go.Figure([\n",
    "    trace_1_c, trace_2_c,trace_3_c,trace_4_c,trace_5_c,trace_6_c\n",
    "])\n",
    "fig_road_tax_c.update_layout(\n",
    "    title = 'Revenue Realised from Road Transport (States) from 1950-21',\n",
    "    width = 1100,\n",
    "    xaxis_title = 'Duration',\n",
    "    yaxis_title = 'Tax'\n",
    ")\n",
    "\n",
    "fig_road_tax_c.show()"
   ]
  },
  {
   "cell_type": "code",
   "execution_count": 64,
   "id": "97346777-b1e2-40ab-9a01-39bfb9252329",
   "metadata": {},
   "outputs": [],
   "source": [
    "df_pft=pd.read_csv(f'datasets/finan/Financial Performance of SRTUs at a Glance from 2011-12 to 2015-16.csv')"
   ]
  },
  {
   "cell_type": "code",
   "execution_count": 66,
   "id": "ee2e2035-a5fa-43c4-8261-4d905a167e7d",
   "metadata": {},
   "outputs": [
    {
     "data": {
      "text/plain": [
       "Index(['S. No.', 'Name of State Road Transport Undertaking (SRTU)',\n",
       "       'Total Revenue (Rs. Lakh) - 2011-12',\n",
       "       'Total Revenue (Rs. Lakh) - 2012-13',\n",
       "       'Total Revenue (Rs. Lakh) - 2013-14',\n",
       "       'Total Revenue (Rs. Lakh) - 2014-15',\n",
       "       'Total Revenue (Rs. Lakh) - 2015-16', 'Total Cost (Rs. Lakh) - 2011-12',\n",
       "       'Total Cost (Rs. Lakh) - 2012-13', 'Total Cost (Rs. Lakh) - 2013-14',\n",
       "       'Total Cost (Rs. Lakh) - 2014-15', 'Total Cost (Rs. Lakh) - 2015-16',\n",
       "       'Net Profit/Loss (Rs. Lakh) - 2011-12',\n",
       "       'Net Profit/Loss (Rs. Lakh) - 2012-13',\n",
       "       'Net Profit/Loss (Rs. Lakh) - 2013-14',\n",
       "       'Net Profit/Loss (Rs. Lakh) - 2014-15',\n",
       "       'Net Profit/Loss (Rs. Lakh) - 2015-16'],\n",
       "      dtype='object')"
      ]
     },
     "execution_count": 66,
     "metadata": {},
     "output_type": "execute_result"
    }
   ],
   "source": [
    "df_pft.columns"
   ]
  },
  {
   "cell_type": "code",
   "execution_count": 70,
   "id": "7667d69d-2179-4569-8fb9-15a59eeb576c",
   "metadata": {},
   "outputs": [],
   "source": [
    "df_pft_rev=df_pft[['Name of State Road Transport Undertaking (SRTU)',\n",
    "       'Total Revenue (Rs. Lakh) - 2011-12',\n",
    "       'Total Revenue (Rs. Lakh) - 2012-13',\n",
    "       'Total Revenue (Rs. Lakh) - 2013-14',\n",
    "       'Total Revenue (Rs. Lakh) - 2014-15',\n",
    "       'Total Revenue (Rs. Lakh) - 2015-16']]"
   ]
  },
  {
   "cell_type": "code",
   "execution_count": 71,
   "id": "b793f81c-d255-44ce-b2ae-449259da721a",
   "metadata": {},
   "outputs": [],
   "source": [
    "df_pft_cost=df_pft[['Name of State Road Transport Undertaking (SRTU)','Total Cost (Rs. Lakh) - 2011-12',\n",
    "       'Total Cost (Rs. Lakh) - 2012-13', 'Total Cost (Rs. Lakh) - 2013-14',\n",
    "       'Total Cost (Rs. Lakh) - 2014-15', 'Total Cost (Rs. Lakh) - 2015-16']]"
   ]
  },
  {
   "cell_type": "code",
   "execution_count": 72,
   "id": "c3f7fef5-cfaa-4093-810f-0850d067c904",
   "metadata": {},
   "outputs": [],
   "source": [
    "df_pft_PL=df_pft[['Name of State Road Transport Undertaking (SRTU)','Net Profit/Loss (Rs. Lakh) - 2011-12',\n",
    "       'Net Profit/Loss (Rs. Lakh) - 2012-13',\n",
    "       'Net Profit/Loss (Rs. Lakh) - 2013-14',\n",
    "       'Net Profit/Loss (Rs. Lakh) - 2014-15',\n",
    "       'Net Profit/Loss (Rs. Lakh) - 2015-16']]"
   ]
  },
  {
   "cell_type": "code",
   "execution_count": 73,
   "id": "3d590770-0c63-4962-ba50-9dbcb9db1394",
   "metadata": {},
   "outputs": [],
   "source": [
    "df_pft1619=pd.read_csv(f'datasets/finan/SRTUs wise financial performance of SRTUs At A Glance from 2016-17 to 2018-19.csv')"
   ]
  },
  {
   "cell_type": "code",
   "execution_count": 74,
   "id": "900db81a-0345-47a9-8ba8-37e7893b47ab",
   "metadata": {},
   "outputs": [
    {
     "data": {
      "text/plain": [
       "Index(['S. No.', 'Name of State Road Transport Undertaking (SRTU)',\n",
       "       'Total Revenue (Rs. Lakh) - 2016-17',\n",
       "       'Total Revenue (Rs. Lakh) - 2017-18',\n",
       "       'Total Revenue (Rs. Lakh) - 2018-19', 'Total Cost (Rs. Lakh) - 2016-17',\n",
       "       'Total Cost (Rs. Lakh) - 2017-18', 'Total Cost (Rs. Lakh) - 2018-19',\n",
       "       'Net Profit/Loss (Rs. Lakh) - 2016-17',\n",
       "       'Net Profit/Loss (Rs. Lakh) - 2017-18',\n",
       "       'Net Profit/Loss (Rs. Lakh) - 2018-19'],\n",
       "      dtype='object')"
      ]
     },
     "execution_count": 74,
     "metadata": {},
     "output_type": "execute_result"
    }
   ],
   "source": [
    "df_pft1619.columns"
   ]
  },
  {
   "cell_type": "code",
   "execution_count": 75,
   "id": "a8069abd-5d2c-497f-8c1a-cf3457034cda",
   "metadata": {},
   "outputs": [],
   "source": [
    "df_pft1619_rev=df_pft1619[['S. No.', 'Name of State Road Transport Undertaking (SRTU)',\n",
    "       'Total Revenue (Rs. Lakh) - 2016-17',\n",
    "       'Total Revenue (Rs. Lakh) - 2017-18',\n",
    "       'Total Revenue (Rs. Lakh) - 2018-19']]\n",
    "\n",
    "df_pft1619_cost=df_pft1619[['S. No.', 'Name of State Road Transport Undertaking (SRTU)',\n",
    "       'Total Cost (Rs. Lakh) - 2016-17',\n",
    "       'Total Cost (Rs. Lakh) - 2017-18', 'Total Cost (Rs. Lakh) - 2018-19']]\n",
    "\n",
    "df_pft1619_PL=df_pft1619[['S. No.', 'Name of State Road Transport Undertaking (SRTU)',\n",
    "       'Net Profit/Loss (Rs. Lakh) - 2016-17',\n",
    "       'Net Profit/Loss (Rs. Lakh) - 2017-18',\n",
    "       'Net Profit/Loss (Rs. Lakh) - 2018-19']]"
   ]
  },
  {
   "cell_type": "code",
   "execution_count": 76,
   "id": "2d117002-ecc7-4577-881d-01c847e2999a",
   "metadata": {},
   "outputs": [],
   "source": [
    "df_pft1719=pd.read_csv(f'datasets/finan/SRTUs wise ProfitLoss of SRTUs for the years ending March 2017, 2018 and 2019.csv')"
   ]
  },
  {
   "cell_type": "code",
   "execution_count": 77,
   "id": "5ea21a39-614a-4872-ac3c-ade3aeb1c65c",
   "metadata": {},
   "outputs": [
    {
     "data": {
      "text/plain": [
       "Index(['S. No.', 'Name of State Road Transport Undertaking (SRTU)',\n",
       "       'Total Revenue (Rs. Lakh) - 2018-19',\n",
       "       'Total Revenue (Rs. Lakh) - 2017-18',\n",
       "       'Total Revenue (Rs. Lakh) - 2016-17', 'Total Cost (Rs. Lakh) - 2018-19',\n",
       "       'Total Cost (Rs. Lakh) - 2017-18', 'Total Cost (Rs. Lakh) - 2016-17',\n",
       "       'Net Profit/Loss (Rs. Lakh) - 2018-19',\n",
       "       'Net Profit/Loss (Rs. Lakh) - 2017-18',\n",
       "       'Net Profit/Loss (Rs. Lakh) - 2016-17',\n",
       "       'Profit before Tax (Rs. Lakh) - 2018-19',\n",
       "       'Profit before Tax (Rs. Lakh) - 2017-18',\n",
       "       'Profit before Tax (Rs. Lakh) - 2016-17'],\n",
       "      dtype='object')"
      ]
     },
     "execution_count": 77,
     "metadata": {},
     "output_type": "execute_result"
    }
   ],
   "source": [
    "df_pft1719.columns"
   ]
  },
  {
   "cell_type": "code",
   "execution_count": 79,
   "id": "14b6b20f-851a-48f9-9a52-56d02154fbad",
   "metadata": {},
   "outputs": [],
   "source": [
    "df_pft1719_rev=df_pft1719[['Name of State Road Transport Undertaking (SRTU)',\n",
    "       'Total Revenue (Rs. Lakh) - 2018-19',\n",
    "       'Total Revenue (Rs. Lakh) - 2017-18',\n",
    "       'Total Revenue (Rs. Lakh) - 2016-17']]\n",
    "\n",
    "df_pft1719_cost=df_pft1719[['Name of State Road Transport Undertaking (SRTU)','Total Cost (Rs. Lakh) - 2018-19',\n",
    "       'Total Cost (Rs. Lakh) - 2017-18', 'Total Cost (Rs. Lakh) - 2016-17']]\n",
    "\n",
    "df_pft1719_PL=df_pft1719[['Name of State Road Transport Undertaking (SRTU)','Net Profit/Loss (Rs. Lakh) - 2018-19',\n",
    "       'Net Profit/Loss (Rs. Lakh) - 2017-18',\n",
    "       'Net Profit/Loss (Rs. Lakh) - 2016-17']]\n",
    "\n",
    "df_pft1719_PBT=df_pft1719[['Name of State Road Transport Undertaking (SRTU)','Profit before Tax (Rs. Lakh) - 2018-19',\n",
    "       'Profit before Tax (Rs. Lakh) - 2017-18',\n",
    "       'Profit before Tax (Rs. Lakh) - 2016-17']]"
   ]
  },
  {
   "cell_type": "code",
   "execution_count": 6,
   "id": "1f01007e-2fa5-44a0-9f11-3b5c5eb5e829",
   "metadata": {},
   "outputs": [],
   "source": [
    "df_CL=pd.read_excel(f'datasets/finan/SRTUs wise Capital & Liabilities of SRTUs for the years ending March 2017, 2018 and 2019.xlsx',sheet_name='SRTUs wise Capital & Liabilitie')"
   ]
  },
  {
   "cell_type": "code",
   "execution_count": 21,
   "id": "17b47833-d416-4b51-8e54-3eb153b9c2e9",
   "metadata": {},
   "outputs": [],
   "source": [
    "df_CL_grp=pd.read_excel(f'datasets/finan/SRTUs wise Capital & Liabilities of SRTUs for the years ending March 2017, 2018 and 2019.xlsx',sheet_name='Sheet1')"
   ]
  },
  {
   "cell_type": "code",
   "execution_count": 22,
   "id": "7e7c9f58-4aee-4c8d-9732-7c63c20aeffb",
   "metadata": {},
   "outputs": [
    {
     "data": {
      "text/html": [
       "<div>\n",
       "<style scoped>\n",
       "    .dataframe tbody tr th:only-of-type {\n",
       "        vertical-align: middle;\n",
       "    }\n",
       "\n",
       "    .dataframe tbody tr th {\n",
       "        vertical-align: top;\n",
       "    }\n",
       "\n",
       "    .dataframe thead th {\n",
       "        text-align: right;\n",
       "    }\n",
       "</style>\n",
       "<table border=\"1\" class=\"dataframe\">\n",
       "  <thead>\n",
       "    <tr style=\"text-align: right;\">\n",
       "      <th></th>\n",
       "      <th>S. No.</th>\n",
       "      <th>Group</th>\n",
       "    </tr>\n",
       "  </thead>\n",
       "  <tbody>\n",
       "    <tr>\n",
       "      <th>0</th>\n",
       "      <td>Central Govt Contribution (in lakh) - 2018-19</td>\n",
       "      <td>Central Govt Contribution</td>\n",
       "    </tr>\n",
       "    <tr>\n",
       "      <th>1</th>\n",
       "      <td>Central Govt Equity (if any) (in lakh) - 2017-18</td>\n",
       "      <td>Central Govt Contribution</td>\n",
       "    </tr>\n",
       "    <tr>\n",
       "      <th>2</th>\n",
       "      <td>Central Govt Equity (if any) (in lakh) - 2016-17</td>\n",
       "      <td>Central Govt Contribution</td>\n",
       "    </tr>\n",
       "    <tr>\n",
       "      <th>3</th>\n",
       "      <td>State Govt Contribution (In lakh) - 2018-19</td>\n",
       "      <td>State Govt Contribution</td>\n",
       "    </tr>\n",
       "    <tr>\n",
       "      <th>4</th>\n",
       "      <td>State Govt Contribution (In lakh) - 2017-18</td>\n",
       "      <td>State Govt Contribution</td>\n",
       "    </tr>\n",
       "    <tr>\n",
       "      <th>5</th>\n",
       "      <td>State Govt Contribution (In lakh) - 2016-17</td>\n",
       "      <td>State Govt Contribution</td>\n",
       "    </tr>\n",
       "    <tr>\n",
       "      <th>6</th>\n",
       "      <td>General and Other Reserves (in lakh) - 2018-19</td>\n",
       "      <td>General and Other Reserves</td>\n",
       "    </tr>\n",
       "    <tr>\n",
       "      <th>7</th>\n",
       "      <td>General and Other Reserves (in lakh) - 2017-18</td>\n",
       "      <td>General and Other Reserves</td>\n",
       "    </tr>\n",
       "    <tr>\n",
       "      <th>8</th>\n",
       "      <td>General and Other Reserves (in lakh) - 2016-17</td>\n",
       "      <td>General and Other Reserves</td>\n",
       "    </tr>\n",
       "    <tr>\n",
       "      <th>9</th>\n",
       "      <td>Debentures (in lakh) - 2018-19</td>\n",
       "      <td>Debentures</td>\n",
       "    </tr>\n",
       "    <tr>\n",
       "      <th>10</th>\n",
       "      <td>Debentures (in lakh) - 2017-18</td>\n",
       "      <td>Debentures</td>\n",
       "    </tr>\n",
       "    <tr>\n",
       "      <th>11</th>\n",
       "      <td>Debentures (in lakh) - 2016-17</td>\n",
       "      <td>Debentures</td>\n",
       "    </tr>\n",
       "    <tr>\n",
       "      <th>12</th>\n",
       "      <td>Loans from Banks and Financial Institutions (i...</td>\n",
       "      <td>Loans from Banks and Financial Institutions</td>\n",
       "    </tr>\n",
       "    <tr>\n",
       "      <th>13</th>\n",
       "      <td>Loans from Banks and Financial Institutions (i...</td>\n",
       "      <td>Loans from Banks and Financial Institutions</td>\n",
       "    </tr>\n",
       "    <tr>\n",
       "      <th>14</th>\n",
       "      <td>Loans from Banks and Financial Institutions (i...</td>\n",
       "      <td>Loans from Banks and Financial Institutions</td>\n",
       "    </tr>\n",
       "    <tr>\n",
       "      <th>15</th>\n",
       "      <td>Employee and Public Deposits (in lakh) - 2018-19</td>\n",
       "      <td>Employee and Public Deposits</td>\n",
       "    </tr>\n",
       "    <tr>\n",
       "      <th>16</th>\n",
       "      <td>Employee and Public Deposits (in lakh) - 2017-18</td>\n",
       "      <td>Employee and Public Deposits</td>\n",
       "    </tr>\n",
       "    <tr>\n",
       "      <th>17</th>\n",
       "      <td>Employee and Public Deposits (in lakh) - 2016-17</td>\n",
       "      <td>Employee and Public Deposits</td>\n",
       "    </tr>\n",
       "    <tr>\n",
       "      <th>18</th>\n",
       "      <td>Security and earnest Money deposits (in lakh) ...</td>\n",
       "      <td>Security and earnest Money deposits</td>\n",
       "    </tr>\n",
       "    <tr>\n",
       "      <th>19</th>\n",
       "      <td>Security and earnest Money deposits (in lakh) ...</td>\n",
       "      <td>Security and earnest Money deposits</td>\n",
       "    </tr>\n",
       "    <tr>\n",
       "      <th>20</th>\n",
       "      <td>Security and earnest Money deposits (in lakh) ...</td>\n",
       "      <td>Security and earnest Money deposits</td>\n",
       "    </tr>\n",
       "    <tr>\n",
       "      <th>21</th>\n",
       "      <td>Others (in lakh) - 2018-19</td>\n",
       "      <td>Others</td>\n",
       "    </tr>\n",
       "    <tr>\n",
       "      <th>22</th>\n",
       "      <td>Others (in lakh) - 2017-18</td>\n",
       "      <td>Others</td>\n",
       "    </tr>\n",
       "    <tr>\n",
       "      <th>23</th>\n",
       "      <td>Others (in lakh) - 2016-17</td>\n",
       "      <td>Others</td>\n",
       "    </tr>\n",
       "    <tr>\n",
       "      <th>24</th>\n",
       "      <td>Total Capital and Liablities - 2018-19</td>\n",
       "      <td>Total Capital and Liablities</td>\n",
       "    </tr>\n",
       "    <tr>\n",
       "      <th>25</th>\n",
       "      <td>Total Capital and Liablities - 2017-18</td>\n",
       "      <td>Total Capital and Liablities</td>\n",
       "    </tr>\n",
       "    <tr>\n",
       "      <th>26</th>\n",
       "      <td>Total Capital and Liablities - 2016-17</td>\n",
       "      <td>Total Capital and Liablities</td>\n",
       "    </tr>\n",
       "  </tbody>\n",
       "</table>\n",
       "</div>"
      ],
      "text/plain": [
       "                                               S. No.  \\\n",
       "0       Central Govt Contribution (in lakh) - 2018-19   \n",
       "1    Central Govt Equity (if any) (in lakh) - 2017-18   \n",
       "2    Central Govt Equity (if any) (in lakh) - 2016-17   \n",
       "3         State Govt Contribution (In lakh) - 2018-19   \n",
       "4         State Govt Contribution (In lakh) - 2017-18   \n",
       "5         State Govt Contribution (In lakh) - 2016-17   \n",
       "6      General and Other Reserves (in lakh) - 2018-19   \n",
       "7      General and Other Reserves (in lakh) - 2017-18   \n",
       "8      General and Other Reserves (in lakh) - 2016-17   \n",
       "9                      Debentures (in lakh) - 2018-19   \n",
       "10                     Debentures (in lakh) - 2017-18   \n",
       "11                     Debentures (in lakh) - 2016-17   \n",
       "12  Loans from Banks and Financial Institutions (i...   \n",
       "13  Loans from Banks and Financial Institutions (i...   \n",
       "14  Loans from Banks and Financial Institutions (i...   \n",
       "15   Employee and Public Deposits (in lakh) - 2018-19   \n",
       "16   Employee and Public Deposits (in lakh) - 2017-18   \n",
       "17   Employee and Public Deposits (in lakh) - 2016-17   \n",
       "18  Security and earnest Money deposits (in lakh) ...   \n",
       "19  Security and earnest Money deposits (in lakh) ...   \n",
       "20  Security and earnest Money deposits (in lakh) ...   \n",
       "21                         Others (in lakh) - 2018-19   \n",
       "22                         Others (in lakh) - 2017-18   \n",
       "23                         Others (in lakh) - 2016-17   \n",
       "24             Total Capital and Liablities - 2018-19   \n",
       "25             Total Capital and Liablities - 2017-18   \n",
       "26             Total Capital and Liablities - 2016-17   \n",
       "\n",
       "                                          Group  \n",
       "0                     Central Govt Contribution  \n",
       "1                     Central Govt Contribution  \n",
       "2                     Central Govt Contribution  \n",
       "3                       State Govt Contribution  \n",
       "4                       State Govt Contribution  \n",
       "5                       State Govt Contribution  \n",
       "6                    General and Other Reserves  \n",
       "7                    General and Other Reserves  \n",
       "8                    General and Other Reserves  \n",
       "9                                    Debentures  \n",
       "10                                   Debentures  \n",
       "11                                   Debentures  \n",
       "12  Loans from Banks and Financial Institutions  \n",
       "13  Loans from Banks and Financial Institutions  \n",
       "14  Loans from Banks and Financial Institutions  \n",
       "15                 Employee and Public Deposits  \n",
       "16                 Employee and Public Deposits  \n",
       "17                 Employee and Public Deposits  \n",
       "18          Security and earnest Money deposits  \n",
       "19          Security and earnest Money deposits  \n",
       "20          Security and earnest Money deposits  \n",
       "21                                       Others  \n",
       "22                                       Others  \n",
       "23                                       Others  \n",
       "24                 Total Capital and Liablities  \n",
       "25                 Total Capital and Liablities  \n",
       "26                 Total Capital and Liablities  "
      ]
     },
     "execution_count": 22,
     "metadata": {},
     "output_type": "execute_result"
    }
   ],
   "source": [
    "df_CL_grp"
   ]
  },
  {
   "cell_type": "code",
   "execution_count": 36,
   "id": "065fab88-479f-4368-a04c-e3b7f816f261",
   "metadata": {},
   "outputs": [],
   "source": [
    "CL_grp=df_CL_grp.groupby('Group')['S. No.'].apply(list).reset_index(name='Items')"
   ]
  },
  {
   "cell_type": "code",
   "execution_count": 37,
   "id": "1e27ce19-a774-4bd6-9c7b-a85f6f121aca",
   "metadata": {},
   "outputs": [
    {
     "data": {
      "text/html": [
       "<div>\n",
       "<style scoped>\n",
       "    .dataframe tbody tr th:only-of-type {\n",
       "        vertical-align: middle;\n",
       "    }\n",
       "\n",
       "    .dataframe tbody tr th {\n",
       "        vertical-align: top;\n",
       "    }\n",
       "\n",
       "    .dataframe thead th {\n",
       "        text-align: right;\n",
       "    }\n",
       "</style>\n",
       "<table border=\"1\" class=\"dataframe\">\n",
       "  <thead>\n",
       "    <tr style=\"text-align: right;\">\n",
       "      <th></th>\n",
       "      <th>Group</th>\n",
       "      <th>Items</th>\n",
       "    </tr>\n",
       "  </thead>\n",
       "  <tbody>\n",
       "    <tr>\n",
       "      <th>0</th>\n",
       "      <td>Central Govt Contribution</td>\n",
       "      <td>[Central Govt Contribution (in lakh) - 2018-19...</td>\n",
       "    </tr>\n",
       "    <tr>\n",
       "      <th>1</th>\n",
       "      <td>Debentures</td>\n",
       "      <td>[Debentures (in lakh) - 2018-19, Debentures (i...</td>\n",
       "    </tr>\n",
       "    <tr>\n",
       "      <th>2</th>\n",
       "      <td>Employee and Public Deposits</td>\n",
       "      <td>[Employee and Public Deposits (in lakh) - 2018...</td>\n",
       "    </tr>\n",
       "    <tr>\n",
       "      <th>3</th>\n",
       "      <td>General and Other Reserves</td>\n",
       "      <td>[General and Other Reserves (in lakh) - 2018-1...</td>\n",
       "    </tr>\n",
       "    <tr>\n",
       "      <th>4</th>\n",
       "      <td>Loans from Banks and Financial Institutions</td>\n",
       "      <td>[Loans from Banks and Financial Institutions (...</td>\n",
       "    </tr>\n",
       "    <tr>\n",
       "      <th>5</th>\n",
       "      <td>Others</td>\n",
       "      <td>[Others (in lakh) - 2018-19, Others (in lakh) ...</td>\n",
       "    </tr>\n",
       "    <tr>\n",
       "      <th>6</th>\n",
       "      <td>Security and earnest Money deposits</td>\n",
       "      <td>[Security and earnest Money deposits (in lakh)...</td>\n",
       "    </tr>\n",
       "    <tr>\n",
       "      <th>7</th>\n",
       "      <td>State Govt Contribution</td>\n",
       "      <td>[State Govt Contribution (In lakh) - 2018-19, ...</td>\n",
       "    </tr>\n",
       "    <tr>\n",
       "      <th>8</th>\n",
       "      <td>Total Capital and Liablities</td>\n",
       "      <td>[Total Capital and Liablities - 2018-19, Total...</td>\n",
       "    </tr>\n",
       "  </tbody>\n",
       "</table>\n",
       "</div>"
      ],
      "text/plain": [
       "                                         Group  \\\n",
       "0                    Central Govt Contribution   \n",
       "1                                   Debentures   \n",
       "2                 Employee and Public Deposits   \n",
       "3                   General and Other Reserves   \n",
       "4  Loans from Banks and Financial Institutions   \n",
       "5                                       Others   \n",
       "6          Security and earnest Money deposits   \n",
       "7                      State Govt Contribution   \n",
       "8                 Total Capital and Liablities   \n",
       "\n",
       "                                               Items  \n",
       "0  [Central Govt Contribution (in lakh) - 2018-19...  \n",
       "1  [Debentures (in lakh) - 2018-19, Debentures (i...  \n",
       "2  [Employee and Public Deposits (in lakh) - 2018...  \n",
       "3  [General and Other Reserves (in lakh) - 2018-1...  \n",
       "4  [Loans from Banks and Financial Institutions (...  \n",
       "5  [Others (in lakh) - 2018-19, Others (in lakh) ...  \n",
       "6  [Security and earnest Money deposits (in lakh)...  \n",
       "7  [State Govt Contribution (In lakh) - 2018-19, ...  \n",
       "8  [Total Capital and Liablities - 2018-19, Total...  "
      ]
     },
     "execution_count": 37,
     "metadata": {},
     "output_type": "execute_result"
    }
   ],
   "source": [
    "CL_grp"
   ]
  },
  {
   "cell_type": "code",
   "execution_count": 38,
   "id": "85788666-6ef2-4a76-8c0b-444dcea9b995",
   "metadata": {},
   "outputs": [],
   "source": [
    "\n",
    "\n",
    "CL_grp.set_index('Group', inplace=True)\n",
    "dct = CL_grp.T.to_dict()"
   ]
  },
  {
   "cell_type": "code",
   "execution_count": 39,
   "id": "0865bf7d-4623-4f78-91c7-880de939e37c",
   "metadata": {},
   "outputs": [
    {
     "data": {
      "text/plain": [
       "{'Central Govt Contribution': {'Items': ['Central Govt Contribution (in lakh) - 2018-19',\n",
       "   'Central Govt Equity (if any) (in lakh) - 2017-18',\n",
       "   'Central Govt Equity (if any) (in lakh) - 2016-17']},\n",
       " 'Debentures': {'Items': ['Debentures (in lakh) - 2018-19',\n",
       "   'Debentures (in lakh) - 2017-18',\n",
       "   'Debentures (in lakh) - 2016-17']},\n",
       " 'Employee and Public Deposits': {'Items': ['Employee and Public Deposits (in lakh) - 2018-19',\n",
       "   'Employee and Public Deposits (in lakh) - 2017-18',\n",
       "   'Employee and Public Deposits (in lakh) - 2016-17']},\n",
       " 'General and Other Reserves': {'Items': ['General and Other Reserves (in lakh) - 2018-19',\n",
       "   'General and Other Reserves (in lakh) - 2017-18',\n",
       "   'General and Other Reserves (in lakh) - 2016-17']},\n",
       " 'Loans from Banks and Financial Institutions': {'Items': ['Loans from Banks and Financial Institutions (in lakh) - 2018-19',\n",
       "   'Loans from Banks and Financial Institutions (in lakh) - 2017-18',\n",
       "   'Loans from Banks and Financial Institutions (in lakh) - 2016-17']},\n",
       " 'Others': {'Items': ['Others (in lakh) - 2018-19',\n",
       "   'Others (in lakh) - 2017-18',\n",
       "   'Others (in lakh) - 2016-17']},\n",
       " 'Security and earnest Money deposits': {'Items': ['Security and earnest Money deposits (in lakh) - 2018-19',\n",
       "   'Security and earnest Money deposits (in lakh) - 2017-18',\n",
       "   'Security and earnest Money deposits (in lakh) - 2016-17']},\n",
       " 'State Govt Contribution': {'Items': ['State Govt Contribution (In lakh) - 2018-19',\n",
       "   'State Govt Contribution (In lakh) - 2017-18',\n",
       "   'State Govt Contribution (In lakh) - 2016-17']},\n",
       " 'Total Capital and Liablities': {'Items': ['Total Capital and Liablities - 2018-19',\n",
       "   'Total Capital and Liablities - 2017-18',\n",
       "   'Total Capital and Liablities - 2016-17']}}"
      ]
     },
     "execution_count": 39,
     "metadata": {},
     "output_type": "execute_result"
    }
   ],
   "source": [
    "dct"
   ]
  },
  {
   "cell_type": "code",
   "execution_count": 46,
   "id": "161adf99-14c4-4bca-84a6-63dadd05d59d",
   "metadata": {},
   "outputs": [
    {
     "data": {
      "text/plain": [
       "['Central Govt Contribution (in lakh) - 2018-19',\n",
       " 'Central Govt Equity (if any) (in lakh) - 2017-18',\n",
       " 'Central Govt Equity (if any) (in lakh) - 2016-17',\n",
       " 'Name of State Road Transport Undertaking (SRTU)',\n",
       " 'Name of State Road Transport Undertaking (SRTU)',\n",
       " 'Name of State Road Transport Undertaking (SRTU)']"
      ]
     },
     "execution_count": 46,
     "metadata": {},
     "output_type": "execute_result"
    }
   ],
   "source": [
    "lst=dct['Central Govt Contribution']['Items']\n",
    "lst.append('Name of State Road Transport Undertaking (SRTU)')\n",
    "lst"
   ]
  },
  {
   "cell_type": "code",
   "execution_count": 41,
   "id": "1eb5eef7-9c0e-469e-a807-440e610a285b",
   "metadata": {},
   "outputs": [
    {
     "data": {
      "text/html": [
       "<div>\n",
       "<style scoped>\n",
       "    .dataframe tbody tr th:only-of-type {\n",
       "        vertical-align: middle;\n",
       "    }\n",
       "\n",
       "    .dataframe tbody tr th {\n",
       "        vertical-align: top;\n",
       "    }\n",
       "\n",
       "    .dataframe thead th {\n",
       "        text-align: right;\n",
       "    }\n",
       "</style>\n",
       "<table border=\"1\" class=\"dataframe\">\n",
       "  <thead>\n",
       "    <tr style=\"text-align: right;\">\n",
       "      <th></th>\n",
       "      <th>Central Govt Contribution (in lakh) - 2018-19</th>\n",
       "      <th>Central Govt Equity (if any) (in lakh) - 2017-18</th>\n",
       "      <th>Central Govt Equity (if any) (in lakh) - 2016-17</th>\n",
       "    </tr>\n",
       "  </thead>\n",
       "  <tbody>\n",
       "    <tr>\n",
       "      <th>0</th>\n",
       "      <td>3562.0</td>\n",
       "      <td>3562.00</td>\n",
       "      <td>3562.00</td>\n",
       "    </tr>\n",
       "    <tr>\n",
       "      <th>1</th>\n",
       "      <td>NaN</td>\n",
       "      <td>377.58</td>\n",
       "      <td>798.67</td>\n",
       "    </tr>\n",
       "    <tr>\n",
       "      <th>2</th>\n",
       "      <td>NaN</td>\n",
       "      <td>NaN</td>\n",
       "      <td>NaN</td>\n",
       "    </tr>\n",
       "    <tr>\n",
       "      <th>3</th>\n",
       "      <td>2652.0</td>\n",
       "      <td>2652.00</td>\n",
       "      <td>2652.00</td>\n",
       "    </tr>\n",
       "    <tr>\n",
       "      <th>4</th>\n",
       "      <td>0.0</td>\n",
       "      <td>0.00</td>\n",
       "      <td>0.00</td>\n",
       "    </tr>\n",
       "    <tr>\n",
       "      <th>...</th>\n",
       "      <td>...</td>\n",
       "      <td>...</td>\n",
       "      <td>...</td>\n",
       "    </tr>\n",
       "    <tr>\n",
       "      <th>58</th>\n",
       "      <td>0.0</td>\n",
       "      <td>0.00</td>\n",
       "      <td>0.00</td>\n",
       "    </tr>\n",
       "    <tr>\n",
       "      <th>59</th>\n",
       "      <td>NaN</td>\n",
       "      <td>NaN</td>\n",
       "      <td>NaN</td>\n",
       "    </tr>\n",
       "    <tr>\n",
       "      <th>60</th>\n",
       "      <td>NaN</td>\n",
       "      <td>NaN</td>\n",
       "      <td>NaN</td>\n",
       "    </tr>\n",
       "    <tr>\n",
       "      <th>61</th>\n",
       "      <td>0.0</td>\n",
       "      <td>0.00</td>\n",
       "      <td>0.00</td>\n",
       "    </tr>\n",
       "    <tr>\n",
       "      <th>62</th>\n",
       "      <td>249942.6</td>\n",
       "      <td>198862.38</td>\n",
       "      <td>188371.08</td>\n",
       "    </tr>\n",
       "  </tbody>\n",
       "</table>\n",
       "<p>63 rows × 3 columns</p>\n",
       "</div>"
      ],
      "text/plain": [
       "    Central Govt Contribution (in lakh) - 2018-19  \\\n",
       "0                                          3562.0   \n",
       "1                                             NaN   \n",
       "2                                             NaN   \n",
       "3                                          2652.0   \n",
       "4                                             0.0   \n",
       "..                                            ...   \n",
       "58                                            0.0   \n",
       "59                                            NaN   \n",
       "60                                            NaN   \n",
       "61                                            0.0   \n",
       "62                                       249942.6   \n",
       "\n",
       "    Central Govt Equity (if any) (in lakh) - 2017-18  \\\n",
       "0                                            3562.00   \n",
       "1                                             377.58   \n",
       "2                                                NaN   \n",
       "3                                            2652.00   \n",
       "4                                               0.00   \n",
       "..                                               ...   \n",
       "58                                              0.00   \n",
       "59                                               NaN   \n",
       "60                                               NaN   \n",
       "61                                              0.00   \n",
       "62                                         198862.38   \n",
       "\n",
       "    Central Govt Equity (if any) (in lakh) - 2016-17  \n",
       "0                                            3562.00  \n",
       "1                                             798.67  \n",
       "2                                                NaN  \n",
       "3                                            2652.00  \n",
       "4                                               0.00  \n",
       "..                                               ...  \n",
       "58                                              0.00  \n",
       "59                                               NaN  \n",
       "60                                               NaN  \n",
       "61                                              0.00  \n",
       "62                                         188371.08  \n",
       "\n",
       "[63 rows x 3 columns]"
      ]
     },
     "execution_count": 41,
     "metadata": {},
     "output_type": "execute_result"
    }
   ],
   "source": [
    "df_CL[dct['Central Govt Contribution']['Items']]"
   ]
  },
  {
   "cell_type": "code",
   "execution_count": 48,
   "id": "12db4975-3e23-4343-8806-0631b92ba6d4",
   "metadata": {},
   "outputs": [],
   "source": [
    "df_FPL=pd.read_excel(f'datasets/finan/SRTUs wise financial performance of SRTUs for the years ending March 2017, 2018 and 2019.xlsx',sheet_name='SRTUs wise financial performanc')\n",
    "df_FPL_grp=pd.read_excel(f'datasets/finan/SRTUs wise financial performance of SRTUs for the years ending March 2017, 2018 and 2019.xlsx',sheet_name='Group')"
   ]
  },
  {
   "cell_type": "code",
   "execution_count": 49,
   "id": "87ef846c-c24e-4a85-81e6-b9c82449085b",
   "metadata": {},
   "outputs": [
    {
     "data": {
      "text/html": [
       "<div>\n",
       "<style scoped>\n",
       "    .dataframe tbody tr th:only-of-type {\n",
       "        vertical-align: middle;\n",
       "    }\n",
       "\n",
       "    .dataframe tbody tr th {\n",
       "        vertical-align: top;\n",
       "    }\n",
       "\n",
       "    .dataframe thead th {\n",
       "        text-align: right;\n",
       "    }\n",
       "</style>\n",
       "<table border=\"1\" class=\"dataframe\">\n",
       "  <thead>\n",
       "    <tr style=\"text-align: right;\">\n",
       "      <th></th>\n",
       "      <th>S. No.</th>\n",
       "      <th>Group</th>\n",
       "    </tr>\n",
       "  </thead>\n",
       "  <tbody>\n",
       "    <tr>\n",
       "      <th>0</th>\n",
       "      <td>Traffic Revenue (Lakh) - Revenue from Passenge...</td>\n",
       "      <td>Traffic Revenue (Lakh) - Revenue from Passengers</td>\n",
       "    </tr>\n",
       "    <tr>\n",
       "      <th>1</th>\n",
       "      <td>Traffic Revenue (Lakh) - Revenue from Passenge...</td>\n",
       "      <td>Traffic Revenue (Lakh) - Revenue from Passengers</td>\n",
       "    </tr>\n",
       "    <tr>\n",
       "      <th>2</th>\n",
       "      <td>Traffic Revenue (Lakh) - Revenue from Passenge...</td>\n",
       "      <td>Traffic Revenue (Lakh) - Revenue from Passengers</td>\n",
       "    </tr>\n",
       "    <tr>\n",
       "      <th>3</th>\n",
       "      <td>Traffic Revenue (Lakh) - Others - 2018-19</td>\n",
       "      <td>Traffic Revenue (Lakh) - Others</td>\n",
       "    </tr>\n",
       "    <tr>\n",
       "      <th>4</th>\n",
       "      <td>Traffic Revenue (Lakh) - Others - 2017-18</td>\n",
       "      <td>Traffic Revenue (Lakh) - Others</td>\n",
       "    </tr>\n",
       "    <tr>\n",
       "      <th>...</th>\n",
       "      <td>...</td>\n",
       "      <td>...</td>\n",
       "    </tr>\n",
       "    <tr>\n",
       "      <th>79</th>\n",
       "      <td>Other Cost(Misc)(Rs. Lakh) - 2017-18</td>\n",
       "      <td>Other Cost(Misc)(Rs. Lakh)</td>\n",
       "    </tr>\n",
       "    <tr>\n",
       "      <th>80</th>\n",
       "      <td>Other Cost(Misc)(Rs. Lakh) - 2016-17</td>\n",
       "      <td>Other Cost(Misc)(Rs. Lakh)</td>\n",
       "    </tr>\n",
       "    <tr>\n",
       "      <th>81</th>\n",
       "      <td>Total Cost (In lakh) - 2018-19</td>\n",
       "      <td>Total Cost (In lakh)</td>\n",
       "    </tr>\n",
       "    <tr>\n",
       "      <th>82</th>\n",
       "      <td>Total Cost (In lakh) - 2017-18</td>\n",
       "      <td>Total Cost (In lakh)</td>\n",
       "    </tr>\n",
       "    <tr>\n",
       "      <th>83</th>\n",
       "      <td>Total Cost (In lakh) - 2016-17</td>\n",
       "      <td>Total Cost (In lakh)</td>\n",
       "    </tr>\n",
       "  </tbody>\n",
       "</table>\n",
       "<p>84 rows × 2 columns</p>\n",
       "</div>"
      ],
      "text/plain": [
       "                                               S. No.  \\\n",
       "0   Traffic Revenue (Lakh) - Revenue from Passenge...   \n",
       "1   Traffic Revenue (Lakh) - Revenue from Passenge...   \n",
       "2   Traffic Revenue (Lakh) - Revenue from Passenge...   \n",
       "3           Traffic Revenue (Lakh) - Others - 2018-19   \n",
       "4           Traffic Revenue (Lakh) - Others - 2017-18   \n",
       "..                                                ...   \n",
       "79               Other Cost(Misc)(Rs. Lakh) - 2017-18   \n",
       "80               Other Cost(Misc)(Rs. Lakh) - 2016-17   \n",
       "81                     Total Cost (In lakh) - 2018-19   \n",
       "82                     Total Cost (In lakh) - 2017-18   \n",
       "83                     Total Cost (In lakh) - 2016-17   \n",
       "\n",
       "                                                Group  \n",
       "0   Traffic Revenue (Lakh) - Revenue from Passengers   \n",
       "1   Traffic Revenue (Lakh) - Revenue from Passengers   \n",
       "2   Traffic Revenue (Lakh) - Revenue from Passengers   \n",
       "3                    Traffic Revenue (Lakh) - Others   \n",
       "4                    Traffic Revenue (Lakh) - Others   \n",
       "..                                                ...  \n",
       "79                        Other Cost(Misc)(Rs. Lakh)   \n",
       "80                        Other Cost(Misc)(Rs. Lakh)   \n",
       "81                              Total Cost (In lakh)   \n",
       "82                              Total Cost (In lakh)   \n",
       "83                              Total Cost (In lakh)   \n",
       "\n",
       "[84 rows x 2 columns]"
      ]
     },
     "execution_count": 49,
     "metadata": {},
     "output_type": "execute_result"
    }
   ],
   "source": [
    "df_FPL_grp"
   ]
  },
  {
   "cell_type": "code",
   "execution_count": 50,
   "id": "2cb31f6c-6d73-4fd9-993e-d5bc90908f68",
   "metadata": {},
   "outputs": [],
   "source": [
    "FPL_grp=df_FPL_grp.groupby('Group')['S. No.'].apply(list).reset_index(name='Items')"
   ]
  },
  {
   "cell_type": "code",
   "execution_count": 51,
   "id": "190ecead-9103-4292-97f5-721c9ca08d3e",
   "metadata": {},
   "outputs": [],
   "source": [
    "FPL_grp.set_index('Group', inplace=True)\n",
    "dctFPL = FPL_grp.T.to_dict()"
   ]
  },
  {
   "cell_type": "code",
   "execution_count": 52,
   "id": "8ce8dd55-7c07-47b0-a170-41bdb6516b43",
   "metadata": {},
   "outputs": [
    {
     "data": {
      "text/plain": [
       "{'Cost of Spares (Rs. Lakh) ': {'Items': ['Cost of Spares (Rs. Lakh) - 2018-19',\n",
       "   'Cost of Spares (Rs. Lakh) - 2017-18',\n",
       "   'Cost of Spares (Rs. Lakh) - 2016-17']},\n",
       " 'Cost of Tyers and Tubes  (Rs. Lakh) ': {'Items': [' Cost of Tyers and Tubes  (Rs. Lakh) - 2018-19',\n",
       "   ' Cost of Tyers and Tubes  (Rs. Lakh) - 2017-18',\n",
       "   ' Cost of Tyers and Tubes  (Rs. Lakh) - 2016-17']},\n",
       " 'Depreciation (Rs. Lakh) ': {'Items': ['Depreciation (Rs. Lakh) - 2018-19',\n",
       "   'Depreciation (Rs. Lakh) - 2017-18',\n",
       "   'Depreciation (Rs. Lakh) - 2016-17']},\n",
       " 'Fuel and Lubricants Cost (Rs. Lakh) ': {'Items': ['Fuel and Lubricants Cost (Rs. Lakh) - 2018-19',\n",
       "   'Fuel and Lubricants Cost (Rs. Lakh) - 2017-18',\n",
       "   'Fuel and Lubricants Cost (Rs. Lakh) - 2016-17']},\n",
       " 'Interest (Rs. Lakh) ': {'Items': ['Interest (Rs. Lakh) - 2018-19',\n",
       "   'Interest (Rs. Lakh) - 2017-18',\n",
       "   'Interest (Rs. Lakh) - 2016-17']},\n",
       " 'Non-Traffic Revenue (Lakh) - Income from Advertisements ': {'Items': ['Non-Traffic Revenue (Lakh) - Income from Advertisements - 2018-19',\n",
       "   'Non-Traffic Revenue (Lakh) - Income from Advertisements - 2017-18',\n",
       "   'Non-Traffic Revenue (Lakh) - Income from Advertisements - 2016-17']},\n",
       " 'Non-Traffic Revenue (Lakh) - Other Receipts ': {'Items': ['Non-Traffic Revenue (Lakh) - Other Receipts - 2018-19',\n",
       "   'Non-Traffic Revenue (Lakh) - Other Receipts - 2017-18',\n",
       "   'Non-Traffic Revenue (Lakh) - Other Receipts - 2016-17']},\n",
       " 'Non-Traffic Revenue (Lakh) - Receipt from imposition of penalities/fines ': {'Items': ['Non-Traffic Revenue (Lakh) - Receipt from imposition of penalities/fines - 2018-19',\n",
       "   'Non-Traffic Revenue (Lakh) - Receipt from imposition of penalities/fines - 2017-18',\n",
       "   'Non-Traffic Revenue (Lakh) - Receipt from imposition of penalities/fines - 2016-17']},\n",
       " 'Non-Traffic Revenue (Lakh) - Sale Proceeds from scraps ': {'Items': ['Non-Traffic Revenue (Lakh) - Sale Proceeds from scraps - 2018-19',\n",
       "   'Non-Traffic Revenue (Lakh) - Sale Proceeds from scraps - 2017-18',\n",
       "   'Non-Traffic Revenue (Lakh) - Sale Proceeds from scraps - 2016-17']},\n",
       " 'Other Cost (Rs. Lakh) ': {'Items': ['Other Cost (Rs. Lakh) - 2018-19',\n",
       "   'Other Cost (Rs. Lakh) - 2017-18',\n",
       "   'Other Cost (Rs. Lakh) - 2016-17']},\n",
       " 'Other Cost(Misc)(Rs. Lakh) ': {'Items': ['Other Cost(Misc)(Rs. Lakh) - 2018-19',\n",
       "   'Other Cost(Misc)(Rs. Lakh) - 2017-18',\n",
       "   'Other Cost(Misc)(Rs. Lakh) - 2016-17']},\n",
       " 'Payment for accidents compensation (In lakh) ': {'Items': ['Payment for accidents compensation (In lakh) - 2018-19',\n",
       "   'Payment for accidents compensation (In lakh) - 2017-18',\n",
       "   'Payment for accidents compensation (In lakh) - 2016-17']},\n",
       " 'Payments to Hired Buses(Rs.  Lakh) ': {'Items': ['Payments to Hired Buses(Rs.  Lakh) - 2018-19',\n",
       "   'Payments to Hired Buses(Rs.  Lakh) - 2017-18',\n",
       "   'Payments to Hired Buses(Rs.  Lakh) - 2016-17']},\n",
       " 'Staff Costs (Rs. Lakh) ': {'Items': ['Staff Costs (Rs. Lakh) - 2018-19',\n",
       "   'Staff Costs (Rs. Lakh) - 2017-18',\n",
       "   'Staff Costs (Rs. Lakh) - 2016-17']},\n",
       " 'Subsidies/ Reimbursements (Lakh) - Any other form of subsidies (not as capital receipts) received from state government, treated as income ': {'Items': ['Subsidies/ Reimbursements (Lakh) - Any other form of subsidies (not as capital receipts) received from state government, treated as income - 2018-19',\n",
       "   'Subsidies/ Reimbursements (Lakh) - Any other form of subsidies (not as capital receipts) received from state government, treated as income - 2017-18',\n",
       "   'Subsidies/ Reimbursements (Lakh) - Any other form of subsidies (not as capital receipts) received from state government, treated as income - 2016-17']},\n",
       " 'Subsidies/ Reimbursements (Lakh) - Subsidies as reimbursement of fare concessions provided to passenger by SRTU ': {'Items': ['Subsidies/ Reimbursements (Lakh) - Subsidies as reimbursement of fare concessions provided to passenger by SRTU - 2018-19',\n",
       "   'Subsidies/ Reimbursements (Lakh) - Subsidies as reimbursement of fare concessions provided to passenger by SRTU - 2017-18',\n",
       "   'Subsidies/ Reimbursements (Lakh) - Subsidies as reimbursement of fare concessions provided to passenger by SRTU - 2016-17']},\n",
       " 'Subsidies/ Reimbursements (Lakh) - Total Subsidies/Reimbursements ': {'Items': ['Subsidies/ Reimbursements (Lakh) - Total Subsidies/Reimbursements - 2018-19',\n",
       "   'Subsidies/ Reimbursements (Lakh) - Total Subsidies/Reimbursements - 2017-18',\n",
       "   'Subsidies/ Reimbursements (Lakh) - Total Subsidies/Reimbursements - 2016-17']},\n",
       " 'Taxes (Rs. Lakh) - GST ': {'Items': ['Taxes (Rs. Lakh) - GST - 2018-19',\n",
       "   'Taxes (Rs. Lakh) - GST - 2017-18',\n",
       "   'Taxes (Rs. Lakh) - GST - 2016-17']},\n",
       " 'Taxes (Rs. Lakh) - M.V. Tax ': {'Items': ['Taxes (Rs. Lakh) - M.V. Tax - 2018-19',\n",
       "   'Taxes (Rs. Lakh) - M.V. Tax - 2017-18',\n",
       "   'Taxes (Rs. Lakh) - M.V. Tax - 2016-17']},\n",
       " 'Taxes (Rs. Lakh) - Other Taxes ': {'Items': ['Taxes (Rs. Lakh) - Other Taxes - 2018-19',\n",
       "   'Taxes (Rs. Lakh) - Other Taxes - 2017-18',\n",
       "   'Taxes (Rs. Lakh) - Other Taxes - 2016-17']},\n",
       " 'Taxes (Rs. Lakh) - Passenger Taxes ': {'Items': ['Taxes (Rs. Lakh) - Passenger Taxes - 2018-19',\n",
       "   'Taxes (Rs. Lakh) - Passenger Taxes - 2017-18',\n",
       "   'Taxes (Rs. Lakh) - Passenger Taxes - 2016-17']},\n",
       " 'Taxes (Rs. Lakh) - Total Taxes ': {'Items': ['Taxes (Rs. Lakh) - Total Taxes - 2018-19',\n",
       "   'Taxes (Rs. Lakh) - Total Taxes - 2017-18',\n",
       "   'Taxes (Rs. Lakh) - Total Taxes - 2016-17']},\n",
       " 'Total Cost (In lakh) ': {'Items': ['Total Cost (In lakh) - 2018-19',\n",
       "   'Total Cost (In lakh) - 2017-18',\n",
       "   'Total Cost (In lakh) - 2016-17']},\n",
       " 'Total Non-Traffic Revenue(Lakhs) ': {'Items': ['Total Non-Traffic Revenue(Lakhs) - 2018-19',\n",
       "   'Total Non-Traffic Revenue(Lakhs) - 2017-18',\n",
       "   'Total Non-Traffic Revenue(Lakhs) - 2016-17']},\n",
       " 'Total Reveunue (in lakh) ': {'Items': ['Total Reveunue (in lakh) - 2018-19',\n",
       "   'Total Reveunue (in lakh) - 2017-18',\n",
       "   'Total Reveunue (in lakh) - 2016-17']},\n",
       " 'Traffic Revenue (Lakh) - Others ': {'Items': ['Traffic Revenue (Lakh) - Others - 2018-19',\n",
       "   'Traffic Revenue (Lakh) - Others - 2017-18',\n",
       "   'Traffic Revenue (Lakh) - Others - 2016-17']},\n",
       " 'Traffic Revenue (Lakh) - Revenue from Passengers ': {'Items': ['Traffic Revenue (Lakh) - Revenue from Passengers - 2018-19',\n",
       "   'Traffic Revenue (Lakh) - Revenue from Passengers - 2017-18',\n",
       "   'Traffic Revenue (Lakh) - Revenue from Passengers - 2016-17']},\n",
       " 'Traffic Revenue (Lakh) - Total of Traffic Earnings ': {'Items': ['Traffic Revenue (Lakh) - Total of Traffic Earnings - 2018-19',\n",
       "   'Traffic Revenue (Lakh) - Total of Traffic Earnings - 2017-18',\n",
       "   'Traffic Revenue (Lakh) - Total of Traffic Earnings - 2016-17']}}"
      ]
     },
     "execution_count": 52,
     "metadata": {},
     "output_type": "execute_result"
    }
   ],
   "source": [
    "dctFPL"
   ]
  },
  {
   "cell_type": "code",
   "execution_count": 54,
   "id": "e9bc4eb9-40c6-4579-960b-2db6bb5131f6",
   "metadata": {},
   "outputs": [
    {
     "data": {
      "text/plain": [
       "['Cost of Spares (Rs. Lakh) - 2018-19',\n",
       " 'Cost of Spares (Rs. Lakh) - 2017-18',\n",
       " 'Cost of Spares (Rs. Lakh) - 2016-17',\n",
       " 'Name of State Road Transport Undertaking (SRTU)']"
      ]
     },
     "execution_count": 54,
     "metadata": {},
     "output_type": "execute_result"
    }
   ],
   "source": [
    "lstFPL=dctFPL['Cost of Spares (Rs. Lakh) ']['Items']\n",
    "lstFPL.append('Name of State Road Transport Undertaking (SRTU)')\n",
    "lstFPL"
   ]
  },
  {
   "cell_type": "code",
   "execution_count": null,
   "id": "c56b7def-9c75-4626-843b-bfcae44194dd",
   "metadata": {},
   "outputs": [],
   "source": []
  }
 ],
 "metadata": {
  "kernelspec": {
   "display_name": "Python 3 (ipykernel)",
   "language": "python",
   "name": "python3"
  },
  "language_info": {
   "codemirror_mode": {
    "name": "ipython",
    "version": 3
   },
   "file_extension": ".py",
   "mimetype": "text/x-python",
   "name": "python",
   "nbconvert_exporter": "python",
   "pygments_lexer": "ipython3",
   "version": "3.12.0"
  }
 },
 "nbformat": 4,
 "nbformat_minor": 5
}
