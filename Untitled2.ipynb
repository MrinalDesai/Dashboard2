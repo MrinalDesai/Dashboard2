{
 "cells": [
  {
   "cell_type": "code",
   "execution_count": 1,
   "id": "6a68c0cd-cb34-41e8-90b5-c4de9851a3e7",
   "metadata": {},
   "outputs": [],
   "source": [
    "import plotly.express as px \n",
    "import pandas as pd \n",
    "import numpy as np "
   ]
  },
  {
   "cell_type": "code",
   "execution_count": 4,
   "id": "d05bfe5d-ebaa-4796-a6ec-113eb9a7d96b",
   "metadata": {},
   "outputs": [],
   "source": [
    "df_reg_veh=pd.read_csv(f'datasets/transport/Cities-wise total Registered Motor Vehicles In Million Plus Cities of India from 2010 to 2020 (as on 31st March).csv')\n"
   ]
  },
  {
   "cell_type": "code",
   "execution_count": 27,
   "id": "d9f2443d-b25a-4922-95fc-c94f2ceb064f",
   "metadata": {},
   "outputs": [],
   "source": [
    "df_reg_slice=df_reg_veh[df_reg_veh['Million Plus Cities']=='Agra'].T.rename_axis('Year').reset_index().iloc[1:].rename({0: 'No'}, axis=1)\n"
   ]
  },
  {
   "cell_type": "code",
   "execution_count": 28,
   "id": "964a987b-9c9b-407c-b87c-dc4f5bbe04b7",
   "metadata": {},
   "outputs": [
    {
     "data": {
      "text/html": [
       "<div>\n",
       "<style scoped>\n",
       "    .dataframe tbody tr th:only-of-type {\n",
       "        vertical-align: middle;\n",
       "    }\n",
       "\n",
       "    .dataframe tbody tr th {\n",
       "        vertical-align: top;\n",
       "    }\n",
       "\n",
       "    .dataframe thead th {\n",
       "        text-align: right;\n",
       "    }\n",
       "</style>\n",
       "<table border=\"1\" class=\"dataframe\">\n",
       "  <thead>\n",
       "    <tr style=\"text-align: right;\">\n",
       "      <th></th>\n",
       "      <th>Year</th>\n",
       "      <th>No</th>\n",
       "    </tr>\n",
       "  </thead>\n",
       "  <tbody>\n",
       "    <tr>\n",
       "      <th>1</th>\n",
       "      <td>2010 (in Thousand)</td>\n",
       "      <td>580.0</td>\n",
       "    </tr>\n",
       "    <tr>\n",
       "      <th>2</th>\n",
       "      <td>2011 (in Thousand)</td>\n",
       "      <td>640.0</td>\n",
       "    </tr>\n",
       "    <tr>\n",
       "      <th>3</th>\n",
       "      <td>2012 (in Thousand)</td>\n",
       "      <td>704.0</td>\n",
       "    </tr>\n",
       "    <tr>\n",
       "      <th>4</th>\n",
       "      <td>2013 (in Thousand)</td>\n",
       "      <td>752.0</td>\n",
       "    </tr>\n",
       "    <tr>\n",
       "      <th>5</th>\n",
       "      <td>2014 (in Thousand)</td>\n",
       "      <td>825.0</td>\n",
       "    </tr>\n",
       "    <tr>\n",
       "      <th>6</th>\n",
       "      <td>2015 (in Thousand)</td>\n",
       "      <td>905.0</td>\n",
       "    </tr>\n",
       "    <tr>\n",
       "      <th>7</th>\n",
       "      <td>2016 (in Thousand)</td>\n",
       "      <td>923.0</td>\n",
       "    </tr>\n",
       "    <tr>\n",
       "      <th>8</th>\n",
       "      <td>2017 (in Thousand)</td>\n",
       "      <td>962.0</td>\n",
       "    </tr>\n",
       "    <tr>\n",
       "      <th>9</th>\n",
       "      <td>2018 (in Thousand)</td>\n",
       "      <td>1012.0</td>\n",
       "    </tr>\n",
       "    <tr>\n",
       "      <th>10</th>\n",
       "      <td>2019 (in Thousand)</td>\n",
       "      <td>1118.0</td>\n",
       "    </tr>\n",
       "    <tr>\n",
       "      <th>11</th>\n",
       "      <td>2020 (in Thousand)</td>\n",
       "      <td>1226</td>\n",
       "    </tr>\n",
       "  </tbody>\n",
       "</table>\n",
       "</div>"
      ],
      "text/plain": [
       "                  Year      No\n",
       "1   2010 (in Thousand)   580.0\n",
       "2   2011 (in Thousand)   640.0\n",
       "3   2012 (in Thousand)   704.0\n",
       "4   2013 (in Thousand)   752.0\n",
       "5   2014 (in Thousand)   825.0\n",
       "6   2015 (in Thousand)   905.0\n",
       "7   2016 (in Thousand)   923.0\n",
       "8   2017 (in Thousand)   962.0\n",
       "9   2018 (in Thousand)  1012.0\n",
       "10  2019 (in Thousand)  1118.0\n",
       "11  2020 (in Thousand)    1226"
      ]
     },
     "execution_count": 28,
     "metadata": {},
     "output_type": "execute_result"
    }
   ],
   "source": [
    "df_reg_slice"
   ]
  },
  {
   "cell_type": "code",
   "execution_count": 25,
   "id": "0ae5545e-26f7-48fc-be12-a4e1d313017a",
   "metadata": {},
   "outputs": [
    {
     "data": {
      "application/vnd.plotly.v1+json": {
       "config": {
        "plotlyServerURL": "https://plot.ly"
       },
       "data": [
        {
         "alignmentgroup": "True",
         "hovertemplate": "Year=%{x}<br>No=%{y}<extra></extra>",
         "legendgroup": "",
         "marker": {
          "color": "#636efa",
          "pattern": {
           "shape": ""
          }
         },
         "name": "",
         "offsetgroup": "",
         "orientation": "v",
         "showlegend": false,
         "textposition": "auto",
         "type": "bar",
         "x": [
          "2010 (in Thousand)",
          "2011 (in Thousand)",
          "2012 (in Thousand)",
          "2013 (in Thousand)",
          "2014 (in Thousand)",
          "2015 (in Thousand)",
          "2016 (in Thousand)",
          "2017 (in Thousand)",
          "2018 (in Thousand)",
          "2019 (in Thousand)",
          "2020 (in Thousand)"
         ],
         "xaxis": "x",
         "y": [
          580,
          640,
          704,
          752,
          825,
          905,
          923,
          962,
          1012,
          1118,
          1226
         ],
         "yaxis": "y"
        }
       ],
       "layout": {
        "autosize": true,
        "barmode": "relative",
        "legend": {
         "tracegroupgap": 0
        },
        "margin": {
         "t": 60
        },
        "template": {
         "data": {
          "bar": [
           {
            "error_x": {
             "color": "#2a3f5f"
            },
            "error_y": {
             "color": "#2a3f5f"
            },
            "marker": {
             "line": {
              "color": "#E5ECF6",
              "width": 0.5
             },
             "pattern": {
              "fillmode": "overlay",
              "size": 10,
              "solidity": 0.2
             }
            },
            "type": "bar"
           }
          ],
          "barpolar": [
           {
            "marker": {
             "line": {
              "color": "#E5ECF6",
              "width": 0.5
             },
             "pattern": {
              "fillmode": "overlay",
              "size": 10,
              "solidity": 0.2
             }
            },
            "type": "barpolar"
           }
          ],
          "carpet": [
           {
            "aaxis": {
             "endlinecolor": "#2a3f5f",
             "gridcolor": "white",
             "linecolor": "white",
             "minorgridcolor": "white",
             "startlinecolor": "#2a3f5f"
            },
            "baxis": {
             "endlinecolor": "#2a3f5f",
             "gridcolor": "white",
             "linecolor": "white",
             "minorgridcolor": "white",
             "startlinecolor": "#2a3f5f"
            },
            "type": "carpet"
           }
          ],
          "choropleth": [
           {
            "colorbar": {
             "outlinewidth": 0,
             "ticks": ""
            },
            "type": "choropleth"
           }
          ],
          "contour": [
           {
            "colorbar": {
             "outlinewidth": 0,
             "ticks": ""
            },
            "colorscale": [
             [
              0,
              "#0d0887"
             ],
             [
              0.1111111111111111,
              "#46039f"
             ],
             [
              0.2222222222222222,
              "#7201a8"
             ],
             [
              0.3333333333333333,
              "#9c179e"
             ],
             [
              0.4444444444444444,
              "#bd3786"
             ],
             [
              0.5555555555555556,
              "#d8576b"
             ],
             [
              0.6666666666666666,
              "#ed7953"
             ],
             [
              0.7777777777777778,
              "#fb9f3a"
             ],
             [
              0.8888888888888888,
              "#fdca26"
             ],
             [
              1,
              "#f0f921"
             ]
            ],
            "type": "contour"
           }
          ],
          "contourcarpet": [
           {
            "colorbar": {
             "outlinewidth": 0,
             "ticks": ""
            },
            "type": "contourcarpet"
           }
          ],
          "heatmap": [
           {
            "colorbar": {
             "outlinewidth": 0,
             "ticks": ""
            },
            "colorscale": [
             [
              0,
              "#0d0887"
             ],
             [
              0.1111111111111111,
              "#46039f"
             ],
             [
              0.2222222222222222,
              "#7201a8"
             ],
             [
              0.3333333333333333,
              "#9c179e"
             ],
             [
              0.4444444444444444,
              "#bd3786"
             ],
             [
              0.5555555555555556,
              "#d8576b"
             ],
             [
              0.6666666666666666,
              "#ed7953"
             ],
             [
              0.7777777777777778,
              "#fb9f3a"
             ],
             [
              0.8888888888888888,
              "#fdca26"
             ],
             [
              1,
              "#f0f921"
             ]
            ],
            "type": "heatmap"
           }
          ],
          "heatmapgl": [
           {
            "colorbar": {
             "outlinewidth": 0,
             "ticks": ""
            },
            "colorscale": [
             [
              0,
              "#0d0887"
             ],
             [
              0.1111111111111111,
              "#46039f"
             ],
             [
              0.2222222222222222,
              "#7201a8"
             ],
             [
              0.3333333333333333,
              "#9c179e"
             ],
             [
              0.4444444444444444,
              "#bd3786"
             ],
             [
              0.5555555555555556,
              "#d8576b"
             ],
             [
              0.6666666666666666,
              "#ed7953"
             ],
             [
              0.7777777777777778,
              "#fb9f3a"
             ],
             [
              0.8888888888888888,
              "#fdca26"
             ],
             [
              1,
              "#f0f921"
             ]
            ],
            "type": "heatmapgl"
           }
          ],
          "histogram": [
           {
            "marker": {
             "pattern": {
              "fillmode": "overlay",
              "size": 10,
              "solidity": 0.2
             }
            },
            "type": "histogram"
           }
          ],
          "histogram2d": [
           {
            "colorbar": {
             "outlinewidth": 0,
             "ticks": ""
            },
            "colorscale": [
             [
              0,
              "#0d0887"
             ],
             [
              0.1111111111111111,
              "#46039f"
             ],
             [
              0.2222222222222222,
              "#7201a8"
             ],
             [
              0.3333333333333333,
              "#9c179e"
             ],
             [
              0.4444444444444444,
              "#bd3786"
             ],
             [
              0.5555555555555556,
              "#d8576b"
             ],
             [
              0.6666666666666666,
              "#ed7953"
             ],
             [
              0.7777777777777778,
              "#fb9f3a"
             ],
             [
              0.8888888888888888,
              "#fdca26"
             ],
             [
              1,
              "#f0f921"
             ]
            ],
            "type": "histogram2d"
           }
          ],
          "histogram2dcontour": [
           {
            "colorbar": {
             "outlinewidth": 0,
             "ticks": ""
            },
            "colorscale": [
             [
              0,
              "#0d0887"
             ],
             [
              0.1111111111111111,
              "#46039f"
             ],
             [
              0.2222222222222222,
              "#7201a8"
             ],
             [
              0.3333333333333333,
              "#9c179e"
             ],
             [
              0.4444444444444444,
              "#bd3786"
             ],
             [
              0.5555555555555556,
              "#d8576b"
             ],
             [
              0.6666666666666666,
              "#ed7953"
             ],
             [
              0.7777777777777778,
              "#fb9f3a"
             ],
             [
              0.8888888888888888,
              "#fdca26"
             ],
             [
              1,
              "#f0f921"
             ]
            ],
            "type": "histogram2dcontour"
           }
          ],
          "mesh3d": [
           {
            "colorbar": {
             "outlinewidth": 0,
             "ticks": ""
            },
            "type": "mesh3d"
           }
          ],
          "parcoords": [
           {
            "line": {
             "colorbar": {
              "outlinewidth": 0,
              "ticks": ""
             }
            },
            "type": "parcoords"
           }
          ],
          "pie": [
           {
            "automargin": true,
            "type": "pie"
           }
          ],
          "scatter": [
           {
            "fillpattern": {
             "fillmode": "overlay",
             "size": 10,
             "solidity": 0.2
            },
            "type": "scatter"
           }
          ],
          "scatter3d": [
           {
            "line": {
             "colorbar": {
              "outlinewidth": 0,
              "ticks": ""
             }
            },
            "marker": {
             "colorbar": {
              "outlinewidth": 0,
              "ticks": ""
             }
            },
            "type": "scatter3d"
           }
          ],
          "scattercarpet": [
           {
            "marker": {
             "colorbar": {
              "outlinewidth": 0,
              "ticks": ""
             }
            },
            "type": "scattercarpet"
           }
          ],
          "scattergeo": [
           {
            "marker": {
             "colorbar": {
              "outlinewidth": 0,
              "ticks": ""
             }
            },
            "type": "scattergeo"
           }
          ],
          "scattergl": [
           {
            "marker": {
             "colorbar": {
              "outlinewidth": 0,
              "ticks": ""
             }
            },
            "type": "scattergl"
           }
          ],
          "scattermapbox": [
           {
            "marker": {
             "colorbar": {
              "outlinewidth": 0,
              "ticks": ""
             }
            },
            "type": "scattermapbox"
           }
          ],
          "scatterpolar": [
           {
            "marker": {
             "colorbar": {
              "outlinewidth": 0,
              "ticks": ""
             }
            },
            "type": "scatterpolar"
           }
          ],
          "scatterpolargl": [
           {
            "marker": {
             "colorbar": {
              "outlinewidth": 0,
              "ticks": ""
             }
            },
            "type": "scatterpolargl"
           }
          ],
          "scatterternary": [
           {
            "marker": {
             "colorbar": {
              "outlinewidth": 0,
              "ticks": ""
             }
            },
            "type": "scatterternary"
           }
          ],
          "surface": [
           {
            "colorbar": {
             "outlinewidth": 0,
             "ticks": ""
            },
            "colorscale": [
             [
              0,
              "#0d0887"
             ],
             [
              0.1111111111111111,
              "#46039f"
             ],
             [
              0.2222222222222222,
              "#7201a8"
             ],
             [
              0.3333333333333333,
              "#9c179e"
             ],
             [
              0.4444444444444444,
              "#bd3786"
             ],
             [
              0.5555555555555556,
              "#d8576b"
             ],
             [
              0.6666666666666666,
              "#ed7953"
             ],
             [
              0.7777777777777778,
              "#fb9f3a"
             ],
             [
              0.8888888888888888,
              "#fdca26"
             ],
             [
              1,
              "#f0f921"
             ]
            ],
            "type": "surface"
           }
          ],
          "table": [
           {
            "cells": {
             "fill": {
              "color": "#EBF0F8"
             },
             "line": {
              "color": "white"
             }
            },
            "header": {
             "fill": {
              "color": "#C8D4E3"
             },
             "line": {
              "color": "white"
             }
            },
            "type": "table"
           }
          ]
         },
         "layout": {
          "annotationdefaults": {
           "arrowcolor": "#2a3f5f",
           "arrowhead": 0,
           "arrowwidth": 1
          },
          "autotypenumbers": "strict",
          "coloraxis": {
           "colorbar": {
            "outlinewidth": 0,
            "ticks": ""
           }
          },
          "colorscale": {
           "diverging": [
            [
             0,
             "#8e0152"
            ],
            [
             0.1,
             "#c51b7d"
            ],
            [
             0.2,
             "#de77ae"
            ],
            [
             0.3,
             "#f1b6da"
            ],
            [
             0.4,
             "#fde0ef"
            ],
            [
             0.5,
             "#f7f7f7"
            ],
            [
             0.6,
             "#e6f5d0"
            ],
            [
             0.7,
             "#b8e186"
            ],
            [
             0.8,
             "#7fbc41"
            ],
            [
             0.9,
             "#4d9221"
            ],
            [
             1,
             "#276419"
            ]
           ],
           "sequential": [
            [
             0,
             "#0d0887"
            ],
            [
             0.1111111111111111,
             "#46039f"
            ],
            [
             0.2222222222222222,
             "#7201a8"
            ],
            [
             0.3333333333333333,
             "#9c179e"
            ],
            [
             0.4444444444444444,
             "#bd3786"
            ],
            [
             0.5555555555555556,
             "#d8576b"
            ],
            [
             0.6666666666666666,
             "#ed7953"
            ],
            [
             0.7777777777777778,
             "#fb9f3a"
            ],
            [
             0.8888888888888888,
             "#fdca26"
            ],
            [
             1,
             "#f0f921"
            ]
           ],
           "sequentialminus": [
            [
             0,
             "#0d0887"
            ],
            [
             0.1111111111111111,
             "#46039f"
            ],
            [
             0.2222222222222222,
             "#7201a8"
            ],
            [
             0.3333333333333333,
             "#9c179e"
            ],
            [
             0.4444444444444444,
             "#bd3786"
            ],
            [
             0.5555555555555556,
             "#d8576b"
            ],
            [
             0.6666666666666666,
             "#ed7953"
            ],
            [
             0.7777777777777778,
             "#fb9f3a"
            ],
            [
             0.8888888888888888,
             "#fdca26"
            ],
            [
             1,
             "#f0f921"
            ]
           ]
          },
          "colorway": [
           "#636efa",
           "#EF553B",
           "#00cc96",
           "#ab63fa",
           "#FFA15A",
           "#19d3f3",
           "#FF6692",
           "#B6E880",
           "#FF97FF",
           "#FECB52"
          ],
          "font": {
           "color": "#2a3f5f"
          },
          "geo": {
           "bgcolor": "white",
           "lakecolor": "white",
           "landcolor": "#E5ECF6",
           "showlakes": true,
           "showland": true,
           "subunitcolor": "white"
          },
          "hoverlabel": {
           "align": "left"
          },
          "hovermode": "closest",
          "mapbox": {
           "style": "light"
          },
          "paper_bgcolor": "white",
          "plot_bgcolor": "#E5ECF6",
          "polar": {
           "angularaxis": {
            "gridcolor": "white",
            "linecolor": "white",
            "ticks": ""
           },
           "bgcolor": "#E5ECF6",
           "radialaxis": {
            "gridcolor": "white",
            "linecolor": "white",
            "ticks": ""
           }
          },
          "scene": {
           "xaxis": {
            "backgroundcolor": "#E5ECF6",
            "gridcolor": "white",
            "gridwidth": 2,
            "linecolor": "white",
            "showbackground": true,
            "ticks": "",
            "zerolinecolor": "white"
           },
           "yaxis": {
            "backgroundcolor": "#E5ECF6",
            "gridcolor": "white",
            "gridwidth": 2,
            "linecolor": "white",
            "showbackground": true,
            "ticks": "",
            "zerolinecolor": "white"
           },
           "zaxis": {
            "backgroundcolor": "#E5ECF6",
            "gridcolor": "white",
            "gridwidth": 2,
            "linecolor": "white",
            "showbackground": true,
            "ticks": "",
            "zerolinecolor": "white"
           }
          },
          "shapedefaults": {
           "line": {
            "color": "#2a3f5f"
           }
          },
          "ternary": {
           "aaxis": {
            "gridcolor": "white",
            "linecolor": "white",
            "ticks": ""
           },
           "baxis": {
            "gridcolor": "white",
            "linecolor": "white",
            "ticks": ""
           },
           "bgcolor": "#E5ECF6",
           "caxis": {
            "gridcolor": "white",
            "linecolor": "white",
            "ticks": ""
           }
          },
          "title": {
           "x": 0.05
          },
          "xaxis": {
           "automargin": true,
           "gridcolor": "white",
           "linecolor": "white",
           "ticks": "",
           "title": {
            "standoff": 15
           },
           "zerolinecolor": "white",
           "zerolinewidth": 2
          },
          "yaxis": {
           "automargin": true,
           "gridcolor": "white",
           "linecolor": "white",
           "ticks": "",
           "title": {
            "standoff": 15
           },
           "zerolinecolor": "white",
           "zerolinewidth": 2
          }
         }
        },
        "xaxis": {
         "anchor": "y",
         "autorange": true,
         "domain": [
          0,
          1
         ],
         "range": [
          -0.5,
          10.5
         ],
         "title": {
          "text": "Year"
         },
         "type": "category"
        },
        "yaxis": {
         "anchor": "x",
         "autorange": true,
         "domain": [
          0,
          1
         ],
         "range": [
          0,
          1290.5263157894738
         ],
         "title": {
          "text": "No"
         },
         "type": "linear"
        }
       }
      },
      "image/png": "[encoded data removed]",
      "text/html": [
       "<div>                            <div id=\"a4e57363-68ad-42b5-bee3-cd60108ea196\" class=\"plotly-graph-div\" style=\"height:525px; width:100%;\"></div>            <script type=\"text/javascript\">                require([\"plotly\"], function(Plotly) {                    window.PLOTLYENV=window.PLOTLYENV || {};                                    if (document.getElementById(\"a4e57363-68ad-42b5-bee3-cd60108ea196\")) {                    Plotly.newPlot(                        \"a4e57363-68ad-42b5-bee3-cd60108ea196\",                        [{\"alignmentgroup\":\"True\",\"hovertemplate\":\"Year=%{x}\\u003cbr\\u003eNo=%{y}\\u003cextra\\u003e\\u003c\\u002fextra\\u003e\",\"legendgroup\":\"\",\"marker\":{\"color\":\"#636efa\",\"pattern\":{\"shape\":\"\"}},\"name\":\"\",\"offsetgroup\":\"\",\"orientation\":\"v\",\"showlegend\":false,\"textposition\":\"auto\",\"x\":[\"2010 (in Thousand)\",\"2011 (in Thousand)\",\"2012 (in Thousand)\",\"2013 (in Thousand)\",\"2014 (in Thousand)\",\"2015 (in Thousand)\",\"2016 (in Thousand)\",\"2017 (in Thousand)\",\"2018 (in Thousand)\",\"2019 (in Thousand)\",\"2020 (in Thousand)\"],\"xaxis\":\"x\",\"y\":[580.0,640.0,704.0,752.0,825.0,905.0,923.0,962.0,1012.0,1118.0,1226],\"yaxis\":\"y\",\"type\":\"bar\"}],                        {\"template\":{\"data\":{\"histogram2dcontour\":[{\"type\":\"histogram2dcontour\",\"colorbar\":{\"outlinewidth\":0,\"ticks\":\"\"},\"colorscale\":[[0.0,\"#0d0887\"],[0.1111111111111111,\"#46039f\"],[0.2222222222222222,\"#7201a8\"],[0.3333333333333333,\"#9c179e\"],[0.4444444444444444,\"#bd3786\"],[0.5555555555555556,\"#d8576b\"],[0.6666666666666666,\"#ed7953\"],[0.7777777777777778,\"#fb9f3a\"],[0.8888888888888888,\"#fdca26\"],[1.0,\"#f0f921\"]]}],\"choropleth\":[{\"type\":\"choropleth\",\"colorbar\":{\"outlinewidth\":0,\"ticks\":\"\"}}],\"histogram2d\":[{\"type\":\"histogram2d\",\"colorbar\":{\"outlinewidth\":0,\"ticks\":\"\"},\"colorscale\":[[0.0,\"#0d0887\"],[0.1111111111111111,\"#46039f\"],[0.2222222222222222,\"#7201a8\"],[0.3333333333333333,\"#9c179e\"],[0.4444444444444444,\"#bd3786\"],[0.5555555555555556,\"#d8576b\"],[0.6666666666666666,\"#ed7953\"],[0.7777777777777778,\"#fb9f3a\"],[0.8888888888888888,\"#fdca26\"],[1.0,\"#f0f921\"]]}],\"heatmap\":[{\"type\":\"heatmap\",\"colorbar\":{\"outlinewidth\":0,\"ticks\":\"\"},\"colorscale\":[[0.0,\"#0d0887\"],[0.1111111111111111,\"#46039f\"],[0.2222222222222222,\"#7201a8\"],[0.3333333333333333,\"#9c179e\"],[0.4444444444444444,\"#bd3786\"],[0.5555555555555556,\"#d8576b\"],[0.6666666666666666,\"#ed7953\"],[0.7777777777777778,\"#fb9f3a\"],[0.8888888888888888,\"#fdca26\"],[1.0,\"#f0f921\"]]}],\"heatmapgl\":[{\"type\":\"heatmapgl\",\"colorbar\":{\"outlinewidth\":0,\"ticks\":\"\"},\"colorscale\":[[0.0,\"#0d0887\"],[0.1111111111111111,\"#46039f\"],[0.2222222222222222,\"#7201a8\"],[0.3333333333333333,\"#9c179e\"],[0.4444444444444444,\"#bd3786\"],[0.5555555555555556,\"#d8576b\"],[0.6666666666666666,\"#ed7953\"],[0.7777777777777778,\"#fb9f3a\"],[0.8888888888888888,\"#fdca26\"],[1.0,\"#f0f921\"]]}],\"contourcarpet\":[{\"type\":\"contourcarpet\",\"colorbar\":{\"outlinewidth\":0,\"ticks\":\"\"}}],\"contour\":[{\"type\":\"contour\",\"colorbar\":{\"outlinewidth\":0,\"ticks\":\"\"},\"colorscale\":[[0.0,\"#0d0887\"],[0.1111111111111111,\"#46039f\"],[0.2222222222222222,\"#7201a8\"],[0.3333333333333333,\"#9c179e\"],[0.4444444444444444,\"#bd3786\"],[0.5555555555555556,\"#d8576b\"],[0.6666666666666666,\"#ed7953\"],[0.7777777777777778,\"#fb9f3a\"],[0.8888888888888888,\"#fdca26\"],[1.0,\"#f0f921\"]]}],\"surface\":[{\"type\":\"surface\",\"colorbar\":{\"outlinewidth\":0,\"ticks\":\"\"},\"colorscale\":[[0.0,\"#0d0887\"],[0.1111111111111111,\"#46039f\"],[0.2222222222222222,\"#7201a8\"],[0.3333333333333333,\"#9c179e\"],[0.4444444444444444,\"#bd3786\"],[0.5555555555555556,\"#d8576b\"],[0.6666666666666666,\"#ed7953\"],[0.7777777777777778,\"#fb9f3a\"],[0.8888888888888888,\"#fdca26\"],[1.0,\"#f0f921\"]]}],\"mesh3d\":[{\"type\":\"mesh3d\",\"colorbar\":{\"outlinewidth\":0,\"ticks\":\"\"}}],\"scatter\":[{\"fillpattern\":{\"fillmode\":\"overlay\",\"size\":10,\"solidity\":0.2},\"type\":\"scatter\"}],\"parcoords\":[{\"type\":\"parcoords\",\"line\":{\"colorbar\":{\"outlinewidth\":0,\"ticks\":\"\"}}}],\"scatterpolargl\":[{\"type\":\"scatterpolargl\",\"marker\":{\"colorbar\":{\"outlinewidth\":0,\"ticks\":\"\"}}}],\"bar\":[{\"error_x\":{\"color\":\"#2a3f5f\"},\"error_y\":{\"color\":\"#2a3f5f\"},\"marker\":{\"line\":{\"color\":\"#E5ECF6\",\"width\":0.5},\"pattern\":{\"fillmode\":\"overlay\",\"size\":10,\"solidity\":0.2}},\"type\":\"bar\"}],\"scattergeo\":[{\"type\":\"scattergeo\",\"marker\":{\"colorbar\":{\"outlinewidth\":0,\"ticks\":\"\"}}}],\"scatterpolar\":[{\"type\":\"scatterpolar\",\"marker\":{\"colorbar\":{\"outlinewidth\":0,\"ticks\":\"\"}}}],\"histogram\":[{\"marker\":{\"pattern\":{\"fillmode\":\"overlay\",\"size\":10,\"solidity\":0.2}},\"type\":\"histogram\"}],\"scattergl\":[{\"type\":\"scattergl\",\"marker\":{\"colorbar\":{\"outlinewidth\":0,\"ticks\":\"\"}}}],\"scatter3d\":[{\"type\":\"scatter3d\",\"line\":{\"colorbar\":{\"outlinewidth\":0,\"ticks\":\"\"}},\"marker\":{\"colorbar\":{\"outlinewidth\":0,\"ticks\":\"\"}}}],\"scattermapbox\":[{\"type\":\"scattermapbox\",\"marker\":{\"colorbar\":{\"outlinewidth\":0,\"ticks\":\"\"}}}],\"scatterternary\":[{\"type\":\"scatterternary\",\"marker\":{\"colorbar\":{\"outlinewidth\":0,\"ticks\":\"\"}}}],\"scattercarpet\":[{\"type\":\"scattercarpet\",\"marker\":{\"colorbar\":{\"outlinewidth\":0,\"ticks\":\"\"}}}],\"carpet\":[{\"aaxis\":{\"endlinecolor\":\"#2a3f5f\",\"gridcolor\":\"white\",\"linecolor\":\"white\",\"minorgridcolor\":\"white\",\"startlinecolor\":\"#2a3f5f\"},\"baxis\":{\"endlinecolor\":\"#2a3f5f\",\"gridcolor\":\"white\",\"linecolor\":\"white\",\"minorgridcolor\":\"white\",\"startlinecolor\":\"#2a3f5f\"},\"type\":\"carpet\"}],\"table\":[{\"cells\":{\"fill\":{\"color\":\"#EBF0F8\"},\"line\":{\"color\":\"white\"}},\"header\":{\"fill\":{\"color\":\"#C8D4E3\"},\"line\":{\"color\":\"white\"}},\"type\":\"table\"}],\"barpolar\":[{\"marker\":{\"line\":{\"color\":\"#E5ECF6\",\"width\":0.5},\"pattern\":{\"fillmode\":\"overlay\",\"size\":10,\"solidity\":0.2}},\"type\":\"barpolar\"}],\"pie\":[{\"automargin\":true,\"type\":\"pie\"}]},\"layout\":{\"autotypenumbers\":\"strict\",\"colorway\":[\"#636efa\",\"#EF553B\",\"#00cc96\",\"#ab63fa\",\"#FFA15A\",\"#19d3f3\",\"#FF6692\",\"#B6E880\",\"#FF97FF\",\"#FECB52\"],\"font\":{\"color\":\"#2a3f5f\"},\"hovermode\":\"closest\",\"hoverlabel\":{\"align\":\"left\"},\"paper_bgcolor\":\"white\",\"plot_bgcolor\":\"#E5ECF6\",\"polar\":{\"bgcolor\":\"#E5ECF6\",\"angularaxis\":{\"gridcolor\":\"white\",\"linecolor\":\"white\",\"ticks\":\"\"},\"radialaxis\":{\"gridcolor\":\"white\",\"linecolor\":\"white\",\"ticks\":\"\"}},\"ternary\":{\"bgcolor\":\"#E5ECF6\",\"aaxis\":{\"gridcolor\":\"white\",\"linecolor\":\"white\",\"ticks\":\"\"},\"baxis\":{\"gridcolor\":\"white\",\"linecolor\":\"white\",\"ticks\":\"\"},\"caxis\":{\"gridcolor\":\"white\",\"linecolor\":\"white\",\"ticks\":\"\"}},\"coloraxis\":{\"colorbar\":{\"outlinewidth\":0,\"ticks\":\"\"}},\"colorscale\":{\"sequential\":[[0.0,\"#0d0887\"],[0.1111111111111111,\"#46039f\"],[0.2222222222222222,\"#7201a8\"],[0.3333333333333333,\"#9c179e\"],[0.4444444444444444,\"#bd3786\"],[0.5555555555555556,\"#d8576b\"],[0.6666666666666666,\"#ed7953\"],[0.7777777777777778,\"#fb9f3a\"],[0.8888888888888888,\"#fdca26\"],[1.0,\"#f0f921\"]],\"sequentialminus\":[[0.0,\"#0d0887\"],[0.1111111111111111,\"#46039f\"],[0.2222222222222222,\"#7201a8\"],[0.3333333333333333,\"#9c179e\"],[0.4444444444444444,\"#bd3786\"],[0.5555555555555556,\"#d8576b\"],[0.6666666666666666,\"#ed7953\"],[0.7777777777777778,\"#fb9f3a\"],[0.8888888888888888,\"#fdca26\"],[1.0,\"#f0f921\"]],\"diverging\":[[0,\"#8e0152\"],[0.1,\"#c51b7d\"],[0.2,\"#de77ae\"],[0.3,\"#f1b6da\"],[0.4,\"#fde0ef\"],[0.5,\"#f7f7f7\"],[0.6,\"#e6f5d0\"],[0.7,\"#b8e186\"],[0.8,\"#7fbc41\"],[0.9,\"#4d9221\"],[1,\"#276419\"]]},\"xaxis\":{\"gridcolor\":\"white\",\"linecolor\":\"white\",\"ticks\":\"\",\"title\":{\"standoff\":15},\"zerolinecolor\":\"white\",\"automargin\":true,\"zerolinewidth\":2},\"yaxis\":{\"gridcolor\":\"white\",\"linecolor\":\"white\",\"ticks\":\"\",\"title\":{\"standoff\":15},\"zerolinecolor\":\"white\",\"automargin\":true,\"zerolinewidth\":2},\"scene\":{\"xaxis\":{\"backgroundcolor\":\"#E5ECF6\",\"gridcolor\":\"white\",\"linecolor\":\"white\",\"showbackground\":true,\"ticks\":\"\",\"zerolinecolor\":\"white\",\"gridwidth\":2},\"yaxis\":{\"backgroundcolor\":\"#E5ECF6\",\"gridcolor\":\"white\",\"linecolor\":\"white\",\"showbackground\":true,\"ticks\":\"\",\"zerolinecolor\":\"white\",\"gridwidth\":2},\"zaxis\":{\"backgroundcolor\":\"#E5ECF6\",\"gridcolor\":\"white\",\"linecolor\":\"white\",\"showbackground\":true,\"ticks\":\"\",\"zerolinecolor\":\"white\",\"gridwidth\":2}},\"shapedefaults\":{\"line\":{\"color\":\"#2a3f5f\"}},\"annotationdefaults\":{\"arrowcolor\":\"#2a3f5f\",\"arrowhead\":0,\"arrowwidth\":1},\"geo\":{\"bgcolor\":\"white\",\"landcolor\":\"#E5ECF6\",\"subunitcolor\":\"white\",\"showland\":true,\"showlakes\":true,\"lakecolor\":\"white\"},\"title\":{\"x\":0.05},\"mapbox\":{\"style\":\"light\"}}},\"xaxis\":{\"anchor\":\"y\",\"domain\":[0.0,1.0],\"title\":{\"text\":\"Year\"}},\"yaxis\":{\"anchor\":\"x\",\"domain\":[0.0,1.0],\"title\":{\"text\":\"No\"}},\"legend\":{\"tracegroupgap\":0},\"margin\":{\"t\":60},\"barmode\":\"relative\"},                        {\"responsive\": true}                    ).then(function(){\n",
       "                            \n",
       "var gd = document.getElementById('a4e57363-68ad-42b5-bee3-cd60108ea196');\n",
       "var x = new MutationObserver(function (mutations, observer) {{\n",
       "        var display = window.getComputedStyle(gd).display;\n",
       "        if (!display || display === 'none') {{\n",
       "            console.log([gd, 'removed!']);\n",
       "            Plotly.purge(gd);\n",
       "            observer.disconnect();\n",
       "        }}\n",
       "}});\n",
       "\n",
       "// Listen for the removal of the full notebook cells\n",
       "var notebookContainer = gd.closest('#notebook-container');\n",
       "if (notebookContainer) {{\n",
       "    x.observe(notebookContainer, {childList: true});\n",
       "}}\n",
       "\n",
       "// Listen for the clearing of the current output cell\n",
       "var outputEl = gd.closest('.output');\n",
       "if (outputEl) {{\n",
       "    x.observe(outputEl, {childList: true});\n",
       "}}\n",
       "\n",
       "                        })                };                });            </script>        </div>"
      ]
     },
     "metadata": {},
     "output_type": "display_data"
    }
   ],
   "source": [
    "px.bar(df_reg_slice,x=\"Year\",y=\"No\")"
   ]
  },
  {
   "cell_type": "code",
   "execution_count": 19,
   "id": "b4f2427d-9f2b-4f57-b10e-1130750d9330",
   "metadata": {},
   "outputs": [
    {
     "data": {
      "text/html": [
       "<div>\n",
       "<style scoped>\n",
       "    .dataframe tbody tr th:only-of-type {\n",
       "        vertical-align: middle;\n",
       "    }\n",
       "\n",
       "    .dataframe tbody tr th {\n",
       "        vertical-align: top;\n",
       "    }\n",
       "\n",
       "    .dataframe thead th {\n",
       "        text-align: right;\n",
       "    }\n",
       "</style>\n",
       "<table border=\"1\" class=\"dataframe\">\n",
       "  <thead>\n",
       "    <tr style=\"text-align: right;\">\n",
       "      <th></th>\n",
       "      <th>Million Plus Cities</th>\n",
       "      <th>2010 (in Thousand)</th>\n",
       "      <th>2011 (in Thousand)</th>\n",
       "      <th>2012 (in Thousand)</th>\n",
       "      <th>2013 (in Thousand)</th>\n",
       "      <th>2014 (in Thousand)</th>\n",
       "      <th>2015 (in Thousand)</th>\n",
       "      <th>2016 (in Thousand)</th>\n",
       "      <th>2017 (in Thousand)</th>\n",
       "      <th>2018 (in Thousand)</th>\n",
       "      <th>2019 (in Thousand)</th>\n",
       "      <th>2020 (in Thousand)</th>\n",
       "    </tr>\n",
       "  </thead>\n",
       "  <tbody>\n",
       "    <tr>\n",
       "      <th>0</th>\n",
       "      <td>Agra</td>\n",
       "      <td>580.0</td>\n",
       "      <td>640.0</td>\n",
       "      <td>704.0</td>\n",
       "      <td>752.0</td>\n",
       "      <td>825.0</td>\n",
       "      <td>905.0</td>\n",
       "      <td>923.0</td>\n",
       "      <td>962.0</td>\n",
       "      <td>1012.0</td>\n",
       "      <td>1118.0</td>\n",
       "      <td>1226</td>\n",
       "    </tr>\n",
       "    <tr>\n",
       "      <th>1</th>\n",
       "      <td>Ahmedabad</td>\n",
       "      <td>NaN</td>\n",
       "      <td>NaN</td>\n",
       "      <td>1682.0</td>\n",
       "      <td>1796.0</td>\n",
       "      <td>3196.0</td>\n",
       "      <td>3420.0</td>\n",
       "      <td>3656.0</td>\n",
       "      <td>3905.0</td>\n",
       "      <td>4132.0</td>\n",
       "      <td>4265.0</td>\n",
       "      <td>4571</td>\n",
       "    </tr>\n",
       "    <tr>\n",
       "      <th>2</th>\n",
       "      <td>Aurangabad</td>\n",
       "      <td>NaN</td>\n",
       "      <td>253.0</td>\n",
       "      <td>281.0</td>\n",
       "      <td>310.0</td>\n",
       "      <td>362.0</td>\n",
       "      <td>426.0</td>\n",
       "      <td>755.0</td>\n",
       "      <td>515.0</td>\n",
       "      <td>560.0</td>\n",
       "      <td>515.0</td>\n",
       "      <td>1441</td>\n",
       "    </tr>\n",
       "    <tr>\n",
       "      <th>3</th>\n",
       "      <td>Bengaluru</td>\n",
       "      <td>3491.0</td>\n",
       "      <td>3791.0</td>\n",
       "      <td>4156.0</td>\n",
       "      <td>4591.0</td>\n",
       "      <td>5050.0</td>\n",
       "      <td>5560.0</td>\n",
       "      <td>6113.0</td>\n",
       "      <td>6833.0</td>\n",
       "      <td>7406.0</td>\n",
       "      <td>8054.0</td>\n",
       "      <td>9638</td>\n",
       "    </tr>\n",
       "    <tr>\n",
       "      <th>4</th>\n",
       "      <td>Bhopal</td>\n",
       "      <td>674.0</td>\n",
       "      <td>755.0</td>\n",
       "      <td>829.0</td>\n",
       "      <td>877.0</td>\n",
       "      <td>933.0</td>\n",
       "      <td>1080.0</td>\n",
       "      <td>1061.0</td>\n",
       "      <td>1256.0</td>\n",
       "      <td>1256.0</td>\n",
       "      <td>1256.0</td>\n",
       "      <td>1574</td>\n",
       "    </tr>\n",
       "    <tr>\n",
       "      <th>5</th>\n",
       "      <td>Chandigarh</td>\n",
       "      <td>NaN</td>\n",
       "      <td>NaN</td>\n",
       "      <td>1058.0</td>\n",
       "      <td>1106.0</td>\n",
       "      <td>631.0</td>\n",
       "      <td>746.0</td>\n",
       "      <td>837.0</td>\n",
       "      <td>883.0</td>\n",
       "      <td>951.0</td>\n",
       "      <td>1013.0</td>\n",
       "      <td>1059</td>\n",
       "    </tr>\n",
       "    <tr>\n",
       "      <th>6</th>\n",
       "      <td>Chennai</td>\n",
       "      <td>3149.0</td>\n",
       "      <td>3456.0</td>\n",
       "      <td>3767.0</td>\n",
       "      <td>4072.0</td>\n",
       "      <td>4354.0</td>\n",
       "      <td>4934.0</td>\n",
       "      <td>4938.0</td>\n",
       "      <td>5299.0</td>\n",
       "      <td>5642.0</td>\n",
       "      <td>5997.0</td>\n",
       "      <td>6352</td>\n",
       "    </tr>\n",
       "    <tr>\n",
       "      <th>7</th>\n",
       "      <td>Coimbatore</td>\n",
       "      <td>1110.0</td>\n",
       "      <td>1241.0</td>\n",
       "      <td>1386.0</td>\n",
       "      <td>1528.0</td>\n",
       "      <td>1649.0</td>\n",
       "      <td>1901.0</td>\n",
       "      <td>1904.0</td>\n",
       "      <td>2059.0</td>\n",
       "      <td>2164.0</td>\n",
       "      <td>2278.0</td>\n",
       "      <td>2378</td>\n",
       "    </tr>\n",
       "    <tr>\n",
       "      <th>8</th>\n",
       "      <td>Delhi</td>\n",
       "      <td>6747.0</td>\n",
       "      <td>7228.0</td>\n",
       "      <td>7350.0</td>\n",
       "      <td>7785.0</td>\n",
       "      <td>8293.0</td>\n",
       "      <td>8851.0</td>\n",
       "      <td>8851.0</td>\n",
       "      <td>10260.0</td>\n",
       "      <td>10686.0</td>\n",
       "      <td>11392.0</td>\n",
       "      <td>11893</td>\n",
       "    </tr>\n",
       "    <tr>\n",
       "      <th>9</th>\n",
       "      <td>Dhanbad</td>\n",
       "      <td>31.0</td>\n",
       "      <td>41.0</td>\n",
       "      <td>462.0</td>\n",
       "      <td>490.0</td>\n",
       "      <td>521.0</td>\n",
       "      <td>563.0</td>\n",
       "      <td>604.0</td>\n",
       "      <td>651.0</td>\n",
       "      <td>651.0</td>\n",
       "      <td>651.0</td>\n",
       "      <td>657</td>\n",
       "    </tr>\n",
       "    <tr>\n",
       "      <th>10</th>\n",
       "      <td>Durg Bhilai</td>\n",
       "      <td>NaN</td>\n",
       "      <td>NaN</td>\n",
       "      <td>445.0</td>\n",
       "      <td>490.0</td>\n",
       "      <td>721.0</td>\n",
       "      <td>769.0</td>\n",
       "      <td>817.0</td>\n",
       "      <td>815.0</td>\n",
       "      <td>910.0</td>\n",
       "      <td>958.0</td>\n",
       "      <td>1003</td>\n",
       "    </tr>\n",
       "    <tr>\n",
       "      <th>11</th>\n",
       "      <td>Faridabad</td>\n",
       "      <td>NaN</td>\n",
       "      <td>NaN</td>\n",
       "      <td>NaN</td>\n",
       "      <td>NaN</td>\n",
       "      <td>NaN</td>\n",
       "      <td>NaN</td>\n",
       "      <td>NaN</td>\n",
       "      <td>NaN</td>\n",
       "      <td>7733.0</td>\n",
       "      <td>8600.0</td>\n",
       "      <td>8600</td>\n",
       "    </tr>\n",
       "    <tr>\n",
       "      <th>12</th>\n",
       "      <td>Ghaziabad</td>\n",
       "      <td>409.0</td>\n",
       "      <td>470.0</td>\n",
       "      <td>525.0</td>\n",
       "      <td>628.0</td>\n",
       "      <td>685.0</td>\n",
       "      <td>752.0</td>\n",
       "      <td>840.0</td>\n",
       "      <td>918.0</td>\n",
       "      <td>1007.0</td>\n",
       "      <td>1108.0</td>\n",
       "      <td>1210</td>\n",
       "    </tr>\n",
       "    <tr>\n",
       "      <th>13</th>\n",
       "      <td>Greater Mumbai</td>\n",
       "      <td>1768.0</td>\n",
       "      <td>1870.0</td>\n",
       "      <td>2029.0</td>\n",
       "      <td>2187.0</td>\n",
       "      <td>2333.0</td>\n",
       "      <td>2571.0</td>\n",
       "      <td>2820.0</td>\n",
       "      <td>3053.0</td>\n",
       "      <td>3318.0</td>\n",
       "      <td>3053.0</td>\n",
       "      <td>3876</td>\n",
       "    </tr>\n",
       "    <tr>\n",
       "      <th>14</th>\n",
       "      <td>Gwalior</td>\n",
       "      <td>412.0</td>\n",
       "      <td>449.0</td>\n",
       "      <td>490.0</td>\n",
       "      <td>530.0</td>\n",
       "      <td>573.0</td>\n",
       "      <td>618.0</td>\n",
       "      <td>634.0</td>\n",
       "      <td>NaN</td>\n",
       "      <td>0.0</td>\n",
       "      <td>0.0</td>\n",
       "      <td>884</td>\n",
       "    </tr>\n",
       "    <tr>\n",
       "      <th>15</th>\n",
       "      <td>Hyderabad</td>\n",
       "      <td>2728.0</td>\n",
       "      <td>3033.0</td>\n",
       "      <td>3387.0</td>\n",
       "      <td>2040.0</td>\n",
       "      <td>2203.0</td>\n",
       "      <td>2369.0</td>\n",
       "      <td>2369.0</td>\n",
       "      <td>2715.0</td>\n",
       "      <td>2715.0</td>\n",
       "      <td>2715.0</td>\n",
       "      <td>3243</td>\n",
       "    </tr>\n",
       "    <tr>\n",
       "      <th>16</th>\n",
       "      <td>Indore</td>\n",
       "      <td>1098.0</td>\n",
       "      <td>1213.0</td>\n",
       "      <td>1338.0</td>\n",
       "      <td>1491.0</td>\n",
       "      <td>1568.0</td>\n",
       "      <td>1713.0</td>\n",
       "      <td>1811.0</td>\n",
       "      <td>1935.0</td>\n",
       "      <td>1935.0</td>\n",
       "      <td>1935.0</td>\n",
       "      <td>2432</td>\n",
       "    </tr>\n",
       "    <tr>\n",
       "      <th>17</th>\n",
       "      <td>Jabalpur</td>\n",
       "      <td>516.0</td>\n",
       "      <td>559.0</td>\n",
       "      <td>605.0</td>\n",
       "      <td>646.0</td>\n",
       "      <td>585.0</td>\n",
       "      <td>638.0</td>\n",
       "      <td>663.0</td>\n",
       "      <td>NaN</td>\n",
       "      <td>0.0</td>\n",
       "      <td>0.0</td>\n",
       "      <td>1088</td>\n",
       "    </tr>\n",
       "    <tr>\n",
       "      <th>18</th>\n",
       "      <td>Jaipur</td>\n",
       "      <td>1549.0</td>\n",
       "      <td>1694.0</td>\n",
       "      <td>1871.0</td>\n",
       "      <td>1962.0</td>\n",
       "      <td>2121.0</td>\n",
       "      <td>2249.0</td>\n",
       "      <td>2424.0</td>\n",
       "      <td>2583.0</td>\n",
       "      <td>2773.0</td>\n",
       "      <td>2975.0</td>\n",
       "      <td>3168</td>\n",
       "    </tr>\n",
       "    <tr>\n",
       "      <th>19</th>\n",
       "      <td>Jamshedpur</td>\n",
       "      <td>56.0</td>\n",
       "      <td>67.0</td>\n",
       "      <td>682.0</td>\n",
       "      <td>682.0</td>\n",
       "      <td>421.0</td>\n",
       "      <td>472.0</td>\n",
       "      <td>59.0</td>\n",
       "      <td>266.0</td>\n",
       "      <td>266.0</td>\n",
       "      <td>266.0</td>\n",
       "      <td>793</td>\n",
       "    </tr>\n",
       "    <tr>\n",
       "      <th>20</th>\n",
       "      <td>Jodhpur</td>\n",
       "      <td>577.0</td>\n",
       "      <td>636.0</td>\n",
       "      <td>868.0</td>\n",
       "      <td>793.0</td>\n",
       "      <td>854.0</td>\n",
       "      <td>916.0</td>\n",
       "      <td>977.0</td>\n",
       "      <td>1052.0</td>\n",
       "      <td>1115.0</td>\n",
       "      <td>1191.0</td>\n",
       "      <td>1268</td>\n",
       "    </tr>\n",
       "    <tr>\n",
       "      <th>21</th>\n",
       "      <td>Kalyan Dombivali</td>\n",
       "      <td>NaN</td>\n",
       "      <td>NaN</td>\n",
       "      <td>NaN</td>\n",
       "      <td>NaN</td>\n",
       "      <td>NaN</td>\n",
       "      <td>NaN</td>\n",
       "      <td>NaN</td>\n",
       "      <td>NaN</td>\n",
       "      <td>NaN</td>\n",
       "      <td>NaN</td>\n",
       "      <td>669</td>\n",
       "    </tr>\n",
       "    <tr>\n",
       "      <th>22</th>\n",
       "      <td>Kannur</td>\n",
       "      <td>NaN</td>\n",
       "      <td>NaN</td>\n",
       "      <td>NaN</td>\n",
       "      <td>NaN</td>\n",
       "      <td>167.0</td>\n",
       "      <td>188.0</td>\n",
       "      <td>213.0</td>\n",
       "      <td>232.0</td>\n",
       "      <td>283.0</td>\n",
       "      <td>314.0</td>\n",
       "      <td>332</td>\n",
       "    </tr>\n",
       "    <tr>\n",
       "      <th>23</th>\n",
       "      <td>Kanpur</td>\n",
       "      <td>940.0</td>\n",
       "      <td>1002.0</td>\n",
       "      <td>1067.0</td>\n",
       "      <td>1143.0</td>\n",
       "      <td>1227.0</td>\n",
       "      <td>1462.0</td>\n",
       "      <td>1542.0</td>\n",
       "      <td>1633.0</td>\n",
       "      <td>1746.0</td>\n",
       "      <td>1858.0</td>\n",
       "      <td>1582</td>\n",
       "    </tr>\n",
       "    <tr>\n",
       "      <th>24</th>\n",
       "      <td>Kochi</td>\n",
       "      <td>322.0</td>\n",
       "      <td>409.0</td>\n",
       "      <td>480.0</td>\n",
       "      <td>547.0</td>\n",
       "      <td>576.0</td>\n",
       "      <td>606.0</td>\n",
       "      <td>501.0</td>\n",
       "      <td>NaN</td>\n",
       "      <td>889.0</td>\n",
       "      <td>934.0</td>\n",
       "      <td>957</td>\n",
       "    </tr>\n",
       "    <tr>\n",
       "      <th>25</th>\n",
       "      <td>Kolkata</td>\n",
       "      <td>411.0</td>\n",
       "      <td>445.0</td>\n",
       "      <td>496.0</td>\n",
       "      <td>1278.0</td>\n",
       "      <td>1339.0</td>\n",
       "      <td>1402.0</td>\n",
       "      <td>741.0</td>\n",
       "      <td>800.0</td>\n",
       "      <td>800.0</td>\n",
       "      <td>800.0</td>\n",
       "      <td>1024</td>\n",
       "    </tr>\n",
       "    <tr>\n",
       "      <th>26</th>\n",
       "      <td>Kollam</td>\n",
       "      <td>NaN</td>\n",
       "      <td>NaN</td>\n",
       "      <td>NaN</td>\n",
       "      <td>NaN</td>\n",
       "      <td>245.0</td>\n",
       "      <td>274.0</td>\n",
       "      <td>304.0</td>\n",
       "      <td>NaN</td>\n",
       "      <td>310.0</td>\n",
       "      <td>356.0</td>\n",
       "      <td>382</td>\n",
       "    </tr>\n",
       "    <tr>\n",
       "      <th>27</th>\n",
       "      <td>Kota</td>\n",
       "      <td>440.0</td>\n",
       "      <td>473.0</td>\n",
       "      <td>953.0</td>\n",
       "      <td>554.0</td>\n",
       "      <td>597.0</td>\n",
       "      <td>654.0</td>\n",
       "      <td>711.0</td>\n",
       "      <td>764.0</td>\n",
       "      <td>812.0</td>\n",
       "      <td>177.0</td>\n",
       "      <td>899</td>\n",
       "    </tr>\n",
       "    <tr>\n",
       "      <th>28</th>\n",
       "      <td>Kozhikoda</td>\n",
       "      <td>NaN</td>\n",
       "      <td>NaN</td>\n",
       "      <td>NaN</td>\n",
       "      <td>NaN</td>\n",
       "      <td>373.0</td>\n",
       "      <td>412.0</td>\n",
       "      <td>445.0</td>\n",
       "      <td>NaN</td>\n",
       "      <td>412.0</td>\n",
       "      <td>466.0</td>\n",
       "      <td>496</td>\n",
       "    </tr>\n",
       "    <tr>\n",
       "      <th>29</th>\n",
       "      <td>Lucknow</td>\n",
       "      <td>1107.0</td>\n",
       "      <td>1211.0</td>\n",
       "      <td>1315.0</td>\n",
       "      <td>1424.0</td>\n",
       "      <td>1553.0</td>\n",
       "      <td>1710.0</td>\n",
       "      <td>1818.0</td>\n",
       "      <td>1978.0</td>\n",
       "      <td>2173.0</td>\n",
       "      <td>2341.0</td>\n",
       "      <td>2618</td>\n",
       "    </tr>\n",
       "    <tr>\n",
       "      <th>30</th>\n",
       "      <td>Madurai</td>\n",
       "      <td>530.0</td>\n",
       "      <td>603.0</td>\n",
       "      <td>680.0</td>\n",
       "      <td>768.0</td>\n",
       "      <td>833.0</td>\n",
       "      <td>955.0</td>\n",
       "      <td>957.0</td>\n",
       "      <td>1037.0</td>\n",
       "      <td>1095.0</td>\n",
       "      <td>1161.0</td>\n",
       "      <td>1220</td>\n",
       "    </tr>\n",
       "    <tr>\n",
       "      <th>31</th>\n",
       "      <td>Malappuram</td>\n",
       "      <td>NaN</td>\n",
       "      <td>NaN</td>\n",
       "      <td>NaN</td>\n",
       "      <td>NaN</td>\n",
       "      <td>257.0</td>\n",
       "      <td>277.0</td>\n",
       "      <td>304.0</td>\n",
       "      <td>324.0</td>\n",
       "      <td>374.0</td>\n",
       "      <td>445.0</td>\n",
       "      <td>477</td>\n",
       "    </tr>\n",
       "    <tr>\n",
       "      <th>32</th>\n",
       "      <td>Meerut</td>\n",
       "      <td>387.0</td>\n",
       "      <td>423.0</td>\n",
       "      <td>420.0</td>\n",
       "      <td>412.0</td>\n",
       "      <td>459.0</td>\n",
       "      <td>525.0</td>\n",
       "      <td>567.0</td>\n",
       "      <td>624.0</td>\n",
       "      <td>718.0</td>\n",
       "      <td>799.0</td>\n",
       "      <td>884</td>\n",
       "    </tr>\n",
       "    <tr>\n",
       "      <th>33</th>\n",
       "      <td>Nagpur</td>\n",
       "      <td>1079.0</td>\n",
       "      <td>1157.0</td>\n",
       "      <td>1237.0</td>\n",
       "      <td>1270.0</td>\n",
       "      <td>1274.0</td>\n",
       "      <td>1276.0</td>\n",
       "      <td>1475.0</td>\n",
       "      <td>1527.0</td>\n",
       "      <td>1619.0</td>\n",
       "      <td>1527.0</td>\n",
       "      <td>1782</td>\n",
       "    </tr>\n",
       "    <tr>\n",
       "      <th>34</th>\n",
       "      <td>Nashik</td>\n",
       "      <td>358.0</td>\n",
       "      <td>398.0</td>\n",
       "      <td>444.0</td>\n",
       "      <td>490.0</td>\n",
       "      <td>541.0</td>\n",
       "      <td>622.0</td>\n",
       "      <td>677.0</td>\n",
       "      <td>708.0</td>\n",
       "      <td>737.0</td>\n",
       "      <td>708.0</td>\n",
       "      <td>839</td>\n",
       "    </tr>\n",
       "    <tr>\n",
       "      <th>35</th>\n",
       "      <td>Patna</td>\n",
       "      <td>581.0</td>\n",
       "      <td>658.0</td>\n",
       "      <td>743.0</td>\n",
       "      <td>829.0</td>\n",
       "      <td>941.0</td>\n",
       "      <td>1019.0</td>\n",
       "      <td>1136.0</td>\n",
       "      <td>1258.0</td>\n",
       "      <td>1438.0</td>\n",
       "      <td>1578.0</td>\n",
       "      <td>1715</td>\n",
       "    </tr>\n",
       "    <tr>\n",
       "      <th>36</th>\n",
       "      <td>Pimprichichwad</td>\n",
       "      <td>NaN</td>\n",
       "      <td>NaN</td>\n",
       "      <td>NaN</td>\n",
       "      <td>NaN</td>\n",
       "      <td>NaN</td>\n",
       "      <td>NaN</td>\n",
       "      <td>NaN</td>\n",
       "      <td>NaN</td>\n",
       "      <td>NaN</td>\n",
       "      <td>NaN</td>\n",
       "      <td>2035</td>\n",
       "    </tr>\n",
       "    <tr>\n",
       "      <th>37</th>\n",
       "      <td>Prayagraj</td>\n",
       "      <td>NaN</td>\n",
       "      <td>NaN</td>\n",
       "      <td>738.0</td>\n",
       "      <td>747.0</td>\n",
       "      <td>817.0</td>\n",
       "      <td>897.0</td>\n",
       "      <td>1060.0</td>\n",
       "      <td>1023.0</td>\n",
       "      <td>1146.0</td>\n",
       "      <td>1264.0</td>\n",
       "      <td>1506</td>\n",
       "    </tr>\n",
       "    <tr>\n",
       "      <th>38</th>\n",
       "      <td>Pune</td>\n",
       "      <td>1908.0</td>\n",
       "      <td>2094.0</td>\n",
       "      <td>2267.0</td>\n",
       "      <td>2347.0</td>\n",
       "      <td>2185.0</td>\n",
       "      <td>2337.0</td>\n",
       "      <td>2519.0</td>\n",
       "      <td>2717.0</td>\n",
       "      <td>2954.0</td>\n",
       "      <td>2717.0</td>\n",
       "      <td>3199</td>\n",
       "    </tr>\n",
       "    <tr>\n",
       "      <th>39</th>\n",
       "      <td>Raipur</td>\n",
       "      <td>469.0</td>\n",
       "      <td>527.0</td>\n",
       "      <td>579.0</td>\n",
       "      <td>639.0</td>\n",
       "      <td>980.0</td>\n",
       "      <td>1112.0</td>\n",
       "      <td>1213.0</td>\n",
       "      <td>1324.0</td>\n",
       "      <td>1434.0</td>\n",
       "      <td>1532.0</td>\n",
       "      <td>1632</td>\n",
       "    </tr>\n",
       "    <tr>\n",
       "      <th>40</th>\n",
       "      <td>Rajkot</td>\n",
       "      <td>NaN</td>\n",
       "      <td>NaN</td>\n",
       "      <td>760.0</td>\n",
       "      <td>827.0</td>\n",
       "      <td>888.0</td>\n",
       "      <td>979.0</td>\n",
       "      <td>1804.0</td>\n",
       "      <td>1926.0</td>\n",
       "      <td>2067.0</td>\n",
       "      <td>2164.0</td>\n",
       "      <td>2259</td>\n",
       "    </tr>\n",
       "    <tr>\n",
       "      <th>41</th>\n",
       "      <td>Ranchi</td>\n",
       "      <td>NaN</td>\n",
       "      <td>NaN</td>\n",
       "      <td>729.0</td>\n",
       "      <td>684.0</td>\n",
       "      <td>74.0</td>\n",
       "      <td>547.0</td>\n",
       "      <td>613.0</td>\n",
       "      <td>765.0</td>\n",
       "      <td>765.0</td>\n",
       "      <td>765.0</td>\n",
       "      <td>2061</td>\n",
       "    </tr>\n",
       "    <tr>\n",
       "      <th>42</th>\n",
       "      <td>Salem</td>\n",
       "      <td>NaN</td>\n",
       "      <td>NaN</td>\n",
       "      <td>NaN</td>\n",
       "      <td>NaN</td>\n",
       "      <td>NaN</td>\n",
       "      <td>NaN</td>\n",
       "      <td>NaN</td>\n",
       "      <td>NaN</td>\n",
       "      <td>NaN</td>\n",
       "      <td>NaN</td>\n",
       "      <td>1637</td>\n",
       "    </tr>\n",
       "    <tr>\n",
       "      <th>43</th>\n",
       "      <td>Srinagar</td>\n",
       "      <td>172.0</td>\n",
       "      <td>184.0</td>\n",
       "      <td>201.0</td>\n",
       "      <td>218.0</td>\n",
       "      <td>218.0</td>\n",
       "      <td>236.0</td>\n",
       "      <td>272.0</td>\n",
       "      <td>291.0</td>\n",
       "      <td>316.0</td>\n",
       "      <td>337.0</td>\n",
       "      <td>337</td>\n",
       "    </tr>\n",
       "    <tr>\n",
       "      <th>44</th>\n",
       "      <td>Surat</td>\n",
       "      <td>NaN</td>\n",
       "      <td>NaN</td>\n",
       "      <td>1145.0</td>\n",
       "      <td>1241.0</td>\n",
       "      <td>2244.0</td>\n",
       "      <td>2459.0</td>\n",
       "      <td>2666.0</td>\n",
       "      <td>2887.0</td>\n",
       "      <td>3169.0</td>\n",
       "      <td>3378.0</td>\n",
       "      <td>3562</td>\n",
       "    </tr>\n",
       "    <tr>\n",
       "      <th>45</th>\n",
       "      <td>Trichy</td>\n",
       "      <td>400.0</td>\n",
       "      <td>457.0</td>\n",
       "      <td>521.0</td>\n",
       "      <td>593.0</td>\n",
       "      <td>649.0</td>\n",
       "      <td>763.0</td>\n",
       "      <td>764.0</td>\n",
       "      <td>831.0</td>\n",
       "      <td>856.0</td>\n",
       "      <td>879.0</td>\n",
       "      <td>899</td>\n",
       "    </tr>\n",
       "    <tr>\n",
       "      <th>46</th>\n",
       "      <td>Thane</td>\n",
       "      <td>NaN</td>\n",
       "      <td>NaN</td>\n",
       "      <td>NaN</td>\n",
       "      <td>NaN</td>\n",
       "      <td>NaN</td>\n",
       "      <td>NaN</td>\n",
       "      <td>NaN</td>\n",
       "      <td>NaN</td>\n",
       "      <td>NaN</td>\n",
       "      <td>NaN</td>\n",
       "      <td>2243</td>\n",
       "    </tr>\n",
       "    <tr>\n",
       "      <th>47</th>\n",
       "      <td>Thiruvananthapuram</td>\n",
       "      <td>NaN</td>\n",
       "      <td>NaN</td>\n",
       "      <td>NaN</td>\n",
       "      <td>NaN</td>\n",
       "      <td>535.0</td>\n",
       "      <td>572.0</td>\n",
       "      <td>616.0</td>\n",
       "      <td>813.0</td>\n",
       "      <td>813.0</td>\n",
       "      <td>813.0</td>\n",
       "      <td>973</td>\n",
       "    </tr>\n",
       "    <tr>\n",
       "      <th>48</th>\n",
       "      <td>Thrissur</td>\n",
       "      <td>NaN</td>\n",
       "      <td>NaN</td>\n",
       "      <td>NaN</td>\n",
       "      <td>NaN</td>\n",
       "      <td>329.0</td>\n",
       "      <td>355.0</td>\n",
       "      <td>390.0</td>\n",
       "      <td>NaN</td>\n",
       "      <td>NaN</td>\n",
       "      <td>NaN</td>\n",
       "      <td>427</td>\n",
       "    </tr>\n",
       "    <tr>\n",
       "      <th>49</th>\n",
       "      <td>Varanasi</td>\n",
       "      <td>497.0</td>\n",
       "      <td>538.0</td>\n",
       "      <td>588.0</td>\n",
       "      <td>633.0</td>\n",
       "      <td>695.0</td>\n",
       "      <td>769.0</td>\n",
       "      <td>777.0</td>\n",
       "      <td>907.0</td>\n",
       "      <td>985.0</td>\n",
       "      <td>1058.0</td>\n",
       "      <td>1166</td>\n",
       "    </tr>\n",
       "    <tr>\n",
       "      <th>50</th>\n",
       "      <td>Vasai</td>\n",
       "      <td>NaN</td>\n",
       "      <td>NaN</td>\n",
       "      <td>NaN</td>\n",
       "      <td>NaN</td>\n",
       "      <td>NaN</td>\n",
       "      <td>NaN</td>\n",
       "      <td>NaN</td>\n",
       "      <td>NaN</td>\n",
       "      <td>NaN</td>\n",
       "      <td>NaN</td>\n",
       "      <td>237</td>\n",
       "    </tr>\n",
       "    <tr>\n",
       "      <th>51</th>\n",
       "      <td>Vashi N.Mumbai</td>\n",
       "      <td>NaN</td>\n",
       "      <td>NaN</td>\n",
       "      <td>NaN</td>\n",
       "      <td>NaN</td>\n",
       "      <td>NaN</td>\n",
       "      <td>NaN</td>\n",
       "      <td>NaN</td>\n",
       "      <td>NaN</td>\n",
       "      <td>NaN</td>\n",
       "      <td>NaN</td>\n",
       "      <td>484</td>\n",
       "    </tr>\n",
       "    <tr>\n",
       "      <th>52</th>\n",
       "      <td>Vijayawada</td>\n",
       "      <td>523.0</td>\n",
       "      <td>466.0</td>\n",
       "      <td>553.0</td>\n",
       "      <td>517.0</td>\n",
       "      <td>568.0</td>\n",
       "      <td>610.0</td>\n",
       "      <td>663.0</td>\n",
       "      <td>NaN</td>\n",
       "      <td>781.0</td>\n",
       "      <td>851.0</td>\n",
       "      <td>909</td>\n",
       "    </tr>\n",
       "    <tr>\n",
       "      <th>53</th>\n",
       "      <td>Vadodara</td>\n",
       "      <td>NaN</td>\n",
       "      <td>NaN</td>\n",
       "      <td>839.0</td>\n",
       "      <td>914.0</td>\n",
       "      <td>980.0</td>\n",
       "      <td>1042.0</td>\n",
       "      <td>1895.0</td>\n",
       "      <td>2022.0</td>\n",
       "      <td>2179.0</td>\n",
       "      <td>2315.0</td>\n",
       "      <td>2440</td>\n",
       "    </tr>\n",
       "    <tr>\n",
       "      <th>54</th>\n",
       "      <td>Visakhapatnam</td>\n",
       "      <td>586.0</td>\n",
       "      <td>617.0</td>\n",
       "      <td>683.0</td>\n",
       "      <td>643.0</td>\n",
       "      <td>690.0</td>\n",
       "      <td>731.0</td>\n",
       "      <td>783.0</td>\n",
       "      <td>NaN</td>\n",
       "      <td>64.0</td>\n",
       "      <td>965.0</td>\n",
       "      <td>1022</td>\n",
       "    </tr>\n",
       "    <tr>\n",
       "      <th>55</th>\n",
       "      <td>Total</td>\n",
       "      <td>35605.0</td>\n",
       "      <td>39058.0</td>\n",
       "      <td>51353.0</td>\n",
       "      <td>53473.0</td>\n",
       "      <td>60112.0</td>\n",
       "      <td>66244.0</td>\n",
       "      <td>70478.0</td>\n",
       "      <td>72350.0</td>\n",
       "      <td>87164.0</td>\n",
       "      <td>91840.0</td>\n",
       "      <td>113255</td>\n",
       "    </tr>\n",
       "  </tbody>\n",
       "</table>\n",
       "</div>"
      ],
      "text/plain": [
       "   Million Plus Cities  2010 (in Thousand)  2011 (in Thousand)  \\\n",
       "0                 Agra               580.0               640.0   \n",
       "1            Ahmedabad                 NaN                 NaN   \n",
       "2          Aurangabad                  NaN               253.0   \n",
       "3            Bengaluru              3491.0              3791.0   \n",
       "4               Bhopal               674.0               755.0   \n",
       "5          Chandigarh                  NaN                 NaN   \n",
       "6              Chennai              3149.0              3456.0   \n",
       "7           Coimbatore              1110.0              1241.0   \n",
       "8                Delhi              6747.0              7228.0   \n",
       "9              Dhanbad                31.0                41.0   \n",
       "10         Durg Bhilai                 NaN                 NaN   \n",
       "11           Faridabad                 NaN                 NaN   \n",
       "12          Ghaziabad                409.0               470.0   \n",
       "13      Greater Mumbai              1768.0              1870.0   \n",
       "14           Gwalior                 412.0               449.0   \n",
       "15           Hyderabad              2728.0              3033.0   \n",
       "16              Indore              1098.0              1213.0   \n",
       "17           Jabalpur                516.0               559.0   \n",
       "18              Jaipur              1549.0              1694.0   \n",
       "19          Jamshedpur                56.0                67.0   \n",
       "20             Jodhpur               577.0               636.0   \n",
       "21    Kalyan Dombivali                 NaN                 NaN   \n",
       "22              Kannur                 NaN                 NaN   \n",
       "23              Kanpur               940.0              1002.0   \n",
       "24              Kochi                322.0               409.0   \n",
       "25             Kolkata               411.0               445.0   \n",
       "26             Kollam                  NaN                 NaN   \n",
       "27                Kota               440.0               473.0   \n",
       "28          Kozhikoda                  NaN                 NaN   \n",
       "29            Lucknow               1107.0              1211.0   \n",
       "30             Madurai               530.0               603.0   \n",
       "31          Malappuram                 NaN                 NaN   \n",
       "32             Meerut                387.0               423.0   \n",
       "33              Nagpur              1079.0              1157.0   \n",
       "34              Nashik               358.0               398.0   \n",
       "35               Patna               581.0               658.0   \n",
       "36      Pimprichichwad                 NaN                 NaN   \n",
       "37           Prayagraj                 NaN                 NaN   \n",
       "38                Pune              1908.0              2094.0   \n",
       "39              Raipur               469.0               527.0   \n",
       "40              Rajkot                 NaN                 NaN   \n",
       "41              Ranchi                 NaN                 NaN   \n",
       "42               Salem                 NaN                 NaN   \n",
       "43            Srinagar               172.0               184.0   \n",
       "44               Surat                 NaN                 NaN   \n",
       "45              Trichy               400.0               457.0   \n",
       "46               Thane                 NaN                 NaN   \n",
       "47  Thiruvananthapuram                 NaN                 NaN   \n",
       "48            Thrissur                 NaN                 NaN   \n",
       "49           Varanasi                497.0               538.0   \n",
       "50               Vasai                 NaN                 NaN   \n",
       "51      Vashi N.Mumbai                 NaN                 NaN   \n",
       "52         Vijayawada                523.0               466.0   \n",
       "53            Vadodara                 NaN                 NaN   \n",
       "54      Visakhapatnam                586.0               617.0   \n",
       "55              Total              35605.0             39058.0   \n",
       "\n",
       "    2012 (in Thousand)  2013 (in Thousand)  2014 (in Thousand)  \\\n",
       "0                704.0               752.0               825.0   \n",
       "1               1682.0              1796.0              3196.0   \n",
       "2                281.0               310.0               362.0   \n",
       "3               4156.0              4591.0              5050.0   \n",
       "4                829.0               877.0               933.0   \n",
       "5               1058.0              1106.0               631.0   \n",
       "6               3767.0              4072.0              4354.0   \n",
       "7               1386.0              1528.0              1649.0   \n",
       "8               7350.0              7785.0              8293.0   \n",
       "9                462.0               490.0               521.0   \n",
       "10               445.0               490.0               721.0   \n",
       "11                 NaN                 NaN                 NaN   \n",
       "12               525.0               628.0               685.0   \n",
       "13              2029.0              2187.0              2333.0   \n",
       "14               490.0               530.0               573.0   \n",
       "15              3387.0              2040.0              2203.0   \n",
       "16              1338.0              1491.0              1568.0   \n",
       "17               605.0               646.0               585.0   \n",
       "18              1871.0              1962.0              2121.0   \n",
       "19               682.0               682.0               421.0   \n",
       "20               868.0               793.0               854.0   \n",
       "21                 NaN                 NaN                 NaN   \n",
       "22                 NaN                 NaN               167.0   \n",
       "23              1067.0              1143.0              1227.0   \n",
       "24               480.0               547.0               576.0   \n",
       "25               496.0              1278.0              1339.0   \n",
       "26                 NaN                 NaN               245.0   \n",
       "27               953.0               554.0               597.0   \n",
       "28                 NaN                 NaN               373.0   \n",
       "29              1315.0              1424.0              1553.0   \n",
       "30               680.0               768.0               833.0   \n",
       "31                 NaN                 NaN               257.0   \n",
       "32               420.0               412.0               459.0   \n",
       "33              1237.0              1270.0              1274.0   \n",
       "34               444.0               490.0               541.0   \n",
       "35               743.0               829.0               941.0   \n",
       "36                 NaN                 NaN                 NaN   \n",
       "37               738.0               747.0               817.0   \n",
       "38              2267.0              2347.0              2185.0   \n",
       "39               579.0               639.0               980.0   \n",
       "40               760.0               827.0               888.0   \n",
       "41               729.0               684.0                74.0   \n",
       "42                 NaN                 NaN                 NaN   \n",
       "43               201.0               218.0               218.0   \n",
       "44              1145.0              1241.0              2244.0   \n",
       "45               521.0               593.0               649.0   \n",
       "46                 NaN                 NaN                 NaN   \n",
       "47                 NaN                 NaN               535.0   \n",
       "48                 NaN                 NaN               329.0   \n",
       "49               588.0               633.0               695.0   \n",
       "50                 NaN                 NaN                 NaN   \n",
       "51                 NaN                 NaN                 NaN   \n",
       "52               553.0               517.0               568.0   \n",
       "53               839.0               914.0               980.0   \n",
       "54               683.0               643.0               690.0   \n",
       "55             51353.0             53473.0             60112.0   \n",
       "\n",
       "    2015 (in Thousand)  2016 (in Thousand)  2017 (in Thousand)  \\\n",
       "0                905.0               923.0               962.0   \n",
       "1               3420.0              3656.0              3905.0   \n",
       "2                426.0               755.0               515.0   \n",
       "3               5560.0              6113.0              6833.0   \n",
       "4               1080.0              1061.0              1256.0   \n",
       "5                746.0               837.0               883.0   \n",
       "6               4934.0              4938.0              5299.0   \n",
       "7               1901.0              1904.0              2059.0   \n",
       "8               8851.0              8851.0             10260.0   \n",
       "9                563.0               604.0               651.0   \n",
       "10               769.0               817.0               815.0   \n",
       "11                 NaN                 NaN                 NaN   \n",
       "12               752.0               840.0               918.0   \n",
       "13              2571.0              2820.0              3053.0   \n",
       "14               618.0               634.0                 NaN   \n",
       "15              2369.0              2369.0              2715.0   \n",
       "16              1713.0              1811.0              1935.0   \n",
       "17               638.0               663.0                 NaN   \n",
       "18              2249.0              2424.0              2583.0   \n",
       "19               472.0                59.0               266.0   \n",
       "20               916.0               977.0              1052.0   \n",
       "21                 NaN                 NaN                 NaN   \n",
       "22               188.0               213.0               232.0   \n",
       "23              1462.0              1542.0              1633.0   \n",
       "24               606.0               501.0                 NaN   \n",
       "25              1402.0               741.0               800.0   \n",
       "26               274.0               304.0                 NaN   \n",
       "27               654.0               711.0               764.0   \n",
       "28               412.0               445.0                 NaN   \n",
       "29              1710.0              1818.0              1978.0   \n",
       "30               955.0               957.0              1037.0   \n",
       "31               277.0               304.0               324.0   \n",
       "32               525.0               567.0               624.0   \n",
       "33              1276.0              1475.0              1527.0   \n",
       "34               622.0               677.0               708.0   \n",
       "35              1019.0              1136.0              1258.0   \n",
       "36                 NaN                 NaN                 NaN   \n",
       "37               897.0              1060.0              1023.0   \n",
       "38              2337.0              2519.0              2717.0   \n",
       "39              1112.0              1213.0              1324.0   \n",
       "40               979.0              1804.0              1926.0   \n",
       "41               547.0               613.0               765.0   \n",
       "42                 NaN                 NaN                 NaN   \n",
       "43               236.0               272.0               291.0   \n",
       "44              2459.0              2666.0              2887.0   \n",
       "45               763.0               764.0               831.0   \n",
       "46                 NaN                 NaN                 NaN   \n",
       "47               572.0               616.0               813.0   \n",
       "48               355.0               390.0                 NaN   \n",
       "49               769.0               777.0               907.0   \n",
       "50                 NaN                 NaN                 NaN   \n",
       "51                 NaN                 NaN                 NaN   \n",
       "52               610.0               663.0                 NaN   \n",
       "53              1042.0              1895.0              2022.0   \n",
       "54               731.0               783.0                 NaN   \n",
       "55             66244.0             70478.0             72350.0   \n",
       "\n",
       "    2018 (in Thousand)  2019 (in Thousand)  2020 (in Thousand)  \n",
       "0               1012.0              1118.0                1226  \n",
       "1               4132.0              4265.0                4571  \n",
       "2                560.0               515.0                1441  \n",
       "3               7406.0              8054.0                9638  \n",
       "4               1256.0              1256.0                1574  \n",
       "5                951.0              1013.0                1059  \n",
       "6               5642.0              5997.0                6352  \n",
       "7               2164.0              2278.0                2378  \n",
       "8              10686.0             11392.0               11893  \n",
       "9                651.0               651.0                 657  \n",
       "10               910.0               958.0                1003  \n",
       "11              7733.0              8600.0                8600  \n",
       "12              1007.0              1108.0                1210  \n",
       "13              3318.0              3053.0                3876  \n",
       "14                 0.0                 0.0                 884  \n",
       "15              2715.0              2715.0                3243  \n",
       "16              1935.0              1935.0                2432  \n",
       "17                 0.0                 0.0                1088  \n",
       "18              2773.0              2975.0                3168  \n",
       "19               266.0               266.0                 793  \n",
       "20              1115.0              1191.0                1268  \n",
       "21                 NaN                 NaN                 669  \n",
       "22               283.0               314.0                 332  \n",
       "23              1746.0              1858.0                1582  \n",
       "24               889.0               934.0                 957  \n",
       "25               800.0               800.0                1024  \n",
       "26               310.0               356.0                 382  \n",
       "27               812.0               177.0                 899  \n",
       "28               412.0               466.0                 496  \n",
       "29              2173.0              2341.0                2618  \n",
       "30              1095.0              1161.0                1220  \n",
       "31               374.0               445.0                 477  \n",
       "32               718.0               799.0                 884  \n",
       "33              1619.0              1527.0                1782  \n",
       "34               737.0               708.0                 839  \n",
       "35              1438.0              1578.0                1715  \n",
       "36                 NaN                 NaN                2035  \n",
       "37              1146.0              1264.0                1506  \n",
       "38              2954.0              2717.0                3199  \n",
       "39              1434.0              1532.0                1632  \n",
       "40              2067.0              2164.0                2259  \n",
       "41               765.0               765.0                2061  \n",
       "42                 NaN                 NaN                1637  \n",
       "43               316.0               337.0                 337  \n",
       "44              3169.0              3378.0                3562  \n",
       "45               856.0               879.0                 899  \n",
       "46                 NaN                 NaN                2243  \n",
       "47               813.0               813.0                 973  \n",
       "48                 NaN                 NaN                 427  \n",
       "49               985.0              1058.0                1166  \n",
       "50                 NaN                 NaN                 237  \n",
       "51                 NaN                 NaN                 484  \n",
       "52               781.0               851.0                 909  \n",
       "53              2179.0              2315.0                2440  \n",
       "54                64.0               965.0                1022  \n",
       "55             87164.0             91840.0              113255  "
      ]
     },
     "execution_count": 19,
     "metadata": {},
     "output_type": "execute_result"
    }
   ],
   "source": [
    "df_reg_veh"
   ]
  },
  {
   "cell_type": "code",
   "execution_count": 30,
   "id": "44b58e54-9f16-4a0e-b3b8-32409edb1eca",
   "metadata": {},
   "outputs": [],
   "source": [
    "df_com_veh_inuse=pd.read_csv(f'datasets/transport/StatesUTs-wise and category-wise number of Commercial Vehicles in Use as per Primary Permit Valid as on 31.3.2020.csv')\n",
    "\n",
    "\n",
    "\n",
    "\n",
    "\n",
    "df_com_veh_inusesel=df_com_veh_inuse[df_com_veh_inuse['States/Union Territories']==\"Total\"]"
   ]
  },
  {
   "cell_type": "code",
   "execution_count": 40,
   "id": "30b35582-5ed1-4bac-8710-e27b3aca76ef",
   "metadata": {},
   "outputs": [],
   "source": [
    "df_com_veh_inusesel=df_com_veh_inusesel.T.rename_axis('Category').reset_index().iloc[1:].rename({36: 'No'}, axis=1)"
   ]
  },
  {
   "cell_type": "code",
   "execution_count": 41,
   "id": "98008647-c3f7-4763-a4ff-1ab020c7baf3",
   "metadata": {},
   "outputs": [
    {
     "data": {
      "application/vnd.plotly.v1+json": {
       "config": {
        "plotlyServerURL": "https://plot.ly"
       },
       "data": [
        {
         "alignmentgroup": "True",
         "hovertemplate": "Category=%{x}<br>No=%{y}<extra></extra>",
         "legendgroup": "",
         "marker": {
          "color": "#636efa",
          "pattern": {
           "shape": ""
          }
         },
         "name": "",
         "offsetgroup": "",
         "orientation": "v",
         "showlegend": false,
         "textposition": "auto",
         "texttemplate": "%{y:.2s}",
         "type": "bar",
         "x": [
          "Stage Carriage - Public (STU)",
          "Stage Carriage - Private",
          "Contract Carriages - Auto Rickshaw",
          "Contract Carriages - E-Rickshaw",
          "Contract Carriages - Ordinary Taxi",
          "Contract Carriages - Motor Cab (SP)",
          "Contract Carriages - Motor Cab (AIP)",
          "Contract Carriages - Maxi Cab (SP)",
          "Contract Carriages - Maxi Cab (AIP)",
          "Contract Carriages - Omni Bus (SP)",
          "Contract Carriages - Omni Bus (AIP)",
          "Contract Carriages - Any Other",
          "Private Service Vehicle - Edu Inst. Buses",
          "Private Service Vehicle - Ambulance",
          "Private Service Vehicle - Fire Fighter",
          "Private Service Vehicle - Any Other",
          "Goods Carriages - Lorry (SP)",
          "Goods Carriages - Lorry (NP)",
          "Goods Carriages - Tankers (SP)",
          "Goods Carriages - Tankers (NP)",
          "Goods Carriages - Tractors and Trailor",
          "Goods Carriages - LMV",
          "Goods Carriages - Multiaxled / Articulated Vehicles (SP)",
          "Goods Carriages - Multiaxled / Articulated Vehicles (NP)",
          "Goods Carriages - Any Other",
          "Total Commercial Vehicles in Use"
         ],
         "xaxis": "x",
         "y": [
          192933,
          175068,
          3908997,
          24105,
          260424,
          695394,
          548276,
          343603,
          115581,
          40031,
          7569,
          154330,
          253536,
          45498,
          2937,
          63986,
          1639291,
          697608,
          134159,
          173369,
          1695388,
          1937728,
          347149,
          235074,
          585015,
          14277049
         ],
         "yaxis": "y"
        }
       ],
       "layout": {
        "barmode": "relative",
        "height": 800,
        "legend": {
         "tracegroupgap": 0
        },
        "margin": {
         "t": 60
        },
        "template": {
         "data": {
          "bar": [
           {
            "error_x": {
             "color": "#2a3f5f"
            },
            "error_y": {
             "color": "#2a3f5f"
            },
            "marker": {
             "line": {
              "color": "#E5ECF6",
              "width": 0.5
             },
             "pattern": {
              "fillmode": "overlay",
              "size": 10,
              "solidity": 0.2
             }
            },
            "type": "bar"
           }
          ],
          "barpolar": [
           {
            "marker": {
             "line": {
              "color": "#E5ECF6",
              "width": 0.5
             },
             "pattern": {
              "fillmode": "overlay",
              "size": 10,
              "solidity": 0.2
             }
            },
            "type": "barpolar"
           }
          ],
          "carpet": [
           {
            "aaxis": {
             "endlinecolor": "#2a3f5f",
             "gridcolor": "white",
             "linecolor": "white",
             "minorgridcolor": "white",
             "startlinecolor": "#2a3f5f"
            },
            "baxis": {
             "endlinecolor": "#2a3f5f",
             "gridcolor": "white",
             "linecolor": "white",
             "minorgridcolor": "white",
             "startlinecolor": "#2a3f5f"
            },
            "type": "carpet"
           }
          ],
          "choropleth": [
           {
            "colorbar": {
             "outlinewidth": 0,
             "ticks": ""
            },
            "type": "choropleth"
           }
          ],
          "contour": [
           {
            "colorbar": {
             "outlinewidth": 0,
             "ticks": ""
            },
            "colorscale": [
             [
              0,
              "#0d0887"
             ],
             [
              0.1111111111111111,
              "#46039f"
             ],
             [
              0.2222222222222222,
              "#7201a8"
             ],
             [
              0.3333333333333333,
              "#9c179e"
             ],
             [
              0.4444444444444444,
              "#bd3786"
             ],
             [
              0.5555555555555556,
              "#d8576b"
             ],
             [
              0.6666666666666666,
              "#ed7953"
             ],
             [
              0.7777777777777778,
              "#fb9f3a"
             ],
             [
              0.8888888888888888,
              "#fdca26"
             ],
             [
              1,
              "#f0f921"
             ]
            ],
            "type": "contour"
           }
          ],
          "contourcarpet": [
           {
            "colorbar": {
             "outlinewidth": 0,
             "ticks": ""
            },
            "type": "contourcarpet"
           }
          ],
          "heatmap": [
           {
            "colorbar": {
             "outlinewidth": 0,
             "ticks": ""
            },
            "colorscale": [
             [
              0,
              "#0d0887"
             ],
             [
              0.1111111111111111,
              "#46039f"
             ],
             [
              0.2222222222222222,
              "#7201a8"
             ],
             [
              0.3333333333333333,
              "#9c179e"
             ],
             [
              0.4444444444444444,
              "#bd3786"
             ],
             [
              0.5555555555555556,
              "#d8576b"
             ],
             [
              0.6666666666666666,
              "#ed7953"
             ],
             [
              0.7777777777777778,
              "#fb9f3a"
             ],
             [
              0.8888888888888888,
              "#fdca26"
             ],
             [
              1,
              "#f0f921"
             ]
            ],
            "type": "heatmap"
           }
          ],
          "heatmapgl": [
           {
            "colorbar": {
             "outlinewidth": 0,
             "ticks": ""
            },
            "colorscale": [
             [
              0,
              "#0d0887"
             ],
             [
              0.1111111111111111,
              "#46039f"
             ],
             [
              0.2222222222222222,
              "#7201a8"
             ],
             [
              0.3333333333333333,
              "#9c179e"
             ],
             [
              0.4444444444444444,
              "#bd3786"
             ],
             [
              0.5555555555555556,
              "#d8576b"
             ],
             [
              0.6666666666666666,
              "#ed7953"
             ],
             [
              0.7777777777777778,
              "#fb9f3a"
             ],
             [
              0.8888888888888888,
              "#fdca26"
             ],
             [
              1,
              "#f0f921"
             ]
            ],
            "type": "heatmapgl"
           }
          ],
          "histogram": [
           {
            "marker": {
             "pattern": {
              "fillmode": "overlay",
              "size": 10,
              "solidity": 0.2
             }
            },
            "type": "histogram"
           }
          ],
          "histogram2d": [
           {
            "colorbar": {
             "outlinewidth": 0,
             "ticks": ""
            },
            "colorscale": [
             [
              0,
              "#0d0887"
             ],
             [
              0.1111111111111111,
              "#46039f"
             ],
             [
              0.2222222222222222,
              "#7201a8"
             ],
             [
              0.3333333333333333,
              "#9c179e"
             ],
             [
              0.4444444444444444,
              "#bd3786"
             ],
             [
              0.5555555555555556,
              "#d8576b"
             ],
             [
              0.6666666666666666,
              "#ed7953"
             ],
             [
              0.7777777777777778,
              "#fb9f3a"
             ],
             [
              0.8888888888888888,
              "#fdca26"
             ],
             [
              1,
              "#f0f921"
             ]
            ],
            "type": "histogram2d"
           }
          ],
          "histogram2dcontour": [
           {
            "colorbar": {
             "outlinewidth": 0,
             "ticks": ""
            },
            "colorscale": [
             [
              0,
              "#0d0887"
             ],
             [
              0.1111111111111111,
              "#46039f"
             ],
             [
              0.2222222222222222,
              "#7201a8"
             ],
             [
              0.3333333333333333,
              "#9c179e"
             ],
             [
              0.4444444444444444,
              "#bd3786"
             ],
             [
              0.5555555555555556,
              "#d8576b"
             ],
             [
              0.6666666666666666,
              "#ed7953"
             ],
             [
              0.7777777777777778,
              "#fb9f3a"
             ],
             [
              0.8888888888888888,
              "#fdca26"
             ],
             [
              1,
              "#f0f921"
             ]
            ],
            "type": "histogram2dcontour"
           }
          ],
          "mesh3d": [
           {
            "colorbar": {
             "outlinewidth": 0,
             "ticks": ""
            },
            "type": "mesh3d"
           }
          ],
          "parcoords": [
           {
            "line": {
             "colorbar": {
              "outlinewidth": 0,
              "ticks": ""
             }
            },
            "type": "parcoords"
           }
          ],
          "pie": [
           {
            "automargin": true,
            "type": "pie"
           }
          ],
          "scatter": [
           {
            "fillpattern": {
             "fillmode": "overlay",
             "size": 10,
             "solidity": 0.2
            },
            "type": "scatter"
           }
          ],
          "scatter3d": [
           {
            "line": {
             "colorbar": {
              "outlinewidth": 0,
              "ticks": ""
             }
            },
            "marker": {
             "colorbar": {
              "outlinewidth": 0,
              "ticks": ""
             }
            },
            "type": "scatter3d"
           }
          ],
          "scattercarpet": [
           {
            "marker": {
             "colorbar": {
              "outlinewidth": 0,
              "ticks": ""
             }
            },
            "type": "scattercarpet"
           }
          ],
          "scattergeo": [
           {
            "marker": {
             "colorbar": {
              "outlinewidth": 0,
              "ticks": ""
             }
            },
            "type": "scattergeo"
           }
          ],
          "scattergl": [
           {
            "marker": {
             "colorbar": {
              "outlinewidth": 0,
              "ticks": ""
             }
            },
            "type": "scattergl"
           }
          ],
          "scattermapbox": [
           {
            "marker": {
             "colorbar": {
              "outlinewidth": 0,
              "ticks": ""
             }
            },
            "type": "scattermapbox"
           }
          ],
          "scatterpolar": [
           {
            "marker": {
             "colorbar": {
              "outlinewidth": 0,
              "ticks": ""
             }
            },
            "type": "scatterpolar"
           }
          ],
          "scatterpolargl": [
           {
            "marker": {
             "colorbar": {
              "outlinewidth": 0,
              "ticks": ""
             }
            },
            "type": "scatterpolargl"
           }
          ],
          "scatterternary": [
           {
            "marker": {
             "colorbar": {
              "outlinewidth": 0,
              "ticks": ""
             }
            },
            "type": "scatterternary"
           }
          ],
          "surface": [
           {
            "colorbar": {
             "outlinewidth": 0,
             "ticks": ""
            },
            "colorscale": [
             [
              0,
              "#0d0887"
             ],
             [
              0.1111111111111111,
              "#46039f"
             ],
             [
              0.2222222222222222,
              "#7201a8"
             ],
             [
              0.3333333333333333,
              "#9c179e"
             ],
             [
              0.4444444444444444,
              "#bd3786"
             ],
             [
              0.5555555555555556,
              "#d8576b"
             ],
             [
              0.6666666666666666,
              "#ed7953"
             ],
             [
              0.7777777777777778,
              "#fb9f3a"
             ],
             [
              0.8888888888888888,
              "#fdca26"
             ],
             [
              1,
              "#f0f921"
             ]
            ],
            "type": "surface"
           }
          ],
          "table": [
           {
            "cells": {
             "fill": {
              "color": "#EBF0F8"
             },
             "line": {
              "color": "white"
             }
            },
            "header": {
             "fill": {
              "color": "#C8D4E3"
             },
             "line": {
              "color": "white"
             }
            },
            "type": "table"
           }
          ]
         },
         "layout": {
          "annotationdefaults": {
           "arrowcolor": "#2a3f5f",
           "arrowhead": 0,
           "arrowwidth": 1
          },
          "autotypenumbers": "strict",
          "coloraxis": {
           "colorbar": {
            "outlinewidth": 0,
            "ticks": ""
           }
          },
          "colorscale": {
           "diverging": [
            [
             0,
             "#8e0152"
            ],
            [
             0.1,
             "#c51b7d"
            ],
            [
             0.2,
             "#de77ae"
            ],
            [
             0.3,
             "#f1b6da"
            ],
            [
             0.4,
             "#fde0ef"
            ],
            [
             0.5,
             "#f7f7f7"
            ],
            [
             0.6,
             "#e6f5d0"
            ],
            [
             0.7,
             "#b8e186"
            ],
            [
             0.8,
             "#7fbc41"
            ],
            [
             0.9,
             "#4d9221"
            ],
            [
             1,
             "#276419"
            ]
           ],
           "sequential": [
            [
             0,
             "#0d0887"
            ],
            [
             0.1111111111111111,
             "#46039f"
            ],
            [
             0.2222222222222222,
             "#7201a8"
            ],
            [
             0.3333333333333333,
             "#9c179e"
            ],
            [
             0.4444444444444444,
             "#bd3786"
            ],
            [
             0.5555555555555556,
             "#d8576b"
            ],
            [
             0.6666666666666666,
             "#ed7953"
            ],
            [
             0.7777777777777778,
             "#fb9f3a"
            ],
            [
             0.8888888888888888,
             "#fdca26"
            ],
            [
             1,
             "#f0f921"
            ]
           ],
           "sequentialminus": [
            [
             0,
             "#0d0887"
            ],
            [
             0.1111111111111111,
             "#46039f"
            ],
            [
             0.2222222222222222,
             "#7201a8"
            ],
            [
             0.3333333333333333,
             "#9c179e"
            ],
            [
             0.4444444444444444,
             "#bd3786"
            ],
            [
             0.5555555555555556,
             "#d8576b"
            ],
            [
             0.6666666666666666,
             "#ed7953"
            ],
            [
             0.7777777777777778,
             "#fb9f3a"
            ],
            [
             0.8888888888888888,
             "#fdca26"
            ],
            [
             1,
             "#f0f921"
            ]
           ]
          },
          "colorway": [
           "#636efa",
           "#EF553B",
           "#00cc96",
           "#ab63fa",
           "#FFA15A",
           "#19d3f3",
           "#FF6692",
           "#B6E880",
           "#FF97FF",
           "#FECB52"
          ],
          "font": {
           "color": "#2a3f5f"
          },
          "geo": {
           "bgcolor": "white",
           "lakecolor": "white",
           "landcolor": "#E5ECF6",
           "showlakes": true,
           "showland": true,
           "subunitcolor": "white"
          },
          "hoverlabel": {
           "align": "left"
          },
          "hovermode": "closest",
          "mapbox": {
           "style": "light"
          },
          "paper_bgcolor": "white",
          "plot_bgcolor": "#E5ECF6",
          "polar": {
           "angularaxis": {
            "gridcolor": "white",
            "linecolor": "white",
            "ticks": ""
           },
           "bgcolor": "#E5ECF6",
           "radialaxis": {
            "gridcolor": "white",
            "linecolor": "white",
            "ticks": ""
           }
          },
          "scene": {
           "xaxis": {
            "backgroundcolor": "#E5ECF6",
            "gridcolor": "white",
            "gridwidth": 2,
            "linecolor": "white",
            "showbackground": true,
            "ticks": "",
            "zerolinecolor": "white"
           },
           "yaxis": {
            "backgroundcolor": "#E5ECF6",
            "gridcolor": "white",
            "gridwidth": 2,
            "linecolor": "white",
            "showbackground": true,
            "ticks": "",
            "zerolinecolor": "white"
           },
           "zaxis": {
            "backgroundcolor": "#E5ECF6",
            "gridcolor": "white",
            "gridwidth": 2,
            "linecolor": "white",
            "showbackground": true,
            "ticks": "",
            "zerolinecolor": "white"
           }
          },
          "shapedefaults": {
           "line": {
            "color": "#2a3f5f"
           }
          },
          "ternary": {
           "aaxis": {
            "gridcolor": "white",
            "linecolor": "white",
            "ticks": ""
           },
           "baxis": {
            "gridcolor": "white",
            "linecolor": "white",
            "ticks": ""
           },
           "bgcolor": "#E5ECF6",
           "caxis": {
            "gridcolor": "white",
            "linecolor": "white",
            "ticks": ""
           }
          },
          "title": {
           "x": 0.05
          },
          "xaxis": {
           "automargin": true,
           "gridcolor": "white",
           "linecolor": "white",
           "ticks": "",
           "title": {
            "standoff": 15
           },
           "zerolinecolor": "white",
           "zerolinewidth": 2
          },
          "yaxis": {
           "automargin": true,
           "gridcolor": "white",
           "linecolor": "white",
           "ticks": "",
           "title": {
            "standoff": 15
           },
           "zerolinecolor": "white",
           "zerolinewidth": 2
          }
         }
        },
        "width": 1000,
        "xaxis": {
         "anchor": "y",
         "autorange": true,
         "domain": [
          0,
          1
         ],
         "range": [
          -0.5,
          25.5
         ],
         "title": {
          "text": "Category"
         },
         "type": "category"
        },
        "yaxis": {
         "anchor": "x",
         "autorange": true,
         "domain": [
          0,
          1
         ],
         "range": [
          0,
          15028472.631578948
         ],
         "title": {
          "text": "No"
         },
         "type": "linear"
        }
       }
      },
      "image/png": "[encoded data removed]",
      "text/html": [
       "<div>                            <div id=\"8ebe9e1c-6cee-4b18-a268-6670e978a5f2\" class=\"plotly-graph-div\" style=\"height:800px; width:1000px;\"></div>            <script type=\"text/javascript\">                require([\"plotly\"], function(Plotly) {                    window.PLOTLYENV=window.PLOTLYENV || {};                                    if (document.getElementById(\"8ebe9e1c-6cee-4b18-a268-6670e978a5f2\")) {                    Plotly.newPlot(                        \"8ebe9e1c-6cee-4b18-a268-6670e978a5f2\",                        [{\"alignmentgroup\":\"True\",\"hovertemplate\":\"Category=%{x}\\u003cbr\\u003eNo=%{y}\\u003cextra\\u003e\\u003c\\u002fextra\\u003e\",\"legendgroup\":\"\",\"marker\":{\"color\":\"#636efa\",\"pattern\":{\"shape\":\"\"}},\"name\":\"\",\"offsetgroup\":\"\",\"orientation\":\"v\",\"showlegend\":false,\"textposition\":\"auto\",\"texttemplate\":\"%{y:.2s}\",\"x\":[\"Stage Carriage - Public (STU)\",\"Stage Carriage - Private\",\"Contract Carriages - Auto Rickshaw\",\"Contract Carriages - E-Rickshaw\",\"Contract Carriages - Ordinary Taxi\",\"Contract Carriages - Motor Cab (SP)\",\"Contract Carriages - Motor Cab (AIP)\",\"Contract Carriages - Maxi Cab (SP)\",\"Contract Carriages - Maxi Cab (AIP)\",\"Contract Carriages - Omni Bus (SP)\",\"Contract Carriages - Omni Bus (AIP)\",\"Contract Carriages - Any Other\",\"Private Service Vehicle - Edu Inst. Buses\",\"Private Service Vehicle - Ambulance\",\"Private Service Vehicle - Fire Fighter\",\"Private Service Vehicle - Any Other\",\"Goods Carriages - Lorry (SP)\",\"Goods Carriages - Lorry (NP)\",\"Goods Carriages - Tankers (SP)\",\"Goods Carriages - Tankers (NP)\",\"Goods Carriages - Tractors and Trailor\",\"Goods Carriages - LMV\",\"Goods Carriages - Multiaxled \\u002f Articulated Vehicles (SP)\",\"Goods Carriages - Multiaxled \\u002f Articulated Vehicles (NP)\",\"Goods Carriages - Any Other\",\"Total Commercial Vehicles in Use\"],\"xaxis\":\"x\",\"y\":[192933.0,175068.0,3908997.0,24105.0,260424.0,695394.0,548276.0,343603.0,115581.0,40031.0,7569.0,154330.0,253536.0,45498.0,2937.0,63986.0,1639291.0,697608.0,134159.0,173369.0,1695388.0,1937728.0,347149.0,235074.0,585015.0,14277049],\"yaxis\":\"y\",\"type\":\"bar\"}],                        {\"template\":{\"data\":{\"histogram2dcontour\":[{\"type\":\"histogram2dcontour\",\"colorbar\":{\"outlinewidth\":0,\"ticks\":\"\"},\"colorscale\":[[0.0,\"#0d0887\"],[0.1111111111111111,\"#46039f\"],[0.2222222222222222,\"#7201a8\"],[0.3333333333333333,\"#9c179e\"],[0.4444444444444444,\"#bd3786\"],[0.5555555555555556,\"#d8576b\"],[0.6666666666666666,\"#ed7953\"],[0.7777777777777778,\"#fb9f3a\"],[0.8888888888888888,\"#fdca26\"],[1.0,\"#f0f921\"]]}],\"choropleth\":[{\"type\":\"choropleth\",\"colorbar\":{\"outlinewidth\":0,\"ticks\":\"\"}}],\"histogram2d\":[{\"type\":\"histogram2d\",\"colorbar\":{\"outlinewidth\":0,\"ticks\":\"\"},\"colorscale\":[[0.0,\"#0d0887\"],[0.1111111111111111,\"#46039f\"],[0.2222222222222222,\"#7201a8\"],[0.3333333333333333,\"#9c179e\"],[0.4444444444444444,\"#bd3786\"],[0.5555555555555556,\"#d8576b\"],[0.6666666666666666,\"#ed7953\"],[0.7777777777777778,\"#fb9f3a\"],[0.8888888888888888,\"#fdca26\"],[1.0,\"#f0f921\"]]}],\"heatmap\":[{\"type\":\"heatmap\",\"colorbar\":{\"outlinewidth\":0,\"ticks\":\"\"},\"colorscale\":[[0.0,\"#0d0887\"],[0.1111111111111111,\"#46039f\"],[0.2222222222222222,\"#7201a8\"],[0.3333333333333333,\"#9c179e\"],[0.4444444444444444,\"#bd3786\"],[0.5555555555555556,\"#d8576b\"],[0.6666666666666666,\"#ed7953\"],[0.7777777777777778,\"#fb9f3a\"],[0.8888888888888888,\"#fdca26\"],[1.0,\"#f0f921\"]]}],\"heatmapgl\":[{\"type\":\"heatmapgl\",\"colorbar\":{\"outlinewidth\":0,\"ticks\":\"\"},\"colorscale\":[[0.0,\"#0d0887\"],[0.1111111111111111,\"#46039f\"],[0.2222222222222222,\"#7201a8\"],[0.3333333333333333,\"#9c179e\"],[0.4444444444444444,\"#bd3786\"],[0.5555555555555556,\"#d8576b\"],[0.6666666666666666,\"#ed7953\"],[0.7777777777777778,\"#fb9f3a\"],[0.8888888888888888,\"#fdca26\"],[1.0,\"#f0f921\"]]}],\"contourcarpet\":[{\"type\":\"contourcarpet\",\"colorbar\":{\"outlinewidth\":0,\"ticks\":\"\"}}],\"contour\":[{\"type\":\"contour\",\"colorbar\":{\"outlinewidth\":0,\"ticks\":\"\"},\"colorscale\":[[0.0,\"#0d0887\"],[0.1111111111111111,\"#46039f\"],[0.2222222222222222,\"#7201a8\"],[0.3333333333333333,\"#9c179e\"],[0.4444444444444444,\"#bd3786\"],[0.5555555555555556,\"#d8576b\"],[0.6666666666666666,\"#ed7953\"],[0.7777777777777778,\"#fb9f3a\"],[0.8888888888888888,\"#fdca26\"],[1.0,\"#f0f921\"]]}],\"surface\":[{\"type\":\"surface\",\"colorbar\":{\"outlinewidth\":0,\"ticks\":\"\"},\"colorscale\":[[0.0,\"#0d0887\"],[0.1111111111111111,\"#46039f\"],[0.2222222222222222,\"#7201a8\"],[0.3333333333333333,\"#9c179e\"],[0.4444444444444444,\"#bd3786\"],[0.5555555555555556,\"#d8576b\"],[0.6666666666666666,\"#ed7953\"],[0.7777777777777778,\"#fb9f3a\"],[0.8888888888888888,\"#fdca26\"],[1.0,\"#f0f921\"]]}],\"mesh3d\":[{\"type\":\"mesh3d\",\"colorbar\":{\"outlinewidth\":0,\"ticks\":\"\"}}],\"scatter\":[{\"fillpattern\":{\"fillmode\":\"overlay\",\"size\":10,\"solidity\":0.2},\"type\":\"scatter\"}],\"parcoords\":[{\"type\":\"parcoords\",\"line\":{\"colorbar\":{\"outlinewidth\":0,\"ticks\":\"\"}}}],\"scatterpolargl\":[{\"type\":\"scatterpolargl\",\"marker\":{\"colorbar\":{\"outlinewidth\":0,\"ticks\":\"\"}}}],\"bar\":[{\"error_x\":{\"color\":\"#2a3f5f\"},\"error_y\":{\"color\":\"#2a3f5f\"},\"marker\":{\"line\":{\"color\":\"#E5ECF6\",\"width\":0.5},\"pattern\":{\"fillmode\":\"overlay\",\"size\":10,\"solidity\":0.2}},\"type\":\"bar\"}],\"scattergeo\":[{\"type\":\"scattergeo\",\"marker\":{\"colorbar\":{\"outlinewidth\":0,\"ticks\":\"\"}}}],\"scatterpolar\":[{\"type\":\"scatterpolar\",\"marker\":{\"colorbar\":{\"outlinewidth\":0,\"ticks\":\"\"}}}],\"histogram\":[{\"marker\":{\"pattern\":{\"fillmode\":\"overlay\",\"size\":10,\"solidity\":0.2}},\"type\":\"histogram\"}],\"scattergl\":[{\"type\":\"scattergl\",\"marker\":{\"colorbar\":{\"outlinewidth\":0,\"ticks\":\"\"}}}],\"scatter3d\":[{\"type\":\"scatter3d\",\"line\":{\"colorbar\":{\"outlinewidth\":0,\"ticks\":\"\"}},\"marker\":{\"colorbar\":{\"outlinewidth\":0,\"ticks\":\"\"}}}],\"scattermapbox\":[{\"type\":\"scattermapbox\",\"marker\":{\"colorbar\":{\"outlinewidth\":0,\"ticks\":\"\"}}}],\"scatterternary\":[{\"type\":\"scatterternary\",\"marker\":{\"colorbar\":{\"outlinewidth\":0,\"ticks\":\"\"}}}],\"scattercarpet\":[{\"type\":\"scattercarpet\",\"marker\":{\"colorbar\":{\"outlinewidth\":0,\"ticks\":\"\"}}}],\"carpet\":[{\"aaxis\":{\"endlinecolor\":\"#2a3f5f\",\"gridcolor\":\"white\",\"linecolor\":\"white\",\"minorgridcolor\":\"white\",\"startlinecolor\":\"#2a3f5f\"},\"baxis\":{\"endlinecolor\":\"#2a3f5f\",\"gridcolor\":\"white\",\"linecolor\":\"white\",\"minorgridcolor\":\"white\",\"startlinecolor\":\"#2a3f5f\"},\"type\":\"carpet\"}],\"table\":[{\"cells\":{\"fill\":{\"color\":\"#EBF0F8\"},\"line\":{\"color\":\"white\"}},\"header\":{\"fill\":{\"color\":\"#C8D4E3\"},\"line\":{\"color\":\"white\"}},\"type\":\"table\"}],\"barpolar\":[{\"marker\":{\"line\":{\"color\":\"#E5ECF6\",\"width\":0.5},\"pattern\":{\"fillmode\":\"overlay\",\"size\":10,\"solidity\":0.2}},\"type\":\"barpolar\"}],\"pie\":[{\"automargin\":true,\"type\":\"pie\"}]},\"layout\":{\"autotypenumbers\":\"strict\",\"colorway\":[\"#636efa\",\"#EF553B\",\"#00cc96\",\"#ab63fa\",\"#FFA15A\",\"#19d3f3\",\"#FF6692\",\"#B6E880\",\"#FF97FF\",\"#FECB52\"],\"font\":{\"color\":\"#2a3f5f\"},\"hovermode\":\"closest\",\"hoverlabel\":{\"align\":\"left\"},\"paper_bgcolor\":\"white\",\"plot_bgcolor\":\"#E5ECF6\",\"polar\":{\"bgcolor\":\"#E5ECF6\",\"angularaxis\":{\"gridcolor\":\"white\",\"linecolor\":\"white\",\"ticks\":\"\"},\"radialaxis\":{\"gridcolor\":\"white\",\"linecolor\":\"white\",\"ticks\":\"\"}},\"ternary\":{\"bgcolor\":\"#E5ECF6\",\"aaxis\":{\"gridcolor\":\"white\",\"linecolor\":\"white\",\"ticks\":\"\"},\"baxis\":{\"gridcolor\":\"white\",\"linecolor\":\"white\",\"ticks\":\"\"},\"caxis\":{\"gridcolor\":\"white\",\"linecolor\":\"white\",\"ticks\":\"\"}},\"coloraxis\":{\"colorbar\":{\"outlinewidth\":0,\"ticks\":\"\"}},\"colorscale\":{\"sequential\":[[0.0,\"#0d0887\"],[0.1111111111111111,\"#46039f\"],[0.2222222222222222,\"#7201a8\"],[0.3333333333333333,\"#9c179e\"],[0.4444444444444444,\"#bd3786\"],[0.5555555555555556,\"#d8576b\"],[0.6666666666666666,\"#ed7953\"],[0.7777777777777778,\"#fb9f3a\"],[0.8888888888888888,\"#fdca26\"],[1.0,\"#f0f921\"]],\"sequentialminus\":[[0.0,\"#0d0887\"],[0.1111111111111111,\"#46039f\"],[0.2222222222222222,\"#7201a8\"],[0.3333333333333333,\"#9c179e\"],[0.4444444444444444,\"#bd3786\"],[0.5555555555555556,\"#d8576b\"],[0.6666666666666666,\"#ed7953\"],[0.7777777777777778,\"#fb9f3a\"],[0.8888888888888888,\"#fdca26\"],[1.0,\"#f0f921\"]],\"diverging\":[[0,\"#8e0152\"],[0.1,\"#c51b7d\"],[0.2,\"#de77ae\"],[0.3,\"#f1b6da\"],[0.4,\"#fde0ef\"],[0.5,\"#f7f7f7\"],[0.6,\"#e6f5d0\"],[0.7,\"#b8e186\"],[0.8,\"#7fbc41\"],[0.9,\"#4d9221\"],[1,\"#276419\"]]},\"xaxis\":{\"gridcolor\":\"white\",\"linecolor\":\"white\",\"ticks\":\"\",\"title\":{\"standoff\":15},\"zerolinecolor\":\"white\",\"automargin\":true,\"zerolinewidth\":2},\"yaxis\":{\"gridcolor\":\"white\",\"linecolor\":\"white\",\"ticks\":\"\",\"title\":{\"standoff\":15},\"zerolinecolor\":\"white\",\"automargin\":true,\"zerolinewidth\":2},\"scene\":{\"xaxis\":{\"backgroundcolor\":\"#E5ECF6\",\"gridcolor\":\"white\",\"linecolor\":\"white\",\"showbackground\":true,\"ticks\":\"\",\"zerolinecolor\":\"white\",\"gridwidth\":2},\"yaxis\":{\"backgroundcolor\":\"#E5ECF6\",\"gridcolor\":\"white\",\"linecolor\":\"white\",\"showbackground\":true,\"ticks\":\"\",\"zerolinecolor\":\"white\",\"gridwidth\":2},\"zaxis\":{\"backgroundcolor\":\"#E5ECF6\",\"gridcolor\":\"white\",\"linecolor\":\"white\",\"showbackground\":true,\"ticks\":\"\",\"zerolinecolor\":\"white\",\"gridwidth\":2}},\"shapedefaults\":{\"line\":{\"color\":\"#2a3f5f\"}},\"annotationdefaults\":{\"arrowcolor\":\"#2a3f5f\",\"arrowhead\":0,\"arrowwidth\":1},\"geo\":{\"bgcolor\":\"white\",\"landcolor\":\"#E5ECF6\",\"subunitcolor\":\"white\",\"showland\":true,\"showlakes\":true,\"lakecolor\":\"white\"},\"title\":{\"x\":0.05},\"mapbox\":{\"style\":\"light\"}}},\"xaxis\":{\"anchor\":\"y\",\"domain\":[0.0,1.0],\"title\":{\"text\":\"Category\"}},\"yaxis\":{\"anchor\":\"x\",\"domain\":[0.0,1.0],\"title\":{\"text\":\"No\"}},\"legend\":{\"tracegroupgap\":0},\"margin\":{\"t\":60},\"barmode\":\"relative\",\"height\":800,\"width\":1000},                        {\"responsive\": true}                    ).then(function(){\n",
       "                            \n",
       "var gd = document.getElementById('8ebe9e1c-6cee-4b18-a268-6670e978a5f2');\n",
       "var x = new MutationObserver(function (mutations, observer) {{\n",
       "        var display = window.getComputedStyle(gd).display;\n",
       "        if (!display || display === 'none') {{\n",
       "            console.log([gd, 'removed!']);\n",
       "            Plotly.purge(gd);\n",
       "            observer.disconnect();\n",
       "        }}\n",
       "}});\n",
       "\n",
       "// Listen for the removal of the full notebook cells\n",
       "var notebookContainer = gd.closest('#notebook-container');\n",
       "if (notebookContainer) {{\n",
       "    x.observe(notebookContainer, {childList: true});\n",
       "}}\n",
       "\n",
       "// Listen for the clearing of the current output cell\n",
       "var outputEl = gd.closest('.output');\n",
       "if (outputEl) {{\n",
       "    x.observe(outputEl, {childList: true});\n",
       "}}\n",
       "\n",
       "                        })                };                });            </script>        </div>"
      ]
     },
     "metadata": {},
     "output_type": "display_data"
    }
   ],
   "source": [
    "px.bar(df_com_veh_inusesel,x=\"Category\",y=\"No\",height=800,width=1000, text_auto='.2s')"
   ]
  },
  {
   "cell_type": "code",
   "execution_count": 43,
   "id": "1213a908-c257-40ef-8adc-8c3878840067",
   "metadata": {},
   "outputs": [
    {
     "data": {
      "text/html": [
       "<div>\n",
       "<style scoped>\n",
       "    .dataframe tbody tr th:only-of-type {\n",
       "        vertical-align: middle;\n",
       "    }\n",
       "\n",
       "    .dataframe tbody tr th {\n",
       "        vertical-align: top;\n",
       "    }\n",
       "\n",
       "    .dataframe thead th {\n",
       "        text-align: right;\n",
       "    }\n",
       "</style>\n",
       "<table border=\"1\" class=\"dataframe\">\n",
       "  <thead>\n",
       "    <tr style=\"text-align: right;\">\n",
       "      <th></th>\n",
       "      <th>Category</th>\n",
       "      <th>No</th>\n",
       "    </tr>\n",
       "  </thead>\n",
       "  <tbody>\n",
       "    <tr>\n",
       "      <th>1</th>\n",
       "      <td>Stage Carriage - Public (STU)</td>\n",
       "      <td>192933.0</td>\n",
       "    </tr>\n",
       "    <tr>\n",
       "      <th>2</th>\n",
       "      <td>Stage Carriage - Private</td>\n",
       "      <td>175068.0</td>\n",
       "    </tr>\n",
       "    <tr>\n",
       "      <th>3</th>\n",
       "      <td>Contract Carriages - Auto Rickshaw</td>\n",
       "      <td>3908997.0</td>\n",
       "    </tr>\n",
       "    <tr>\n",
       "      <th>4</th>\n",
       "      <td>Contract Carriages - E-Rickshaw</td>\n",
       "      <td>24105.0</td>\n",
       "    </tr>\n",
       "    <tr>\n",
       "      <th>5</th>\n",
       "      <td>Contract Carriages - Ordinary Taxi</td>\n",
       "      <td>260424.0</td>\n",
       "    </tr>\n",
       "    <tr>\n",
       "      <th>6</th>\n",
       "      <td>Contract Carriages - Motor Cab (SP)</td>\n",
       "      <td>695394.0</td>\n",
       "    </tr>\n",
       "    <tr>\n",
       "      <th>7</th>\n",
       "      <td>Contract Carriages - Motor Cab (AIP)</td>\n",
       "      <td>548276.0</td>\n",
       "    </tr>\n",
       "    <tr>\n",
       "      <th>8</th>\n",
       "      <td>Contract Carriages - Maxi Cab (SP)</td>\n",
       "      <td>343603.0</td>\n",
       "    </tr>\n",
       "    <tr>\n",
       "      <th>9</th>\n",
       "      <td>Contract Carriages - Maxi Cab (AIP)</td>\n",
       "      <td>115581.0</td>\n",
       "    </tr>\n",
       "    <tr>\n",
       "      <th>10</th>\n",
       "      <td>Contract Carriages - Omni Bus (SP)</td>\n",
       "      <td>40031.0</td>\n",
       "    </tr>\n",
       "    <tr>\n",
       "      <th>11</th>\n",
       "      <td>Contract Carriages - Omni Bus (AIP)</td>\n",
       "      <td>7569.0</td>\n",
       "    </tr>\n",
       "    <tr>\n",
       "      <th>12</th>\n",
       "      <td>Contract Carriages - Any Other</td>\n",
       "      <td>154330.0</td>\n",
       "    </tr>\n",
       "    <tr>\n",
       "      <th>13</th>\n",
       "      <td>Private Service Vehicle - Edu Inst. Buses</td>\n",
       "      <td>253536.0</td>\n",
       "    </tr>\n",
       "    <tr>\n",
       "      <th>14</th>\n",
       "      <td>Private Service Vehicle - Ambulance</td>\n",
       "      <td>45498.0</td>\n",
       "    </tr>\n",
       "    <tr>\n",
       "      <th>15</th>\n",
       "      <td>Private Service Vehicle - Fire Fighter</td>\n",
       "      <td>2937.0</td>\n",
       "    </tr>\n",
       "    <tr>\n",
       "      <th>16</th>\n",
       "      <td>Private Service Vehicle - Any Other</td>\n",
       "      <td>63986.0</td>\n",
       "    </tr>\n",
       "    <tr>\n",
       "      <th>17</th>\n",
       "      <td>Goods Carriages - Lorry (SP)</td>\n",
       "      <td>1639291.0</td>\n",
       "    </tr>\n",
       "    <tr>\n",
       "      <th>18</th>\n",
       "      <td>Goods Carriages - Lorry (NP)</td>\n",
       "      <td>697608.0</td>\n",
       "    </tr>\n",
       "    <tr>\n",
       "      <th>19</th>\n",
       "      <td>Goods Carriages - Tankers (SP)</td>\n",
       "      <td>134159.0</td>\n",
       "    </tr>\n",
       "    <tr>\n",
       "      <th>20</th>\n",
       "      <td>Goods Carriages - Tankers (NP)</td>\n",
       "      <td>173369.0</td>\n",
       "    </tr>\n",
       "    <tr>\n",
       "      <th>21</th>\n",
       "      <td>Goods Carriages - Tractors and Trailor</td>\n",
       "      <td>1695388.0</td>\n",
       "    </tr>\n",
       "    <tr>\n",
       "      <th>22</th>\n",
       "      <td>Goods Carriages - LMV</td>\n",
       "      <td>1937728.0</td>\n",
       "    </tr>\n",
       "    <tr>\n",
       "      <th>23</th>\n",
       "      <td>Goods Carriages - Multiaxled / Articulated Veh...</td>\n",
       "      <td>347149.0</td>\n",
       "    </tr>\n",
       "    <tr>\n",
       "      <th>24</th>\n",
       "      <td>Goods Carriages - Multiaxled / Articulated Veh...</td>\n",
       "      <td>235074.0</td>\n",
       "    </tr>\n",
       "    <tr>\n",
       "      <th>25</th>\n",
       "      <td>Goods Carriages - Any Other</td>\n",
       "      <td>585015.0</td>\n",
       "    </tr>\n",
       "  </tbody>\n",
       "</table>\n",
       "</div>"
      ],
      "text/plain": [
       "                                             Category         No\n",
       "1                       Stage Carriage - Public (STU)   192933.0\n",
       "2                            Stage Carriage - Private   175068.0\n",
       "3                  Contract Carriages - Auto Rickshaw  3908997.0\n",
       "4                     Contract Carriages - E-Rickshaw    24105.0\n",
       "5                  Contract Carriages - Ordinary Taxi   260424.0\n",
       "6                 Contract Carriages - Motor Cab (SP)   695394.0\n",
       "7                Contract Carriages - Motor Cab (AIP)   548276.0\n",
       "8                  Contract Carriages - Maxi Cab (SP)   343603.0\n",
       "9                 Contract Carriages - Maxi Cab (AIP)   115581.0\n",
       "10                 Contract Carriages - Omni Bus (SP)    40031.0\n",
       "11                Contract Carriages - Omni Bus (AIP)     7569.0\n",
       "12                     Contract Carriages - Any Other   154330.0\n",
       "13          Private Service Vehicle - Edu Inst. Buses   253536.0\n",
       "14                Private Service Vehicle - Ambulance    45498.0\n",
       "15             Private Service Vehicle - Fire Fighter     2937.0\n",
       "16                Private Service Vehicle - Any Other    63986.0\n",
       "17                       Goods Carriages - Lorry (SP)  1639291.0\n",
       "18                       Goods Carriages - Lorry (NP)   697608.0\n",
       "19                     Goods Carriages - Tankers (SP)   134159.0\n",
       "20                     Goods Carriages - Tankers (NP)   173369.0\n",
       "21             Goods Carriages - Tractors and Trailor  1695388.0\n",
       "22                              Goods Carriages - LMV  1937728.0\n",
       "23  Goods Carriages - Multiaxled / Articulated Veh...   347149.0\n",
       "24  Goods Carriages - Multiaxled / Articulated Veh...   235074.0\n",
       "25                        Goods Carriages - Any Other   585015.0"
      ]
     },
     "execution_count": 43,
     "metadata": {},
     "output_type": "execute_result"
    }
   ],
   "source": [
    "df_com_veh_inusesel[:-1]"
   ]
  },
  {
   "cell_type": "code",
   "execution_count": 2,
   "id": "a48644db-2f6c-4651-9782-8aee3cbc97c2",
   "metadata": {},
   "outputs": [],
   "source": [
    "df5120=pd.read_csv(f\"datasets/transport/Year-wise Total Number of Registered Motor Vehicles in India from 1951 to 2020.csv\")\n",
    "\n",
    "df5120_columns=df5120.columns"
   ]
  },
  {
   "cell_type": "code",
   "execution_count": 4,
   "id": "a64e9dea-910f-41d5-846c-166290a35963",
   "metadata": {},
   "outputs": [
    {
     "data": {
      "text/plain": [
       "['Year (As on 31st March)',\n",
       " 'All Vehicles (In thousands)',\n",
       " 'Two Wheelers (In thousands)',\n",
       " 'Cars, Jeeps and Taxis (In thousands)',\n",
       " 'Buses (In thousands)',\n",
       " 'Goods Vehicles (In thousands)',\n",
       " 'Others (In thousands)']"
      ]
     },
     "execution_count": 4,
     "metadata": {},
     "output_type": "execute_result"
    }
   ],
   "source": [
    "list(df5120_columns)"
   ]
  },
  {
   "cell_type": "code",
   "execution_count": null,
   "id": "c31eeaf1-49db-46c4-80b8-1d4bc90d8d54",
   "metadata": {},
   "outputs": [],
   "source": []
  }
 ],
 "metadata": {
  "kernelspec": {
   "display_name": "Python 3 (ipykernel)",
   "language": "python",
   "name": "python3"
  },
  "language_info": {
   "codemirror_mode": {
    "name": "ipython",
    "version": 3
   },
   "file_extension": ".py",
   "mimetype": "text/x-python",
   "name": "python",
   "nbconvert_exporter": "python",
   "pygments_lexer": "ipython3",
   "version": "3.12.0"
  }
 },
 "nbformat": 4,
 "nbformat_minor": 5
}
